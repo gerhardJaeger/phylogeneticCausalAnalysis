{
 "cells": [
  {
   "cell_type": "code",
   "execution_count": 1,
   "id": "understanding-grove",
   "metadata": {},
   "outputs": [
    {
     "name": "stderr",
     "output_type": "stream",
     "text": [
      "── \u001b[1mAttaching packages\u001b[22m ────────────────────────────────────────────────────────────────────────────────────────────────────────────────────────────────────────────────────────────────────────── tidyverse 1.3.1 ──\n",
      "\n",
      "\u001b[32m✔\u001b[39m \u001b[34mggplot2\u001b[39m 3.3.3     \u001b[32m✔\u001b[39m \u001b[34mpurrr  \u001b[39m 0.3.4\n",
      "\u001b[32m✔\u001b[39m \u001b[34mtibble \u001b[39m 3.1.7     \u001b[32m✔\u001b[39m \u001b[34mdplyr  \u001b[39m 1.0.9\n",
      "\u001b[32m✔\u001b[39m \u001b[34mtidyr  \u001b[39m 1.2.0     \u001b[32m✔\u001b[39m \u001b[34mstringr\u001b[39m 1.4.0\n",
      "\u001b[32m✔\u001b[39m \u001b[34mreadr  \u001b[39m 1.4.0     \u001b[32m✔\u001b[39m \u001b[34mforcats\u001b[39m 0.5.1\n",
      "\n",
      "── \u001b[1mConflicts\u001b[22m ───────────────────────────────────────────────────────────────────────────────────────────────────────────────────────────────────────────────────────────────────────────── tidyverse_conflicts() ──\n",
      "\u001b[31m✖\u001b[39m \u001b[34mdplyr\u001b[39m::\u001b[32mfilter()\u001b[39m  masks \u001b[34mstats\u001b[39m::filter()\n",
      "\u001b[31m✖\u001b[39m \u001b[34mpurrr\u001b[39m::\u001b[32mflatten()\u001b[39m masks \u001b[34mjsonlite\u001b[39m::flatten()\n",
      "\u001b[31m✖\u001b[39m \u001b[34mdplyr\u001b[39m::\u001b[32mlag()\u001b[39m     masks \u001b[34mstats\u001b[39m::lag()\n",
      "\n",
      "\n",
      "Attaching package: ‘igraph’\n",
      "\n",
      "\n",
      "The following objects are masked from ‘package:ape’:\n",
      "\n",
      "    edges, mst, ring\n",
      "\n",
      "\n",
      "The following objects are masked from ‘package:dplyr’:\n",
      "\n",
      "    as_data_frame, groups, union\n",
      "\n",
      "\n",
      "The following objects are masked from ‘package:purrr’:\n",
      "\n",
      "    compose, simplify\n",
      "\n",
      "\n",
      "The following object is masked from ‘package:tidyr’:\n",
      "\n",
      "    crossing\n",
      "\n",
      "\n",
      "The following object is masked from ‘package:tibble’:\n",
      "\n",
      "    as_data_frame\n",
      "\n",
      "\n",
      "The following objects are masked from ‘package:stats’:\n",
      "\n",
      "    decompose, spectrum\n",
      "\n",
      "\n",
      "The following object is masked from ‘package:base’:\n",
      "\n",
      "    union\n",
      "\n",
      "\n",
      "\n",
      "Attaching package: ‘nlme’\n",
      "\n",
      "\n",
      "The following object is masked from ‘package:dplyr’:\n",
      "\n",
      "    collapse\n",
      "\n",
      "\n"
     ]
    }
   ],
   "source": [
    "library(tidyverse)\n",
    "library(ape)\n",
    "library(igraph)\n",
    "library(nlme)"
   ]
  },
  {
   "cell_type": "markdown",
   "id": "indonesian-fruit",
   "metadata": {},
   "source": [
    "### reading in the data"
   ]
  },
  {
   "cell_type": "code",
   "execution_count": 2,
   "id": "sporting-reference",
   "metadata": {},
   "outputs": [
    {
     "name": "stderr",
     "output_type": "stream",
     "text": [
      "\n",
      "\u001b[36m──\u001b[39m \u001b[1mColumn specification\u001b[22m \u001b[36m───────────────────────────────────────────────────────────────────────────────────────────────────────────────────────────────────────────────────────────────────────────────────────────\u001b[39m\n",
      "cols(\n",
      "  Glottocode = \u001b[31mcol_character()\u001b[39m,\n",
      "  Language = \u001b[31mcol_character()\u001b[39m,\n",
      "  Genus = \u001b[31mcol_character()\u001b[39m,\n",
      "  Case_Marking = \u001b[32mcol_double()\u001b[39m,\n",
      "  Tight_Semantics = \u001b[32mcol_double()\u001b[39m,\n",
      "  Rigid_Order = \u001b[32mcol_double()\u001b[39m,\n",
      "  Verb_Middle = \u001b[32mcol_double()\u001b[39m\n",
      ")\n",
      "\n"
     ]
    }
   ],
   "source": [
    "d <- read_csv(\"../data/data_cues.txt\")"
   ]
  },
  {
   "cell_type": "code",
   "execution_count": 3,
   "id": "collaborative-rebel",
   "metadata": {},
   "outputs": [
    {
     "data": {
      "text/html": [
       "<table class=\"dataframe\">\n",
       "<caption>A tibble: 6 × 7</caption>\n",
       "<thead>\n",
       "\t<tr><th scope=col>Glottocode</th><th scope=col>Language</th><th scope=col>Genus</th><th scope=col>Case_Marking</th><th scope=col>Tight_Semantics</th><th scope=col>Rigid_Order</th><th scope=col>Verb_Middle</th></tr>\n",
       "\t<tr><th scope=col>&lt;chr&gt;</th><th scope=col>&lt;chr&gt;</th><th scope=col>&lt;chr&gt;</th><th scope=col>&lt;dbl&gt;</th><th scope=col>&lt;dbl&gt;</th><th scope=col>&lt;dbl&gt;</th><th scope=col>&lt;dbl&gt;</th></tr>\n",
       "</thead>\n",
       "<tbody>\n",
       "\t<tr><td>stan1318</td><td>Arabic   </td><td>Semitic </td><td>0.036</td><td>0.218</td><td>0.655</td><td>0.391</td></tr>\n",
       "\t<tr><td>bulg1262</td><td>Bulgarian</td><td>Slavic  </td><td>0.028</td><td>0.144</td><td>0.782</td><td>0.966</td></tr>\n",
       "\t<tr><td>croa1245</td><td>Croatian </td><td>Slavic  </td><td>0.415</td><td>0.147</td><td>0.414</td><td>0.900</td></tr>\n",
       "\t<tr><td>czec1258</td><td>Czech    </td><td>Slavic  </td><td>0.525</td><td>0.172</td><td>0.240</td><td>0.818</td></tr>\n",
       "\t<tr><td>dani1285</td><td>Danish   </td><td>Germanic</td><td>0.000</td><td>0.208</td><td>0.926</td><td>0.912</td></tr>\n",
       "\t<tr><td>dutc1256</td><td>Dutch    </td><td>Germanic</td><td>0.000</td><td>0.214</td><td>0.817</td><td>0.462</td></tr>\n",
       "</tbody>\n",
       "</table>\n"
      ],
      "text/latex": [
       "A tibble: 6 × 7\n",
       "\\begin{tabular}{lllllll}\n",
       " Glottocode & Language & Genus & Case\\_Marking & Tight\\_Semantics & Rigid\\_Order & Verb\\_Middle\\\\\n",
       " <chr> & <chr> & <chr> & <dbl> & <dbl> & <dbl> & <dbl>\\\\\n",
       "\\hline\n",
       "\t stan1318 & Arabic    & Semitic  & 0.036 & 0.218 & 0.655 & 0.391\\\\\n",
       "\t bulg1262 & Bulgarian & Slavic   & 0.028 & 0.144 & 0.782 & 0.966\\\\\n",
       "\t croa1245 & Croatian  & Slavic   & 0.415 & 0.147 & 0.414 & 0.900\\\\\n",
       "\t czec1258 & Czech     & Slavic   & 0.525 & 0.172 & 0.240 & 0.818\\\\\n",
       "\t dani1285 & Danish    & Germanic & 0.000 & 0.208 & 0.926 & 0.912\\\\\n",
       "\t dutc1256 & Dutch     & Germanic & 0.000 & 0.214 & 0.817 & 0.462\\\\\n",
       "\\end{tabular}\n"
      ],
      "text/markdown": [
       "\n",
       "A tibble: 6 × 7\n",
       "\n",
       "| Glottocode &lt;chr&gt; | Language &lt;chr&gt; | Genus &lt;chr&gt; | Case_Marking &lt;dbl&gt; | Tight_Semantics &lt;dbl&gt; | Rigid_Order &lt;dbl&gt; | Verb_Middle &lt;dbl&gt; |\n",
       "|---|---|---|---|---|---|---|\n",
       "| stan1318 | Arabic    | Semitic  | 0.036 | 0.218 | 0.655 | 0.391 |\n",
       "| bulg1262 | Bulgarian | Slavic   | 0.028 | 0.144 | 0.782 | 0.966 |\n",
       "| croa1245 | Croatian  | Slavic   | 0.415 | 0.147 | 0.414 | 0.900 |\n",
       "| czec1258 | Czech     | Slavic   | 0.525 | 0.172 | 0.240 | 0.818 |\n",
       "| dani1285 | Danish    | Germanic | 0.000 | 0.208 | 0.926 | 0.912 |\n",
       "| dutc1256 | Dutch     | Germanic | 0.000 | 0.214 | 0.817 | 0.462 |\n",
       "\n"
      ],
      "text/plain": [
       "  Glottocode Language  Genus    Case_Marking Tight_Semantics Rigid_Order\n",
       "1 stan1318   Arabic    Semitic  0.036        0.218           0.655      \n",
       "2 bulg1262   Bulgarian Slavic   0.028        0.144           0.782      \n",
       "3 croa1245   Croatian  Slavic   0.415        0.147           0.414      \n",
       "4 czec1258   Czech     Slavic   0.525        0.172           0.240      \n",
       "5 dani1285   Danish    Germanic 0.000        0.208           0.926      \n",
       "6 dutc1256   Dutch     Germanic 0.000        0.214           0.817      \n",
       "  Verb_Middle\n",
       "1 0.391      \n",
       "2 0.966      \n",
       "3 0.900      \n",
       "4 0.818      \n",
       "5 0.912      \n",
       "6 0.462      "
      ]
     },
     "metadata": {},
     "output_type": "display_data"
    }
   ],
   "source": [
    "head(d)"
   ]
  },
  {
   "cell_type": "markdown",
   "id": "statewide-municipality",
   "metadata": {},
   "source": [
    "### preprocessing\n",
    "\n",
    "I scaled the four variables to mean 0 and standard deviation 1.\n",
    "\n",
    "The coding is:\n",
    "\n",
    "- `x1`: Case_Marking\n",
    "- `x2`: Tight_Semantics\n",
    "- `x3`: Rigid_Order\n",
    "- `x4`: Verb_middle\n",
    "\n"
   ]
  },
  {
   "cell_type": "code",
   "execution_count": 4,
   "id": "noted-agent",
   "metadata": {},
   "outputs": [],
   "source": [
    "\n",
    "rescale <- function(x, e = 0.0001) {\n",
    "    y = ifelse(x == 1, x - e, x)\n",
    "    ifelse(y == 0, y + e, y)\n",
    "}\n"
   ]
  },
  {
   "cell_type": "code",
   "execution_count": 5,
   "id": "yellow-massage",
   "metadata": {},
   "outputs": [],
   "source": [
    "logit <- function(x) {\n",
    "    log(x / (1-x))\n",
    "}"
   ]
  },
  {
   "cell_type": "code",
   "execution_count": 6,
   "id": "herbal-integer",
   "metadata": {},
   "outputs": [
    {
     "data": {
      "text/html": [
       "<table class=\"dataframe\">\n",
       "<caption>A tibble: 6 × 11</caption>\n",
       "<thead>\n",
       "\t<tr><th scope=col>Glottocode</th><th scope=col>Language</th><th scope=col>Genus</th><th scope=col>Case_Marking</th><th scope=col>Tight_Semantics</th><th scope=col>Rigid_Order</th><th scope=col>Verb_Middle</th><th scope=col>x1</th><th scope=col>x2</th><th scope=col>x3</th><th scope=col>x4</th></tr>\n",
       "\t<tr><th scope=col>&lt;chr&gt;</th><th scope=col>&lt;chr&gt;</th><th scope=col>&lt;chr&gt;</th><th scope=col>&lt;dbl&gt;</th><th scope=col>&lt;dbl&gt;</th><th scope=col>&lt;dbl&gt;</th><th scope=col>&lt;dbl&gt;</th><th scope=col>&lt;dbl&gt;</th><th scope=col>&lt;dbl&gt;</th><th scope=col>&lt;dbl&gt;</th><th scope=col>&lt;dbl&gt;</th></tr>\n",
       "</thead>\n",
       "<tbody>\n",
       "\t<tr><td>stan1318</td><td>Arabic   </td><td>Semitic </td><td>0.036</td><td>0.218</td><td>0.655</td><td>0.391</td><td>-3.2875724</td><td>-1.277360</td><td> 0.6410908</td><td>-0.4431107</td></tr>\n",
       "\t<tr><td>bulg1262</td><td>Bulgarian</td><td>Slavic  </td><td>0.028</td><td>0.144</td><td>0.782</td><td>0.966</td><td>-3.5471513</td><td>-1.782457</td><td> 1.2773597</td><td> 3.3468033</td></tr>\n",
       "\t<tr><td>croa1245</td><td>Croatian </td><td>Slavic  </td><td>0.415</td><td>0.147</td><td>0.414</td><td>0.900</td><td>-0.3433333</td><td>-1.758327</td><td>-0.3474538</td><td> 2.1972246</td></tr>\n",
       "\t<tr><td>czec1258</td><td>Czech    </td><td>Slavic  </td><td>0.525</td><td>0.172</td><td>0.240</td><td>0.818</td><td> 0.1000835</td><td>-1.571519</td><td>-1.1526795</td><td> 1.5028556</td></tr>\n",
       "\t<tr><td>dani1285</td><td>Danish   </td><td>Germanic</td><td>0.000</td><td>0.208</td><td>0.926</td><td>0.912</td><td>-9.2102404</td><td>-1.337023</td><td> 2.5268091</td><td> 2.3383032</td></tr>\n",
       "\t<tr><td>dutc1256</td><td>Dutch    </td><td>Germanic</td><td>0.000</td><td>0.214</td><td>0.817</td><td>0.462</td><td>-9.2102404</td><td>-1.300981</td><td> 1.4961529</td><td>-0.1522937</td></tr>\n",
       "</tbody>\n",
       "</table>\n"
      ],
      "text/latex": [
       "A tibble: 6 × 11\n",
       "\\begin{tabular}{lllllllllll}\n",
       " Glottocode & Language & Genus & Case\\_Marking & Tight\\_Semantics & Rigid\\_Order & Verb\\_Middle & x1 & x2 & x3 & x4\\\\\n",
       " <chr> & <chr> & <chr> & <dbl> & <dbl> & <dbl> & <dbl> & <dbl> & <dbl> & <dbl> & <dbl>\\\\\n",
       "\\hline\n",
       "\t stan1318 & Arabic    & Semitic  & 0.036 & 0.218 & 0.655 & 0.391 & -3.2875724 & -1.277360 &  0.6410908 & -0.4431107\\\\\n",
       "\t bulg1262 & Bulgarian & Slavic   & 0.028 & 0.144 & 0.782 & 0.966 & -3.5471513 & -1.782457 &  1.2773597 &  3.3468033\\\\\n",
       "\t croa1245 & Croatian  & Slavic   & 0.415 & 0.147 & 0.414 & 0.900 & -0.3433333 & -1.758327 & -0.3474538 &  2.1972246\\\\\n",
       "\t czec1258 & Czech     & Slavic   & 0.525 & 0.172 & 0.240 & 0.818 &  0.1000835 & -1.571519 & -1.1526795 &  1.5028556\\\\\n",
       "\t dani1285 & Danish    & Germanic & 0.000 & 0.208 & 0.926 & 0.912 & -9.2102404 & -1.337023 &  2.5268091 &  2.3383032\\\\\n",
       "\t dutc1256 & Dutch     & Germanic & 0.000 & 0.214 & 0.817 & 0.462 & -9.2102404 & -1.300981 &  1.4961529 & -0.1522937\\\\\n",
       "\\end{tabular}\n"
      ],
      "text/markdown": [
       "\n",
       "A tibble: 6 × 11\n",
       "\n",
       "| Glottocode &lt;chr&gt; | Language &lt;chr&gt; | Genus &lt;chr&gt; | Case_Marking &lt;dbl&gt; | Tight_Semantics &lt;dbl&gt; | Rigid_Order &lt;dbl&gt; | Verb_Middle &lt;dbl&gt; | x1 &lt;dbl&gt; | x2 &lt;dbl&gt; | x3 &lt;dbl&gt; | x4 &lt;dbl&gt; |\n",
       "|---|---|---|---|---|---|---|---|---|---|---|\n",
       "| stan1318 | Arabic    | Semitic  | 0.036 | 0.218 | 0.655 | 0.391 | -3.2875724 | -1.277360 |  0.6410908 | -0.4431107 |\n",
       "| bulg1262 | Bulgarian | Slavic   | 0.028 | 0.144 | 0.782 | 0.966 | -3.5471513 | -1.782457 |  1.2773597 |  3.3468033 |\n",
       "| croa1245 | Croatian  | Slavic   | 0.415 | 0.147 | 0.414 | 0.900 | -0.3433333 | -1.758327 | -0.3474538 |  2.1972246 |\n",
       "| czec1258 | Czech     | Slavic   | 0.525 | 0.172 | 0.240 | 0.818 |  0.1000835 | -1.571519 | -1.1526795 |  1.5028556 |\n",
       "| dani1285 | Danish    | Germanic | 0.000 | 0.208 | 0.926 | 0.912 | -9.2102404 | -1.337023 |  2.5268091 |  2.3383032 |\n",
       "| dutc1256 | Dutch     | Germanic | 0.000 | 0.214 | 0.817 | 0.462 | -9.2102404 | -1.300981 |  1.4961529 | -0.1522937 |\n",
       "\n"
      ],
      "text/plain": [
       "  Glottocode Language  Genus    Case_Marking Tight_Semantics Rigid_Order\n",
       "1 stan1318   Arabic    Semitic  0.036        0.218           0.655      \n",
       "2 bulg1262   Bulgarian Slavic   0.028        0.144           0.782      \n",
       "3 croa1245   Croatian  Slavic   0.415        0.147           0.414      \n",
       "4 czec1258   Czech     Slavic   0.525        0.172           0.240      \n",
       "5 dani1285   Danish    Germanic 0.000        0.208           0.926      \n",
       "6 dutc1256   Dutch     Germanic 0.000        0.214           0.817      \n",
       "  Verb_Middle x1         x2        x3         x4        \n",
       "1 0.391       -3.2875724 -1.277360  0.6410908 -0.4431107\n",
       "2 0.966       -3.5471513 -1.782457  1.2773597  3.3468033\n",
       "3 0.900       -0.3433333 -1.758327 -0.3474538  2.1972246\n",
       "4 0.818        0.1000835 -1.571519 -1.1526795  1.5028556\n",
       "5 0.912       -9.2102404 -1.337023  2.5268091  2.3383032\n",
       "6 0.462       -9.2102404 -1.300981  1.4961529 -0.1522937"
      ]
     },
     "metadata": {},
     "output_type": "display_data"
    }
   ],
   "source": [
    "d %>%\n",
    "    mutate(\n",
    "        x1 = logit(rescale(Case_Marking)), \n",
    "        x2 = logit(rescale(Tight_Semantics)),\n",
    "        x3 = logit(rescale(Rigid_Order)),\n",
    "        x4 = logit(rescale(Verb_Middle))\n",
    "    ) -> d\n",
    "head(d)"
   ]
  },
  {
   "cell_type": "code",
   "execution_count": 7,
   "id": "basic-background",
   "metadata": {},
   "outputs": [
    {
     "data": {
      "text/html": [
       "<table class=\"dataframe\">\n",
       "<caption>A matrix: 4 × 4 of type dbl</caption>\n",
       "<thead>\n",
       "\t<tr><th></th><th scope=col>x1</th><th scope=col>x2</th><th scope=col>x3</th><th scope=col>x4</th></tr>\n",
       "</thead>\n",
       "<tbody>\n",
       "\t<tr><th scope=row>x1</th><td> 1.0000000</td><td> 0.2921834</td><td>-0.7871244</td><td>-0.4455840</td></tr>\n",
       "\t<tr><th scope=row>x2</th><td> 0.2921834</td><td> 1.0000000</td><td>-0.2301989</td><td>-0.3685708</td></tr>\n",
       "\t<tr><th scope=row>x3</th><td>-0.7871244</td><td>-0.2301989</td><td> 1.0000000</td><td> 0.3038085</td></tr>\n",
       "\t<tr><th scope=row>x4</th><td>-0.4455840</td><td>-0.3685708</td><td> 0.3038085</td><td> 1.0000000</td></tr>\n",
       "</tbody>\n",
       "</table>\n"
      ],
      "text/latex": [
       "A matrix: 4 × 4 of type dbl\n",
       "\\begin{tabular}{r|llll}\n",
       "  & x1 & x2 & x3 & x4\\\\\n",
       "\\hline\n",
       "\tx1 &  1.0000000 &  0.2921834 & -0.7871244 & -0.4455840\\\\\n",
       "\tx2 &  0.2921834 &  1.0000000 & -0.2301989 & -0.3685708\\\\\n",
       "\tx3 & -0.7871244 & -0.2301989 &  1.0000000 &  0.3038085\\\\\n",
       "\tx4 & -0.4455840 & -0.3685708 &  0.3038085 &  1.0000000\\\\\n",
       "\\end{tabular}\n"
      ],
      "text/markdown": [
       "\n",
       "A matrix: 4 × 4 of type dbl\n",
       "\n",
       "| <!--/--> | x1 | x2 | x3 | x4 |\n",
       "|---|---|---|---|---|\n",
       "| x1 |  1.0000000 |  0.2921834 | -0.7871244 | -0.4455840 |\n",
       "| x2 |  0.2921834 |  1.0000000 | -0.2301989 | -0.3685708 |\n",
       "| x3 | -0.7871244 | -0.2301989 |  1.0000000 |  0.3038085 |\n",
       "| x4 | -0.4455840 | -0.3685708 |  0.3038085 |  1.0000000 |\n",
       "\n"
      ],
      "text/plain": [
       "   x1         x2         x3         x4        \n",
       "x1  1.0000000  0.2921834 -0.7871244 -0.4455840\n",
       "x2  0.2921834  1.0000000 -0.2301989 -0.3685708\n",
       "x3 -0.7871244 -0.2301989  1.0000000  0.3038085\n",
       "x4 -0.4455840 -0.3685708  0.3038085  1.0000000"
      ]
     },
     "metadata": {},
     "output_type": "display_data"
    }
   ],
   "source": [
    "d %>%\n",
    "    select(x1, x2, x3, x4) %>%\n",
    "    cor"
   ]
  },
  {
   "cell_type": "markdown",
   "id": "innocent-harbor",
   "metadata": {},
   "source": [
    "### reading in the phylogenetic tree"
   ]
  },
  {
   "cell_type": "code",
   "execution_count": 8,
   "id": "electric-browser",
   "metadata": {},
   "outputs": [],
   "source": [
    "trees <- ape::read.tree(\"../data/posterior.tree\")\n",
    "tree <- phangorn::maxCladeCred(trees)"
   ]
  },
  {
   "cell_type": "code",
   "execution_count": 9,
   "id": "scenic-rough",
   "metadata": {},
   "outputs": [
    {
     "data": {
      "image/png": "[encoded data removed]",
      "text/plain": [
       "plot without title"
      ]
     },
     "metadata": {
      "image/png": {
       "height": 420,
       "width": 420
      }
     },
     "output_type": "display_data"
    }
   ],
   "source": [
    "plot(tree)"
   ]
  },
  {
   "cell_type": "markdown",
   "id": "cleared-curtis",
   "metadata": {},
   "source": [
    "## Testing for (conditional) independence\n",
    "\n",
    "I test for stochastic independence via a phylogenetic linear regression.\n",
    "\n",
    "To test whether $$x \\perp \\!\\!\\! \\perp y|z,$$\n",
    "\n",
    "I run a linear regression \n",
    "\n",
    "$$\n",
    "x \\sim y + z.\n",
    "$$\n",
    "\n",
    "If the slope for $y$ is not significantly different from 0, independence is given.\n",
    "\n",
    "The phylogenetic regression is performed using the function `tree_phylm` from the library `sensiPhy`. It expects are regular dataframe."
   ]
  },
  {
   "cell_type": "code",
   "execution_count": 10,
   "id": "noticed-relief",
   "metadata": {},
   "outputs": [
    {
     "data": {
      "text/html": [
       "<table class=\"dataframe\">\n",
       "<caption>A data.frame: 6 × 11</caption>\n",
       "<thead>\n",
       "\t<tr><th></th><th scope=col>Glottocode</th><th scope=col>Language</th><th scope=col>Genus</th><th scope=col>Case_Marking</th><th scope=col>Tight_Semantics</th><th scope=col>Rigid_Order</th><th scope=col>Verb_Middle</th><th scope=col>x1</th><th scope=col>x2</th><th scope=col>x3</th><th scope=col>x4</th></tr>\n",
       "\t<tr><th></th><th scope=col>&lt;chr&gt;</th><th scope=col>&lt;chr&gt;</th><th scope=col>&lt;chr&gt;</th><th scope=col>&lt;dbl&gt;</th><th scope=col>&lt;dbl&gt;</th><th scope=col>&lt;dbl&gt;</th><th scope=col>&lt;dbl&gt;</th><th scope=col>&lt;dbl&gt;</th><th scope=col>&lt;dbl&gt;</th><th scope=col>&lt;dbl&gt;</th><th scope=col>&lt;dbl&gt;</th></tr>\n",
       "</thead>\n",
       "<tbody>\n",
       "\t<tr><th scope=row>Arabic</th><td>stan1318</td><td>Arabic   </td><td>Semitic </td><td>0.036</td><td>0.218</td><td>0.655</td><td>0.391</td><td>-3.2875724</td><td>-1.277360</td><td> 0.6410908</td><td>-0.4431107</td></tr>\n",
       "\t<tr><th scope=row>Bulgarian</th><td>bulg1262</td><td>Bulgarian</td><td>Slavic  </td><td>0.028</td><td>0.144</td><td>0.782</td><td>0.966</td><td>-3.5471513</td><td>-1.782457</td><td> 1.2773597</td><td> 3.3468033</td></tr>\n",
       "\t<tr><th scope=row>Croatian</th><td>croa1245</td><td>Croatian </td><td>Slavic  </td><td>0.415</td><td>0.147</td><td>0.414</td><td>0.900</td><td>-0.3433333</td><td>-1.758327</td><td>-0.3474538</td><td> 2.1972246</td></tr>\n",
       "\t<tr><th scope=row>Czech</th><td>czec1258</td><td>Czech    </td><td>Slavic  </td><td>0.525</td><td>0.172</td><td>0.240</td><td>0.818</td><td> 0.1000835</td><td>-1.571519</td><td>-1.1526795</td><td> 1.5028556</td></tr>\n",
       "\t<tr><th scope=row>Danish</th><td>dani1285</td><td>Danish   </td><td>Germanic</td><td>0.000</td><td>0.208</td><td>0.926</td><td>0.912</td><td>-9.2102404</td><td>-1.337023</td><td> 2.5268091</td><td> 2.3383032</td></tr>\n",
       "\t<tr><th scope=row>Dutch</th><td>dutc1256</td><td>Dutch    </td><td>Germanic</td><td>0.000</td><td>0.214</td><td>0.817</td><td>0.462</td><td>-9.2102404</td><td>-1.300981</td><td> 1.4961529</td><td>-0.1522937</td></tr>\n",
       "</tbody>\n",
       "</table>\n"
      ],
      "text/latex": [
       "A data.frame: 6 × 11\n",
       "\\begin{tabular}{r|lllllllllll}\n",
       "  & Glottocode & Language & Genus & Case\\_Marking & Tight\\_Semantics & Rigid\\_Order & Verb\\_Middle & x1 & x2 & x3 & x4\\\\\n",
       "  & <chr> & <chr> & <chr> & <dbl> & <dbl> & <dbl> & <dbl> & <dbl> & <dbl> & <dbl> & <dbl>\\\\\n",
       "\\hline\n",
       "\tArabic & stan1318 & Arabic    & Semitic  & 0.036 & 0.218 & 0.655 & 0.391 & -3.2875724 & -1.277360 &  0.6410908 & -0.4431107\\\\\n",
       "\tBulgarian & bulg1262 & Bulgarian & Slavic   & 0.028 & 0.144 & 0.782 & 0.966 & -3.5471513 & -1.782457 &  1.2773597 &  3.3468033\\\\\n",
       "\tCroatian & croa1245 & Croatian  & Slavic   & 0.415 & 0.147 & 0.414 & 0.900 & -0.3433333 & -1.758327 & -0.3474538 &  2.1972246\\\\\n",
       "\tCzech & czec1258 & Czech     & Slavic   & 0.525 & 0.172 & 0.240 & 0.818 &  0.1000835 & -1.571519 & -1.1526795 &  1.5028556\\\\\n",
       "\tDanish & dani1285 & Danish    & Germanic & 0.000 & 0.208 & 0.926 & 0.912 & -9.2102404 & -1.337023 &  2.5268091 &  2.3383032\\\\\n",
       "\tDutch & dutc1256 & Dutch     & Germanic & 0.000 & 0.214 & 0.817 & 0.462 & -9.2102404 & -1.300981 &  1.4961529 & -0.1522937\\\\\n",
       "\\end{tabular}\n"
      ],
      "text/markdown": [
       "\n",
       "A data.frame: 6 × 11\n",
       "\n",
       "| <!--/--> | Glottocode &lt;chr&gt; | Language &lt;chr&gt; | Genus &lt;chr&gt; | Case_Marking &lt;dbl&gt; | Tight_Semantics &lt;dbl&gt; | Rigid_Order &lt;dbl&gt; | Verb_Middle &lt;dbl&gt; | x1 &lt;dbl&gt; | x2 &lt;dbl&gt; | x3 &lt;dbl&gt; | x4 &lt;dbl&gt; |\n",
       "|---|---|---|---|---|---|---|---|---|---|---|---|\n",
       "| Arabic | stan1318 | Arabic    | Semitic  | 0.036 | 0.218 | 0.655 | 0.391 | -3.2875724 | -1.277360 |  0.6410908 | -0.4431107 |\n",
       "| Bulgarian | bulg1262 | Bulgarian | Slavic   | 0.028 | 0.144 | 0.782 | 0.966 | -3.5471513 | -1.782457 |  1.2773597 |  3.3468033 |\n",
       "| Croatian | croa1245 | Croatian  | Slavic   | 0.415 | 0.147 | 0.414 | 0.900 | -0.3433333 | -1.758327 | -0.3474538 |  2.1972246 |\n",
       "| Czech | czec1258 | Czech     | Slavic   | 0.525 | 0.172 | 0.240 | 0.818 |  0.1000835 | -1.571519 | -1.1526795 |  1.5028556 |\n",
       "| Danish | dani1285 | Danish    | Germanic | 0.000 | 0.208 | 0.926 | 0.912 | -9.2102404 | -1.337023 |  2.5268091 |  2.3383032 |\n",
       "| Dutch | dutc1256 | Dutch     | Germanic | 0.000 | 0.214 | 0.817 | 0.462 | -9.2102404 | -1.300981 |  1.4961529 | -0.1522937 |\n",
       "\n"
      ],
      "text/plain": [
       "          Glottocode Language  Genus    Case_Marking Tight_Semantics\n",
       "Arabic    stan1318   Arabic    Semitic  0.036        0.218          \n",
       "Bulgarian bulg1262   Bulgarian Slavic   0.028        0.144          \n",
       "Croatian  croa1245   Croatian  Slavic   0.415        0.147          \n",
       "Czech     czec1258   Czech     Slavic   0.525        0.172          \n",
       "Danish    dani1285   Danish    Germanic 0.000        0.208          \n",
       "Dutch     dutc1256   Dutch     Germanic 0.000        0.214          \n",
       "          Rigid_Order Verb_Middle x1         x2        x3         x4        \n",
       "Arabic    0.655       0.391       -3.2875724 -1.277360  0.6410908 -0.4431107\n",
       "Bulgarian 0.782       0.966       -3.5471513 -1.782457  1.2773597  3.3468033\n",
       "Croatian  0.414       0.900       -0.3433333 -1.758327 -0.3474538  2.1972246\n",
       "Czech     0.240       0.818        0.1000835 -1.571519 -1.1526795  1.5028556\n",
       "Danish    0.926       0.912       -9.2102404 -1.337023  2.5268091  2.3383032\n",
       "Dutch     0.817       0.462       -9.2102404 -1.300981  1.4961529 -0.1522937"
      ]
     },
     "metadata": {},
     "output_type": "display_data"
    }
   ],
   "source": [
    "d <- as.data.frame(d)\n",
    "rownames(d) <- d$Language\n",
    "head(d)"
   ]
  },
  {
   "cell_type": "code",
   "execution_count": 11,
   "id": "fitting-scotland",
   "metadata": {},
   "outputs": [],
   "source": [
    "d <- d[tree$tip.label,]"
   ]
  },
  {
   "cell_type": "markdown",
   "id": "dynamic-topic",
   "metadata": {},
   "source": [
    "### Running the PC algorithm by hand"
   ]
  },
  {
   "cell_type": "markdown",
   "id": "eastern-banana",
   "metadata": {},
   "source": [
    "starting with a fully connected graph"
   ]
  },
  {
   "cell_type": "code",
   "execution_count": 13,
   "id": "defined-layer",
   "metadata": {},
   "outputs": [
    {
     "data": {
      "image/png": "[encoded data removed]",
      "text/plain": [
       "Plot with title “”"
      ]
     },
     "metadata": {
      "image/png": {
       "height": 420,
       "width": 420
      }
     },
     "output_type": "display_data"
    }
   ],
   "source": [
    "g <- make_full_graph(4)\n",
    "plot(g, vertex.size=30, edge.width = 5, edge.color = \"black\", vertex.label.cex=2)"
   ]
  },
  {
   "cell_type": "markdown",
   "id": "subject-contribution",
   "metadata": {},
   "source": [
    "checking unconditional independence between `x1` and `x2`.\n",
    "\n",
    "I do three regressions:\n",
    "\n",
    "- ordinary regression\n",
    "- regression with a phylogenetic term and Brownian motion model\n",
    "- regression with a phylogenetic term and Brownian motion model after transforming the phylogeny by fitting Pagel's $\\lambda$.\n",
    "\n",
    "The best model will be picked according to AIC."
   ]
  },
  {
   "cell_type": "code",
   "execution_count": 14,
   "id": "settled-occurrence",
   "metadata": {},
   "outputs": [
    {
     "data": {
      "text/html": [
       "164.600362513416"
      ],
      "text/latex": [
       "164.600362513416"
      ],
      "text/markdown": [
       "164.600362513416"
      ],
      "text/plain": [
       "[1] 164.6004"
      ]
     },
     "metadata": {},
     "output_type": "display_data"
    }
   ],
   "source": [
    "md1_1 <- lm(x1 ~ x2, data=d)\n",
    "AIC(md1_1)"
   ]
  },
  {
   "cell_type": "code",
   "execution_count": 15,
   "id": "bronze-sally",
   "metadata": {},
   "outputs": [
    {
     "name": "stderr",
     "output_type": "stream",
     "text": [
      "Warning message in Initialize.corPhyl(X[[i]], ...):\n",
      "“No covariate specified, species will be taken as ordered in the data frame. To avoid this message, specify a covariate containing the species names with the 'form' argument.”\n"
     ]
    },
    {
     "data": {
      "text/html": [
       "157.823732392252"
      ],
      "text/latex": [
       "157.823732392252"
      ],
      "text/markdown": [
       "157.823732392252"
      ],
      "text/plain": [
       "[1] 157.8237"
      ]
     },
     "metadata": {},
     "output_type": "display_data"
    }
   ],
   "source": [
    "md1_2 <- gls(x1 ~ x2, correlation=corBrownian(phy=tree), data=d)\n",
    "AIC(md1_2)"
   ]
  },
  {
   "cell_type": "code",
   "execution_count": 16,
   "id": "moving-showcase",
   "metadata": {},
   "outputs": [
    {
     "name": "stderr",
     "output_type": "stream",
     "text": [
      "Warning message in Initialize.corPhyl(X[[i]], ...):\n",
      "“No covariate specified, species will be taken as ordered in the data frame. To avoid this message, specify a covariate containing the species names with the 'form' argument.”\n"
     ]
    },
    {
     "data": {
      "text/html": [
       "153.166265807394"
      ],
      "text/latex": [
       "153.166265807394"
      ],
      "text/markdown": [
       "153.166265807394"
      ],
      "text/plain": [
       "[1] 153.1663"
      ]
     },
     "metadata": {},
     "output_type": "display_data"
    }
   ],
   "source": [
    "md1_3 <- gls(x1 ~ x2, correlation=corPagel(1, phy=tree), data=d)\n",
    "AIC(md1_3)"
   ]
  },
  {
   "cell_type": "markdown",
   "id": "finite-fifth",
   "metadata": {},
   "source": [
    "The last model comes out best:"
   ]
  },
  {
   "cell_type": "code",
   "execution_count": 19,
   "id": "accomplished-george",
   "metadata": {},
   "outputs": [
    {
     "name": "stderr",
     "output_type": "stream",
     "text": [
      "Warning message in AIC.default(md1_1, md1_2, md1_3):\n",
      "“models are not all fitted to the same number of observations”\n"
     ]
    },
    {
     "data": {
      "text/html": [
       "<table class=\"dataframe\">\n",
       "<caption>A data.frame: 3 × 2</caption>\n",
       "<thead>\n",
       "\t<tr><th></th><th scope=col>df</th><th scope=col>AIC</th></tr>\n",
       "\t<tr><th></th><th scope=col>&lt;dbl&gt;</th><th scope=col>&lt;dbl&gt;</th></tr>\n",
       "</thead>\n",
       "<tbody>\n",
       "\t<tr><th scope=row>md1_1</th><td>3</td><td>164.6004</td></tr>\n",
       "\t<tr><th scope=row>md1_2</th><td>3</td><td>157.8237</td></tr>\n",
       "\t<tr><th scope=row>md1_3</th><td>4</td><td>153.1663</td></tr>\n",
       "</tbody>\n",
       "</table>\n"
      ],
      "text/latex": [
       "A data.frame: 3 × 2\n",
       "\\begin{tabular}{r|ll}\n",
       "  & df & AIC\\\\\n",
       "  & <dbl> & <dbl>\\\\\n",
       "\\hline\n",
       "\tmd1\\_1 & 3 & 164.6004\\\\\n",
       "\tmd1\\_2 & 3 & 157.8237\\\\\n",
       "\tmd1\\_3 & 4 & 153.1663\\\\\n",
       "\\end{tabular}\n"
      ],
      "text/markdown": [
       "\n",
       "A data.frame: 3 × 2\n",
       "\n",
       "| <!--/--> | df &lt;dbl&gt; | AIC &lt;dbl&gt; |\n",
       "|---|---|---|\n",
       "| md1_1 | 3 | 164.6004 |\n",
       "| md1_2 | 3 | 157.8237 |\n",
       "| md1_3 | 4 | 153.1663 |\n",
       "\n"
      ],
      "text/plain": [
       "      df AIC     \n",
       "md1_1 3  164.6004\n",
       "md1_2 3  157.8237\n",
       "md1_3 4  153.1663"
      ]
     },
     "metadata": {},
     "output_type": "display_data"
    },
    {
     "data": {
      "text/plain": [
       "Generalized least squares fit by REML\n",
       "  Model: x1 ~ x2 \n",
       "  Data: d \n",
       "       AIC      BIC    logLik\n",
       "  153.1663 158.4951 -72.58313\n",
       "\n",
       "Correlation Structure: corPagel\n",
       " Formula: ~1 \n",
       " Parameter estimate(s):\n",
       "   lambda \n",
       "0.7158808 \n",
       "\n",
       "Coefficients:\n",
       "                Value Std.Error   t-value p-value\n",
       "(Intercept) 0.0282695  2.481032 0.0113943  0.9910\n",
       "x2          1.7269458  1.365425 1.2647676  0.2164\n",
       "\n",
       " Correlation: \n",
       "   (Intr)\n",
       "x2 0.897 \n",
       "\n",
       "Standardized residuals:\n",
       "       Min         Q1        Med         Q3        Max \n",
       "-2.0038386 -0.5680208  0.1571005  0.6896944  1.3496419 \n",
       "\n",
       "Residual standard error: 3.489197 \n",
       "Degrees of freedom: 30 total; 28 residual"
      ]
     },
     "metadata": {},
     "output_type": "display_data"
    }
   ],
   "source": [
    "AIC(md1_1, md1_2, md1_3)\n",
    "summary(md1_3)"
   ]
  },
  {
   "cell_type": "markdown",
   "id": "reliable-dollar",
   "metadata": {},
   "source": [
    "clearly no significant correlation."
   ]
  },
  {
   "cell_type": "code",
   "execution_count": 20,
   "id": "based-possible",
   "metadata": {},
   "outputs": [
    {
     "data": {
      "text/plain": [
       "+ 6/6 edges from 094024d:\n",
       "[1] 1--2 1--3 1--4 2--3 2--4 3--4"
      ]
     },
     "metadata": {},
     "output_type": "display_data"
    }
   ],
   "source": [
    "E(g)"
   ]
  },
  {
   "cell_type": "code",
   "execution_count": 21,
   "id": "quick-district",
   "metadata": {},
   "outputs": [],
   "source": [
    "g <- delete_edges(g, 1)"
   ]
  },
  {
   "cell_type": "code",
   "execution_count": 22,
   "id": "detailed-spelling",
   "metadata": {},
   "outputs": [
    {
     "data": {
      "image/png": "[encoded data removed]",
      "text/plain": [
       "Plot with title “”"
      ]
     },
     "metadata": {
      "image/png": {
       "height": 420,
       "width": 420
      }
     },
     "output_type": "display_data"
    }
   ],
   "source": [
    "plot(g, vertex.size=30, edge.width = 5, edge.color = \"black\", vertex.label.cex=2)"
   ]
  },
  {
   "cell_type": "markdown",
   "id": "geographic-visit",
   "metadata": {},
   "source": [
    "independence between `x1` and `x3`"
   ]
  },
  {
   "cell_type": "code",
   "execution_count": 23,
   "id": "olympic-motor",
   "metadata": {},
   "outputs": [
    {
     "data": {
      "text/html": [
       "138.284281935948"
      ],
      "text/latex": [
       "138.284281935948"
      ],
      "text/markdown": [
       "138.284281935948"
      ],
      "text/plain": [
       "[1] 138.2843"
      ]
     },
     "metadata": {},
     "output_type": "display_data"
    }
   ],
   "source": [
    "md2_1 <- lm(x1 ~ x3, data=d)\n",
    "AIC(md2_1)"
   ]
  },
  {
   "cell_type": "code",
   "execution_count": 24,
   "id": "complex-serial",
   "metadata": {},
   "outputs": [
    {
     "name": "stderr",
     "output_type": "stream",
     "text": [
      "Warning message in Initialize.corPhyl(X[[i]], ...):\n",
      "“No covariate specified, species will be taken as ordered in the data frame. To avoid this message, specify a covariate containing the species names with the 'form' argument.”\n"
     ]
    },
    {
     "data": {
      "text/html": [
       "145.158497169155"
      ],
      "text/latex": [
       "145.158497169155"
      ],
      "text/markdown": [
       "145.158497169155"
      ],
      "text/plain": [
       "[1] 145.1585"
      ]
     },
     "metadata": {},
     "output_type": "display_data"
    }
   ],
   "source": [
    "md2_2 <- gls(x1 ~ x3, correlation=corBrownian(phy=tree), data=d)\n",
    "AIC(md2_2)"
   ]
  },
  {
   "cell_type": "code",
   "execution_count": 25,
   "id": "bibliographic-judge",
   "metadata": {},
   "outputs": [
    {
     "name": "stderr",
     "output_type": "stream",
     "text": [
      "Warning message in Initialize.corPhyl(X[[i]], ...):\n",
      "“No covariate specified, species will be taken as ordered in the data frame. To avoid this message, specify a covariate containing the species names with the 'form' argument.”\n"
     ]
    },
    {
     "data": {
      "text/html": [
       "138.533026910428"
      ],
      "text/latex": [
       "138.533026910428"
      ],
      "text/markdown": [
       "138.533026910428"
      ],
      "text/plain": [
       "[1] 138.533"
      ]
     },
     "metadata": {},
     "output_type": "display_data"
    }
   ],
   "source": [
    "md2_3 <- gls(x1 ~ x3, correlation=corPagel(1, phy=tree), data=d)\n",
    "AIC(md2_3)"
   ]
  },
  {
   "cell_type": "code",
   "execution_count": 26,
   "id": "tamil-irish",
   "metadata": {},
   "outputs": [
    {
     "data": {
      "text/plain": [
       "Generalized least squares fit by REML\n",
       "  Model: x1 ~ x3 \n",
       "  Data: d \n",
       "      AIC      BIC    logLik\n",
       "  138.533 143.8618 -65.26651\n",
       "\n",
       "Correlation Structure: corPagel\n",
       " Formula: ~1 \n",
       " Parameter estimate(s):\n",
       "   lambda \n",
       "0.5609534 \n",
       "\n",
       "Coefficients:\n",
       "                Value Std.Error   t-value p-value\n",
       "(Intercept) -1.763844 0.7452386 -2.366817  0.0251\n",
       "x3          -1.515019 0.2839099 -5.336266  0.0000\n",
       "\n",
       " Correlation: \n",
       "   (Intr)\n",
       "x3 -0.263\n",
       "\n",
       "Standardized residuals:\n",
       "       Min         Q1        Med         Q3        Max \n",
       "-2.1352296 -0.5032007  0.1527512  0.4843233  1.5876854 \n",
       "\n",
       "Residual standard error: 2.425827 \n",
       "Degrees of freedom: 30 total; 28 residual"
      ]
     },
     "metadata": {},
     "output_type": "display_data"
    }
   ],
   "source": [
    "summary(md2_3)"
   ]
  },
  {
   "cell_type": "markdown",
   "id": "egyptian-living",
   "metadata": {},
   "source": [
    "`x1` and `x3` are not independent.\n",
    "\n",
    "continuing with `x1` vs. `x4`:"
   ]
  },
  {
   "cell_type": "code",
   "execution_count": 28,
   "id": "representative-director",
   "metadata": {},
   "outputs": [
    {
     "data": {
      "text/html": [
       "160.637673165145"
      ],
      "text/latex": [
       "160.637673165145"
      ],
      "text/markdown": [
       "160.637673165145"
      ],
      "text/plain": [
       "[1] 160.6377"
      ]
     },
     "metadata": {},
     "output_type": "display_data"
    }
   ],
   "source": [
    "md3_1 <- lm(x1 ~ x4, data=d)\n",
    "AIC(md3_1)"
   ]
  },
  {
   "cell_type": "code",
   "execution_count": 29,
   "id": "identical-manner",
   "metadata": {},
   "outputs": [
    {
     "name": "stderr",
     "output_type": "stream",
     "text": [
      "Warning message in Initialize.corPhyl(X[[i]], ...):\n",
      "“No covariate specified, species will be taken as ordered in the data frame. To avoid this message, specify a covariate containing the species names with the 'form' argument.”\n"
     ]
    },
    {
     "data": {
      "text/html": [
       "155.429892814985"
      ],
      "text/latex": [
       "155.429892814985"
      ],
      "text/markdown": [
       "155.429892814985"
      ],
      "text/plain": [
       "[1] 155.4299"
      ]
     },
     "metadata": {},
     "output_type": "display_data"
    }
   ],
   "source": [
    "md3_2 <- gls(x1 ~ x4, correlation=corBrownian(phy=tree), data=d)\n",
    "AIC(md3_2)"
   ]
  },
  {
   "cell_type": "code",
   "execution_count": 30,
   "id": "impossible-remark",
   "metadata": {},
   "outputs": [
    {
     "name": "stderr",
     "output_type": "stream",
     "text": [
      "Warning message in Initialize.corPhyl(X[[i]], ...):\n",
      "“No covariate specified, species will be taken as ordered in the data frame. To avoid this message, specify a covariate containing the species names with the 'form' argument.”\n"
     ]
    },
    {
     "data": {
      "text/html": [
       "149.869689818863"
      ],
      "text/latex": [
       "149.869689818863"
      ],
      "text/markdown": [
       "149.869689818863"
      ],
      "text/plain": [
       "[1] 149.8697"
      ]
     },
     "metadata": {},
     "output_type": "display_data"
    }
   ],
   "source": [
    "md3_3 <- gls(x1 ~ x4, correlation=corPagel(1, phy=tree), data=d)\n",
    "AIC(md3_3)"
   ]
  },
  {
   "cell_type": "code",
   "execution_count": 31,
   "id": "female-marina",
   "metadata": {},
   "outputs": [
    {
     "data": {
      "text/plain": [
       "Generalized least squares fit by REML\n",
       "  Model: x1 ~ x4 \n",
       "  Data: d \n",
       "       AIC      BIC    logLik\n",
       "  149.8697 155.1985 -70.93484\n",
       "\n",
       "Correlation Structure: corPagel\n",
       " Formula: ~1 \n",
       " Parameter estimate(s):\n",
       "   lambda \n",
       "0.7389621 \n",
       "\n",
       "Coefficients:\n",
       "                 Value Std.Error   t-value p-value\n",
       "(Intercept) -3.1535178 0.9851605 -3.201019  0.0034\n",
       "x4          -0.4871956 0.1499063 -3.250000  0.0030\n",
       "\n",
       " Correlation: \n",
       "   (Intr)\n",
       "x4 0.116 \n",
       "\n",
       "Standardized residuals:\n",
       "       Min         Q1        Med         Q3        Max \n",
       "-1.9868606 -0.5484048  0.1985649  1.1973265  1.7023135 \n",
       "\n",
       "Residual standard error: 3.085732 \n",
       "Degrees of freedom: 30 total; 28 residual"
      ]
     },
     "metadata": {},
     "output_type": "display_data"
    }
   ],
   "source": [
    "summary(md3_3)"
   ]
  },
  {
   "cell_type": "markdown",
   "id": "extreme-perry",
   "metadata": {},
   "source": [
    "Clearly significant. The graph is still"
   ]
  },
  {
   "cell_type": "code",
   "execution_count": 32,
   "id": "polished-courtesy",
   "metadata": {},
   "outputs": [
    {
     "data": {
      "image/png": "[encoded data removed]",
      "text/plain": [
       "Plot with title “”"
      ]
     },
     "metadata": {
      "image/png": {
       "height": 420,
       "width": 420
      }
     },
     "output_type": "display_data"
    }
   ],
   "source": [
    "plot(g, vertex.size=30, edge.width = 5, edge.color = \"black\", vertex.label.cex=2)"
   ]
  },
  {
   "cell_type": "markdown",
   "id": "civic-extra",
   "metadata": {},
   "source": [
    "independence of `x2` and `x3`:"
   ]
  },
  {
   "cell_type": "code",
   "execution_count": 33,
   "id": "secret-project",
   "metadata": {},
   "outputs": [
    {
     "data": {
      "text/html": [
       "35.7039405155402"
      ],
      "text/latex": [
       "35.7039405155402"
      ],
      "text/markdown": [
       "35.7039405155402"
      ],
      "text/plain": [
       "[1] 35.70394"
      ]
     },
     "metadata": {},
     "output_type": "display_data"
    }
   ],
   "source": [
    "md4_1 <- lm(x2 ~ x3, data=d)\n",
    "AIC(md4_1)"
   ]
  },
  {
   "cell_type": "code",
   "execution_count": 34,
   "id": "public-studio",
   "metadata": {
    "scrolled": true
   },
   "outputs": [
    {
     "name": "stderr",
     "output_type": "stream",
     "text": [
      "Warning message in Initialize.corPhyl(X[[i]], ...):\n",
      "“No covariate specified, species will be taken as ordered in the data frame. To avoid this message, specify a covariate containing the species names with the 'form' argument.”\n"
     ]
    },
    {
     "data": {
      "text/html": [
       "41.0174775004963"
      ],
      "text/latex": [
       "41.0174775004963"
      ],
      "text/markdown": [
       "41.0174775004963"
      ],
      "text/plain": [
       "[1] 41.01748"
      ]
     },
     "metadata": {},
     "output_type": "display_data"
    }
   ],
   "source": [
    "md4_2 <- gls(x2 ~ x3, correlation=corBrownian(phy=tree), data=d)\n",
    "AIC(md4_2)"
   ]
  },
  {
   "cell_type": "code",
   "execution_count": 35,
   "id": "moral-restaurant",
   "metadata": {},
   "outputs": [
    {
     "name": "stderr",
     "output_type": "stream",
     "text": [
      "Warning message in Initialize.corPhyl(X[[i]], ...):\n",
      "“No covariate specified, species will be taken as ordered in the data frame. To avoid this message, specify a covariate containing the species names with the 'form' argument.”\n"
     ]
    },
    {
     "data": {
      "text/html": [
       "43.0006131329644"
      ],
      "text/latex": [
       "43.0006131329644"
      ],
      "text/markdown": [
       "43.0006131329644"
      ],
      "text/plain": [
       "[1] 43.00061"
      ]
     },
     "metadata": {},
     "output_type": "display_data"
    }
   ],
   "source": [
    "md4_3 <- gls(x2 ~ x3, correlation=corPagel(1, phy=tree), data=d)\n",
    "AIC(md4_3)"
   ]
  },
  {
   "cell_type": "code",
   "execution_count": 36,
   "id": "horizontal-feelings",
   "metadata": {},
   "outputs": [
    {
     "data": {
      "text/plain": [
       "\n",
       "Call:\n",
       "lm(formula = x2 ~ x3, data = d)\n",
       "\n",
       "Residuals:\n",
       "    Min      1Q  Median      3Q     Max \n",
       "-1.1745 -0.1950  0.0422  0.2555  0.7716 \n",
       "\n",
       "Coefficients:\n",
       "            Estimate Std. Error t value Pr(>|t|)    \n",
       "(Intercept) -1.57843    0.08227 -19.186   <2e-16 ***\n",
       "x3          -0.05720    0.04570  -1.252    0.221    \n",
       "---\n",
       "Signif. codes:  0 ‘***’ 0.001 ‘**’ 0.01 ‘*’ 0.05 ‘.’ 0.1 ‘ ’ 1\n",
       "\n",
       "Residual standard error: 0.4109 on 28 degrees of freedom\n",
       "Multiple R-squared:  0.05299,\tAdjusted R-squared:  0.01917 \n",
       "F-statistic: 1.567 on 1 and 28 DF,  p-value: 0.221\n"
      ]
     },
     "metadata": {},
     "output_type": "display_data"
    }
   ],
   "source": [
    "summary(md4_1)"
   ]
  },
  {
   "cell_type": "markdown",
   "id": "ordinary-doctor",
   "metadata": {},
   "source": [
    "clearly not significant"
   ]
  },
  {
   "cell_type": "code",
   "execution_count": 37,
   "id": "greater-parliament",
   "metadata": {},
   "outputs": [
    {
     "data": {
      "text/plain": [
       "+ 5/5 edges from 96873a2:\n",
       "[1] 1--3 1--4 2--3 2--4 3--4"
      ]
     },
     "metadata": {},
     "output_type": "display_data"
    }
   ],
   "source": [
    "E(g)"
   ]
  },
  {
   "cell_type": "code",
   "execution_count": 38,
   "id": "saved-answer",
   "metadata": {},
   "outputs": [
    {
     "data": {
      "image/png": "[encoded data removed]",
      "text/plain": [
       "Plot with title “”"
      ]
     },
     "metadata": {
      "image/png": {
       "height": 420,
       "width": 420
      }
     },
     "output_type": "display_data"
    }
   ],
   "source": [
    "g <- delete_edges(g, 3)\n",
    "plot(g, vertex.size=30, edge.width = 5, edge.color = \"black\", vertex.label.cex=2)"
   ]
  },
  {
   "cell_type": "code",
   "execution_count": 39,
   "id": "accompanied-temperature",
   "metadata": {},
   "outputs": [
    {
     "data": {
      "text/html": [
       "32.9572844919245"
      ],
      "text/latex": [
       "32.9572844919245"
      ],
      "text/markdown": [
       "32.9572844919245"
      ],
      "text/plain": [
       "[1] 32.95728"
      ]
     },
     "metadata": {},
     "output_type": "display_data"
    }
   ],
   "source": [
    "md5_1 - lm(x2 ~ x4, data=d)\n",
    "AIC(md5_1)"
   ]
  },
  {
   "cell_type": "code",
   "execution_count": 40,
   "id": "familiar-kazakhstan",
   "metadata": {},
   "outputs": [
    {
     "name": "stderr",
     "output_type": "stream",
     "text": [
      "Warning message in Initialize.corPhyl(X[[i]], ...):\n",
      "“No covariate specified, species will be taken as ordered in the data frame. To avoid this message, specify a covariate containing the species names with the 'form' argument.”\n"
     ]
    },
    {
     "data": {
      "text/html": [
       "39.1520486687295"
      ],
      "text/latex": [
       "39.1520486687295"
      ],
      "text/markdown": [
       "39.1520486687295"
      ],
      "text/plain": [
       "[1] 39.15205"
      ]
     },
     "metadata": {},
     "output_type": "display_data"
    }
   ],
   "source": [
    "md5_2 <- gls(x2 ~ x4, correlation=corBrownian(phy=tree), data=d)\n",
    "AIC(md5_2)"
   ]
  },
  {
   "cell_type": "code",
   "execution_count": 41,
   "id": "compact-dating",
   "metadata": {},
   "outputs": [
    {
     "name": "stderr",
     "output_type": "stream",
     "text": [
      "Warning message in Initialize.corPhyl(X[[i]], ...):\n",
      "“No covariate specified, species will be taken as ordered in the data frame. To avoid this message, specify a covariate containing the species names with the 'form' argument.”\n"
     ]
    },
    {
     "data": {
      "text/html": [
       "41.0822817919779"
      ],
      "text/latex": [
       "41.0822817919779"
      ],
      "text/markdown": [
       "41.0822817919779"
      ],
      "text/plain": [
       "[1] 41.08228"
      ]
     },
     "metadata": {},
     "output_type": "display_data"
    }
   ],
   "source": [
    "md5_3 <- gls(x2 ~ x4, correlation=corPagel(1, phy=tree), data=d)\n",
    "AIC(md5_3)"
   ]
  },
  {
   "cell_type": "code",
   "execution_count": 42,
   "id": "interim-binding",
   "metadata": {},
   "outputs": [
    {
     "data": {
      "text/plain": [
       "\n",
       "Call:\n",
       "lm(formula = x2 ~ x4, data = d)\n",
       "\n",
       "Residuals:\n",
       "     Min       1Q   Median       3Q      Max \n",
       "-1.32043 -0.12378  0.04403  0.22796  0.67099 \n",
       "\n",
       "Coefficients:\n",
       "            Estimate Std. Error t value Pr(>|t|)    \n",
       "(Intercept) -1.59139    0.07301 -21.796   <2e-16 ***\n",
       "x4          -0.03812    0.01817  -2.098   0.0451 *  \n",
       "---\n",
       "Signif. codes:  0 ‘***’ 0.001 ‘**’ 0.01 ‘*’ 0.05 ‘.’ 0.1 ‘ ’ 1\n",
       "\n",
       "Residual standard error: 0.3925 on 28 degrees of freedom\n",
       "Multiple R-squared:  0.1358,\tAdjusted R-squared:  0.105 \n",
       "F-statistic: 4.402 on 1 and 28 DF,  p-value: 0.04505\n"
      ]
     },
     "metadata": {},
     "output_type": "display_data"
    }
   ],
   "source": [
    "summary(md5_1)"
   ]
  },
  {
   "cell_type": "markdown",
   "id": "lasting-funds",
   "metadata": {},
   "source": [
    "significant, if barely"
   ]
  },
  {
   "cell_type": "code",
   "execution_count": 44,
   "id": "floating-annual",
   "metadata": {},
   "outputs": [
    {
     "data": {
      "image/png": "[encoded data removed]",
      "text/plain": [
       "Plot with title “”"
      ]
     },
     "metadata": {
      "image/png": {
       "height": 420,
       "width": 420
      }
     },
     "output_type": "display_data"
    }
   ],
   "source": [
    "\n",
    "plot(g, vertex.size=30, edge.width = 5, edge.color = \"black\", vertex.label.cex=2)"
   ]
  },
  {
   "cell_type": "code",
   "execution_count": 46,
   "id": "wooden-oakland",
   "metadata": {},
   "outputs": [
    {
     "data": {
      "text/html": [
       "117.975637217221"
      ],
      "text/latex": [
       "117.975637217221"
      ],
      "text/markdown": [
       "117.975637217221"
      ],
      "text/plain": [
       "[1] 117.9756"
      ]
     },
     "metadata": {},
     "output_type": "display_data"
    }
   ],
   "source": [
    "md6_1 <- lm(x3 ~ x4, data=d)\n",
    "AIC(md6_1)"
   ]
  },
  {
   "cell_type": "code",
   "execution_count": 47,
   "id": "electronic-spain",
   "metadata": {},
   "outputs": [
    {
     "name": "stderr",
     "output_type": "stream",
     "text": [
      "Warning message in Initialize.corPhyl(X[[i]], ...):\n",
      "“No covariate specified, species will be taken as ordered in the data frame. To avoid this message, specify a covariate containing the species names with the 'form' argument.”\n"
     ]
    },
    {
     "data": {
      "text/html": [
       "104.261682050574"
      ],
      "text/latex": [
       "104.261682050574"
      ],
      "text/markdown": [
       "104.261682050574"
      ],
      "text/plain": [
       "[1] 104.2617"
      ]
     },
     "metadata": {},
     "output_type": "display_data"
    }
   ],
   "source": [
    "md6_2 <- gls(x3 ~ x4, correlation=corBrownian(phy=tree), data=d)\n",
    "AIC(md6_2)"
   ]
  },
  {
   "cell_type": "code",
   "execution_count": 48,
   "id": "supposed-violation",
   "metadata": {},
   "outputs": [
    {
     "name": "stderr",
     "output_type": "stream",
     "text": [
      "Warning message in Initialize.corPhyl(X[[i]], ...):\n",
      "“No covariate specified, species will be taken as ordered in the data frame. To avoid this message, specify a covariate containing the species names with the 'form' argument.”\n"
     ]
    },
    {
     "data": {
      "text/html": [
       "105.585235194636"
      ],
      "text/latex": [
       "105.585235194636"
      ],
      "text/markdown": [
       "105.585235194636"
      ],
      "text/plain": [
       "[1] 105.5852"
      ]
     },
     "metadata": {},
     "output_type": "display_data"
    }
   ],
   "source": [
    "md6_3 <- gls(x3 ~ x4, correlation=corPagel(1, phy=tree), data=d)\n",
    "AIC(md6_3)"
   ]
  },
  {
   "cell_type": "code",
   "execution_count": 49,
   "id": "corrected-wagon",
   "metadata": {},
   "outputs": [
    {
     "data": {
      "text/plain": [
       "Generalized least squares fit by REML\n",
       "  Model: x3 ~ x4 \n",
       "  Data: d \n",
       "       AIC      BIC    logLik\n",
       "  104.2617 108.2583 -49.13084\n",
       "\n",
       "Correlation Structure: corBrownian\n",
       " Formula: ~1 \n",
       " Parameter estimate(s):\n",
       "numeric(0)\n",
       "\n",
       "Coefficients:\n",
       "                Value Std.Error  t-value p-value\n",
       "(Intercept) 0.8834967 0.5855953 1.508716  0.1426\n",
       "x4          0.2107762 0.0783907 2.688792  0.0119\n",
       "\n",
       " Correlation: \n",
       "   (Intr)\n",
       "x4 0.133 \n",
       "\n",
       "Standardized residuals:\n",
       "        Min          Q1         Med          Q3         Max \n",
       "-2.73997943 -0.83961130 -0.09785085  0.51122566  1.67011765 \n",
       "\n",
       "Residual standard error: 1.690975 \n",
       "Degrees of freedom: 30 total; 28 residual"
      ]
     },
     "metadata": {},
     "output_type": "display_data"
    }
   ],
   "source": [
    "summary(md6_2)"
   ]
  },
  {
   "cell_type": "markdown",
   "id": "cardiac-livestock",
   "metadata": {},
   "source": [
    " significant"
   ]
  },
  {
   "cell_type": "code",
   "execution_count": 50,
   "id": "alpha-turning",
   "metadata": {},
   "outputs": [
    {
     "data": {
      "image/png": "[encoded data removed]",
      "text/plain": [
       "Plot with title “”"
      ]
     },
     "metadata": {
      "image/png": {
       "height": 420,
       "width": 420
      }
     },
     "output_type": "display_data"
    }
   ],
   "source": [
    "plot(g, vertex.size=30, edge.width = 5, edge.color = \"black\", vertex.label.cex=2)"
   ]
  },
  {
   "cell_type": "markdown",
   "id": "elder-friday",
   "metadata": {},
   "source": [
    "Now we continue with conditional independence."
   ]
  },
  {
   "cell_type": "code",
   "execution_count": 51,
   "id": "respiratory-wellington",
   "metadata": {},
   "outputs": [
    {
     "data": {
      "text/html": [
       "136.332302207863"
      ],
      "text/latex": [
       "136.332302207863"
      ],
      "text/markdown": [
       "136.332302207863"
      ],
      "text/plain": [
       "[1] 136.3323"
      ]
     },
     "metadata": {},
     "output_type": "display_data"
    }
   ],
   "source": [
    "md2_1 <- lm(x1 ~ x3 + x4, data=d)\n",
    "AIC(md2_1)"
   ]
  },
  {
   "cell_type": "code",
   "execution_count": 55,
   "id": "boxed-documentary",
   "metadata": {},
   "outputs": [
    {
     "name": "stderr",
     "output_type": "stream",
     "text": [
      "Warning message in Initialize.corPhyl(X[[i]], ...):\n",
      "“No covariate specified, species will be taken as ordered in the data frame. To avoid this message, specify a covariate containing the species names with the 'form' argument.”\n"
     ]
    },
    {
     "data": {
      "text/html": [
       "146.985000903591"
      ],
      "text/latex": [
       "146.985000903591"
      ],
      "text/markdown": [
       "146.985000903591"
      ],
      "text/plain": [
       "[1] 146.985"
      ]
     },
     "metadata": {},
     "output_type": "display_data"
    }
   ],
   "source": [
    "md2_2 <- gls(x1 ~ x3 + x4, correlation=corBrownian(phy=tree), data=d)\n",
    "AIC(md2_2)"
   ]
  },
  {
   "cell_type": "code",
   "execution_count": 56,
   "id": "baking-improvement",
   "metadata": {},
   "outputs": [
    {
     "name": "stderr",
     "output_type": "stream",
     "text": [
      "Warning message in Initialize.corPhyl(X[[i]], ...):\n",
      "“No covariate specified, species will be taken as ordered in the data frame. To avoid this message, specify a covariate containing the species names with the 'form' argument.”\n"
     ]
    },
    {
     "data": {
      "text/html": [
       "138.258968207255"
      ],
      "text/latex": [
       "138.258968207255"
      ],
      "text/markdown": [
       "138.258968207255"
      ],
      "text/plain": [
       "[1] 138.259"
      ]
     },
     "metadata": {},
     "output_type": "display_data"
    }
   ],
   "source": [
    "md2_3 <- gls(x1 ~ x3 + x4, correlation=corPagel(1, phy=tree), data=d)\n",
    "AIC(md2_3)"
   ]
  },
  {
   "cell_type": "code",
   "execution_count": 57,
   "id": "stupid-edward",
   "metadata": {},
   "outputs": [
    {
     "data": {
      "text/plain": [
       "\n",
       "Call:\n",
       "lm(formula = x1 ~ x3 + x4, data = d)\n",
       "\n",
       "Residuals:\n",
       "    Min      1Q  Median      3Q     Max \n",
       "-5.1108 -0.5771  0.5967  1.5429  2.4234 \n",
       "\n",
       "Coefficients:\n",
       "            Estimate Std. Error t value Pr(>|t|)    \n",
       "(Intercept)  -1.8029     0.4342  -4.152 0.000296 ***\n",
       "x3           -1.5559     0.2528  -6.155 1.41e-06 ***\n",
       "x4           -0.2052     0.1052  -1.950 0.061656 .  \n",
       "---\n",
       "Signif. codes:  0 ‘***’ 0.001 ‘**’ 0.01 ‘*’ 0.05 ‘.’ 0.1 ‘ ’ 1\n",
       "\n",
       "Residual standard error: 2.165 on 27 degrees of freedom\n",
       "Multiple R-squared:  0.6665,\tAdjusted R-squared:  0.6418 \n",
       "F-statistic: 26.98 on 2 and 27 DF,  p-value: 3.643e-07\n"
      ]
     },
     "metadata": {},
     "output_type": "display_data"
    }
   ],
   "source": [
    "summary(md2_1)"
   ]
  },
  {
   "cell_type": "markdown",
   "id": "overall-brisbane",
   "metadata": {},
   "source": [
    "The correlation between $x_1$ and $x_4$ is explained the fact that they are both connected to $x_3$."
   ]
  },
  {
   "cell_type": "code",
   "execution_count": 58,
   "id": "incorporate-project",
   "metadata": {},
   "outputs": [
    {
     "data": {
      "text/plain": [
       "+ 4/4 edges from 2cc84e5:\n",
       "[1] 1--3 1--4 2--4 3--4"
      ]
     },
     "metadata": {},
     "output_type": "display_data"
    }
   ],
   "source": [
    "E(g)"
   ]
  },
  {
   "cell_type": "code",
   "execution_count": 59,
   "id": "american-device",
   "metadata": {},
   "outputs": [
    {
     "data": {
      "image/png": "[encoded data removed]",
      "text/plain": [
       "Plot with title “”"
      ]
     },
     "metadata": {
      "image/png": {
       "height": 420,
       "width": 420
      }
     },
     "output_type": "display_data"
    }
   ],
   "source": [
    "g <- delete_edges(g, 2)\n",
    "plot(g, vertex.size=30, edge.width = 5, edge.color = \"black\", vertex.label.cex=2)"
   ]
  },
  {
   "cell_type": "code",
   "execution_count": 63,
   "id": "rolled-concept",
   "metadata": {},
   "outputs": [
    {
     "data": {
      "text/html": [
       "136.332302207863"
      ],
      "text/latex": [
       "136.332302207863"
      ],
      "text/markdown": [
       "136.332302207863"
      ],
      "text/plain": [
       "[1] 136.3323"
      ]
     },
     "metadata": {},
     "output_type": "display_data"
    }
   ],
   "source": [
    "md3_1 <- lm(x1 ~ x4 + x3, data=d)\n",
    "AIC(md3_1)"
   ]
  },
  {
   "cell_type": "code",
   "execution_count": 67,
   "id": "false-custom",
   "metadata": {},
   "outputs": [
    {
     "name": "stderr",
     "output_type": "stream",
     "text": [
      "Warning message in Initialize.corPhyl(X[[i]], ...):\n",
      "“No covariate specified, species will be taken as ordered in the data frame. To avoid this message, specify a covariate containing the species names with the 'form' argument.”\n"
     ]
    },
    {
     "data": {
      "text/html": [
       "146.985000903591"
      ],
      "text/latex": [
       "146.985000903591"
      ],
      "text/markdown": [
       "146.985000903591"
      ],
      "text/plain": [
       "[1] 146.985"
      ]
     },
     "metadata": {},
     "output_type": "display_data"
    }
   ],
   "source": [
    "md3_2 <- gls(x1 ~ x4 + x3, correlation=corBrownian(phy=tree), data=d)\n",
    "AIC(md3_2)"
   ]
  },
  {
   "cell_type": "code",
   "execution_count": 65,
   "id": "grand-backing",
   "metadata": {},
   "outputs": [
    {
     "name": "stderr",
     "output_type": "stream",
     "text": [
      "Warning message in Initialize.corPhyl(X[[i]], ...):\n",
      "“No covariate specified, species will be taken as ordered in the data frame. To avoid this message, specify a covariate containing the species names with the 'form' argument.”\n"
     ]
    },
    {
     "data": {
      "text/html": [
       "138.258968207255"
      ],
      "text/latex": [
       "138.258968207255"
      ],
      "text/markdown": [
       "138.258968207255"
      ],
      "text/plain": [
       "[1] 138.259"
      ]
     },
     "metadata": {},
     "output_type": "display_data"
    }
   ],
   "source": [
    "md3_3 <- gls(x1 ~ x4 + x3, correlation=corPagel(1, phy=tree), data=d)\n",
    "AIC(md3_3)"
   ]
  },
  {
   "cell_type": "code",
   "execution_count": 66,
   "id": "governmental-arrest",
   "metadata": {},
   "outputs": [
    {
     "data": {
      "text/plain": [
       "\n",
       "Call:\n",
       "lm(formula = x1 ~ x4 + x3, data = d)\n",
       "\n",
       "Residuals:\n",
       "    Min      1Q  Median      3Q     Max \n",
       "-5.1108 -0.5771  0.5967  1.5429  2.4234 \n",
       "\n",
       "Coefficients:\n",
       "            Estimate Std. Error t value Pr(>|t|)    \n",
       "(Intercept)  -1.8029     0.4342  -4.152 0.000296 ***\n",
       "x4           -0.2052     0.1052  -1.950 0.061656 .  \n",
       "x3           -1.5559     0.2528  -6.155 1.41e-06 ***\n",
       "---\n",
       "Signif. codes:  0 ‘***’ 0.001 ‘**’ 0.01 ‘*’ 0.05 ‘.’ 0.1 ‘ ’ 1\n",
       "\n",
       "Residual standard error: 2.165 on 27 degrees of freedom\n",
       "Multiple R-squared:  0.6665,\tAdjusted R-squared:  0.6418 \n",
       "F-statistic: 26.98 on 2 and 27 DF,  p-value: 3.643e-07\n"
      ]
     },
     "metadata": {},
     "output_type": "display_data"
    }
   ],
   "source": [
    "summary(md3_1)"
   ]
  },
  {
   "cell_type": "code",
   "execution_count": 68,
   "id": "sharp-blanket",
   "metadata": {},
   "outputs": [
    {
     "data": {
      "text/html": [
       "34.417902744188"
      ],
      "text/latex": [
       "34.417902744188"
      ],
      "text/markdown": [
       "34.417902744188"
      ],
      "text/plain": [
       "[1] 34.4179"
      ]
     },
     "metadata": {},
     "output_type": "display_data"
    }
   ],
   "source": [
    "md4_1 <- lm(x2 ~ x3 + x4, data=d)\n",
    "AIC(md4_1)"
   ]
  },
  {
   "cell_type": "code",
   "execution_count": 69,
   "id": "filled-relaxation",
   "metadata": {},
   "outputs": [
    {
     "name": "stderr",
     "output_type": "stream",
     "text": [
      "Warning message in Initialize.corPhyl(X[[i]], ...):\n",
      "“No covariate specified, species will be taken as ordered in the data frame. To avoid this message, specify a covariate containing the species names with the 'form' argument.”\n"
     ]
    },
    {
     "data": {
      "text/html": [
       "44.9199787681259"
      ],
      "text/latex": [
       "44.9199787681259"
      ],
      "text/markdown": [
       "44.9199787681259"
      ],
      "text/plain": [
       "[1] 44.91998"
      ]
     },
     "metadata": {},
     "output_type": "display_data"
    }
   ],
   "source": [
    "md4_2 <- gls(x2 ~ x3 + x4, correlation=corBrownian(phy=tree), data=d)\n",
    "AIC(md4_2)"
   ]
  },
  {
   "cell_type": "code",
   "execution_count": 71,
   "id": "rotary-rally",
   "metadata": {},
   "outputs": [
    {
     "name": "stderr",
     "output_type": "stream",
     "text": [
      "Warning message in Initialize.corPhyl(X[[i]], ...):\n",
      "“No covariate specified, species will be taken as ordered in the data frame. To avoid this message, specify a covariate containing the species names with the 'form' argument.”\n"
     ]
    },
    {
     "data": {
      "text/html": [
       "46.7314429813453"
      ],
      "text/latex": [
       "46.7314429813453"
      ],
      "text/markdown": [
       "46.7314429813453"
      ],
      "text/plain": [
       "[1] 46.73144"
      ]
     },
     "metadata": {},
     "output_type": "display_data"
    }
   ],
   "source": [
    "md4_3 <- gls(x2 ~ x3 + x4, correlation=corPagel(1, phy=tree), data=d)\n",
    "AIC(md4_3)"
   ]
  },
  {
   "cell_type": "code",
   "execution_count": 72,
   "id": "unnecessary-cisco",
   "metadata": {},
   "outputs": [
    {
     "data": {
      "text/plain": [
       "\n",
       "Call:\n",
       "lm(formula = x2 ~ x3 + x4, data = d)\n",
       "\n",
       "Residuals:\n",
       "     Min       1Q   Median       3Q      Max \n",
       "-1.30825 -0.11920  0.05207  0.21900  0.66147 \n",
       "\n",
       "Coefficients:\n",
       "            Estimate Std. Error t value Pr(>|t|)    \n",
       "(Intercept) -1.57062    0.07944 -19.772   <2e-16 ***\n",
       "x3          -0.03236    0.04624  -0.700   0.4900    \n",
       "x4          -0.03403    0.01925  -1.768   0.0884 .  \n",
       "---\n",
       "Signif. codes:  0 ‘***’ 0.001 ‘**’ 0.01 ‘*’ 0.05 ‘.’ 0.1 ‘ ’ 1\n",
       "\n",
       "Residual standard error: 0.3962 on 27 degrees of freedom\n",
       "Multiple R-squared:  0.1512,\tAdjusted R-squared:  0.08837 \n",
       "F-statistic: 2.406 on 2 and 27 DF,  p-value: 0.1093\n"
      ]
     },
     "metadata": {},
     "output_type": "display_data"
    }
   ],
   "source": [
    "summary(md4_1)"
   ]
  },
  {
   "cell_type": "markdown",
   "id": "outer-fiber",
   "metadata": {},
   "source": [
    "The final graph, according to this method, is"
   ]
  },
  {
   "cell_type": "code",
   "execution_count": 73,
   "id": "elementary-louis",
   "metadata": {},
   "outputs": [
    {
     "data": {
      "image/png": "[encoded data removed]",
      "text/plain": [
       "Plot with title “”"
      ]
     },
     "metadata": {
      "image/png": {
       "height": 420,
       "width": 420
      }
     },
     "output_type": "display_data"
    }
   ],
   "source": [
    "plot(g, vertex.size=30, edge.width = 5, edge.color = \"black\", vertex.label.cex=2)"
   ]
  },
  {
   "cell_type": "code",
   "execution_count": null,
   "id": "informal-house",
   "metadata": {},
   "outputs": [],
   "source": []
  }
 ],
 "metadata": {
  "kernelspec": {
   "display_name": "R",
   "language": "R",
   "name": "ir"
  },
  "language_info": {
   "codemirror_mode": "r",
   "file_extension": ".r",
   "mimetype": "text/x-r-source",
   "name": "R",
   "pygments_lexer": "r",
   "version": "4.0.4"
  },
  "varInspector": {
   "cols": {
    "lenName": 16,
    "lenType": 16,
    "lenVar": 40
   },
   "kernels_config": {
    "python": {
     "delete_cmd_postfix": "",
     "delete_cmd_prefix": "del ",
     "library": "var_list.py",
     "varRefreshCmd": "print(var_dic_list())"
    },
    "r": {
     "delete_cmd_postfix": ") ",
     "delete_cmd_prefix": "rm(",
     "library": "var_list.r",
     "varRefreshCmd": "cat(var_dic_list()) "
    }
   },
   "types_to_exclude": [
    "module",
    "function",
    "builtin_function_or_method",
    "instance",
    "_Feature"
   ],
   "window_display": false
  }
 },
 "nbformat": 4,
 "nbformat_minor": 5
}
