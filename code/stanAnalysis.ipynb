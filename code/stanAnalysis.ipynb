{
 "cells": [
  {
   "cell_type": "code",
   "execution_count": 1,
   "id": "tough-blanket",
   "metadata": {},
   "outputs": [
    {
     "name": "stderr",
     "output_type": "stream",
     "text": [
      "── \u001b[1mAttaching packages\u001b[22m ────────────────────────────────────────────────────────────────────────────────────────────────────────────────────────────────────────────────────────────────────────── tidyverse 1.3.1 ──\n",
      "\n",
      "\u001b[32m✔\u001b[39m \u001b[34mggplot2\u001b[39m 3.3.3     \u001b[32m✔\u001b[39m \u001b[34mpurrr  \u001b[39m 0.3.4\n",
      "\u001b[32m✔\u001b[39m \u001b[34mtibble \u001b[39m 3.1.7     \u001b[32m✔\u001b[39m \u001b[34mdplyr  \u001b[39m 1.0.9\n",
      "\u001b[32m✔\u001b[39m \u001b[34mtidyr  \u001b[39m 1.2.0     \u001b[32m✔\u001b[39m \u001b[34mstringr\u001b[39m 1.4.0\n",
      "\u001b[32m✔\u001b[39m \u001b[34mreadr  \u001b[39m 1.4.0     \u001b[32m✔\u001b[39m \u001b[34mforcats\u001b[39m 0.5.1\n",
      "\n",
      "── \u001b[1mConflicts\u001b[22m ───────────────────────────────────────────────────────────────────────────────────────────────────────────────────────────────────────────────────────────────────────────── tidyverse_conflicts() ──\n",
      "\u001b[31m✖\u001b[39m \u001b[34mdplyr\u001b[39m::\u001b[32mfilter()\u001b[39m masks \u001b[34mstats\u001b[39m::filter()\n",
      "\u001b[31m✖\u001b[39m \u001b[34mdplyr\u001b[39m::\u001b[32mlag()\u001b[39m    masks \u001b[34mstats\u001b[39m::lag()\n",
      "\n"
     ]
    }
   ],
   "source": [
    "library(tidyverse)"
   ]
  },
  {
   "cell_type": "code",
   "execution_count": 2,
   "id": "understanding-grove",
   "metadata": {},
   "outputs": [
    {
     "name": "stderr",
     "output_type": "stream",
     "text": [
      "Loading required package: Rcpp\n",
      "\n",
      "Loading 'brms' package (version 2.14.4). Useful instructions\n",
      "can be found by typing help('brms'). A more detailed introduction\n",
      "to the package is available through vignette('brms_overview').\n",
      "\n",
      "\n",
      "Attaching package: ‘brms’\n",
      "\n",
      "\n",
      "The following object is masked from ‘package:stats’:\n",
      "\n",
      "    ar\n",
      "\n",
      "\n"
     ]
    }
   ],
   "source": [
    "library(brms)\n",
    "library(ape)\n"
   ]
  },
  {
   "cell_type": "code",
   "execution_count": 3,
   "id": "sporting-reference",
   "metadata": {},
   "outputs": [
    {
     "name": "stderr",
     "output_type": "stream",
     "text": [
      "\n",
      "\u001b[36m──\u001b[39m \u001b[1mColumn specification\u001b[22m \u001b[36m───────────────────────────────────────────────────────────────────────────────────────────────────────────────────────────────────────────────────────────────────────────────────────────\u001b[39m\n",
      "cols(\n",
      "  Glottocode = \u001b[31mcol_character()\u001b[39m,\n",
      "  Language = \u001b[31mcol_character()\u001b[39m,\n",
      "  Genus = \u001b[31mcol_character()\u001b[39m,\n",
      "  Case_Marking = \u001b[32mcol_double()\u001b[39m,\n",
      "  Tight_Semantics = \u001b[32mcol_double()\u001b[39m,\n",
      "  Rigid_Order = \u001b[32mcol_double()\u001b[39m,\n",
      "  Verb_Middle = \u001b[32mcol_double()\u001b[39m\n",
      ")\n",
      "\n"
     ]
    }
   ],
   "source": [
    "d <- read_csv(\"../data/data_cues.txt\")"
   ]
  },
  {
   "cell_type": "code",
   "execution_count": 4,
   "id": "collaborative-rebel",
   "metadata": {},
   "outputs": [
    {
     "data": {
      "text/html": [
       "<table class=\"dataframe\">\n",
       "<caption>A tibble: 6 × 7</caption>\n",
       "<thead>\n",
       "\t<tr><th scope=col>Glottocode</th><th scope=col>Language</th><th scope=col>Genus</th><th scope=col>Case_Marking</th><th scope=col>Tight_Semantics</th><th scope=col>Rigid_Order</th><th scope=col>Verb_Middle</th></tr>\n",
       "\t<tr><th scope=col>&lt;chr&gt;</th><th scope=col>&lt;chr&gt;</th><th scope=col>&lt;chr&gt;</th><th scope=col>&lt;dbl&gt;</th><th scope=col>&lt;dbl&gt;</th><th scope=col>&lt;dbl&gt;</th><th scope=col>&lt;dbl&gt;</th></tr>\n",
       "</thead>\n",
       "<tbody>\n",
       "\t<tr><td>stan1318</td><td>Arabic   </td><td>Semitic </td><td>0.036</td><td>0.218</td><td>0.655</td><td>0.391</td></tr>\n",
       "\t<tr><td>bulg1262</td><td>Bulgarian</td><td>Slavic  </td><td>0.028</td><td>0.144</td><td>0.782</td><td>0.966</td></tr>\n",
       "\t<tr><td>croa1245</td><td>Croatian </td><td>Slavic  </td><td>0.415</td><td>0.147</td><td>0.414</td><td>0.900</td></tr>\n",
       "\t<tr><td>czec1258</td><td>Czech    </td><td>Slavic  </td><td>0.525</td><td>0.172</td><td>0.240</td><td>0.818</td></tr>\n",
       "\t<tr><td>dani1285</td><td>Danish   </td><td>Germanic</td><td>0.000</td><td>0.208</td><td>0.926</td><td>0.912</td></tr>\n",
       "\t<tr><td>dutc1256</td><td>Dutch    </td><td>Germanic</td><td>0.000</td><td>0.214</td><td>0.817</td><td>0.462</td></tr>\n",
       "</tbody>\n",
       "</table>\n"
      ],
      "text/latex": [
       "A tibble: 6 × 7\n",
       "\\begin{tabular}{lllllll}\n",
       " Glottocode & Language & Genus & Case\\_Marking & Tight\\_Semantics & Rigid\\_Order & Verb\\_Middle\\\\\n",
       " <chr> & <chr> & <chr> & <dbl> & <dbl> & <dbl> & <dbl>\\\\\n",
       "\\hline\n",
       "\t stan1318 & Arabic    & Semitic  & 0.036 & 0.218 & 0.655 & 0.391\\\\\n",
       "\t bulg1262 & Bulgarian & Slavic   & 0.028 & 0.144 & 0.782 & 0.966\\\\\n",
       "\t croa1245 & Croatian  & Slavic   & 0.415 & 0.147 & 0.414 & 0.900\\\\\n",
       "\t czec1258 & Czech     & Slavic   & 0.525 & 0.172 & 0.240 & 0.818\\\\\n",
       "\t dani1285 & Danish    & Germanic & 0.000 & 0.208 & 0.926 & 0.912\\\\\n",
       "\t dutc1256 & Dutch     & Germanic & 0.000 & 0.214 & 0.817 & 0.462\\\\\n",
       "\\end{tabular}\n"
      ],
      "text/markdown": [
       "\n",
       "A tibble: 6 × 7\n",
       "\n",
       "| Glottocode &lt;chr&gt; | Language &lt;chr&gt; | Genus &lt;chr&gt; | Case_Marking &lt;dbl&gt; | Tight_Semantics &lt;dbl&gt; | Rigid_Order &lt;dbl&gt; | Verb_Middle &lt;dbl&gt; |\n",
       "|---|---|---|---|---|---|---|\n",
       "| stan1318 | Arabic    | Semitic  | 0.036 | 0.218 | 0.655 | 0.391 |\n",
       "| bulg1262 | Bulgarian | Slavic   | 0.028 | 0.144 | 0.782 | 0.966 |\n",
       "| croa1245 | Croatian  | Slavic   | 0.415 | 0.147 | 0.414 | 0.900 |\n",
       "| czec1258 | Czech     | Slavic   | 0.525 | 0.172 | 0.240 | 0.818 |\n",
       "| dani1285 | Danish    | Germanic | 0.000 | 0.208 | 0.926 | 0.912 |\n",
       "| dutc1256 | Dutch     | Germanic | 0.000 | 0.214 | 0.817 | 0.462 |\n",
       "\n"
      ],
      "text/plain": [
       "  Glottocode Language  Genus    Case_Marking Tight_Semantics Rigid_Order\n",
       "1 stan1318   Arabic    Semitic  0.036        0.218           0.655      \n",
       "2 bulg1262   Bulgarian Slavic   0.028        0.144           0.782      \n",
       "3 croa1245   Croatian  Slavic   0.415        0.147           0.414      \n",
       "4 czec1258   Czech     Slavic   0.525        0.172           0.240      \n",
       "5 dani1285   Danish    Germanic 0.000        0.208           0.926      \n",
       "6 dutc1256   Dutch     Germanic 0.000        0.214           0.817      \n",
       "  Verb_Middle\n",
       "1 0.391      \n",
       "2 0.966      \n",
       "3 0.900      \n",
       "4 0.818      \n",
       "5 0.912      \n",
       "6 0.462      "
      ]
     },
     "metadata": {},
     "output_type": "display_data"
    }
   ],
   "source": [
    "head(d)"
   ]
  },
  {
   "cell_type": "code",
   "execution_count": 5,
   "id": "herbal-integer",
   "metadata": {},
   "outputs": [
    {
     "data": {
      "text/html": [
       "<table class=\"dataframe\">\n",
       "<caption>A tibble: 6 × 11</caption>\n",
       "<thead>\n",
       "\t<tr><th scope=col>Glottocode</th><th scope=col>Language</th><th scope=col>Genus</th><th scope=col>Case_Marking</th><th scope=col>Tight_Semantics</th><th scope=col>Rigid_Order</th><th scope=col>Verb_Middle</th><th scope=col>x1</th><th scope=col>x2</th><th scope=col>x3</th><th scope=col>x4</th></tr>\n",
       "\t<tr><th scope=col>&lt;chr&gt;</th><th scope=col>&lt;chr&gt;</th><th scope=col>&lt;chr&gt;</th><th scope=col>&lt;dbl&gt;</th><th scope=col>&lt;dbl&gt;</th><th scope=col>&lt;dbl&gt;</th><th scope=col>&lt;dbl&gt;</th><th scope=col>&lt;dbl[,1]&gt;</th><th scope=col>&lt;dbl[,1]&gt;</th><th scope=col>&lt;dbl[,1]&gt;</th><th scope=col>&lt;dbl[,1]&gt;</th></tr>\n",
       "</thead>\n",
       "<tbody>\n",
       "\t<tr><td>stan1318</td><td>Arabic   </td><td>Semitic </td><td>0.036</td><td>0.218</td><td>0.655</td><td>0.391</td><td>-0.7628649</td><td> 0.826553846</td><td> 0.09797316</td><td>-0.7625740</td></tr>\n",
       "\t<tr><td>bulg1262</td><td>Bulgarian</td><td>Slavic  </td><td>0.028</td><td>0.144</td><td>0.782</td><td>0.966</td><td>-0.7927616</td><td>-0.515764763</td><td> 0.55542136</td><td> 0.7687882</td></tr>\n",
       "\t<tr><td>croa1245</td><td>Croatian </td><td>Slavic  </td><td>0.415</td><td>0.147</td><td>0.414</td><td>0.900</td><td> 0.6534927</td><td>-0.461346441</td><td>-0.77009783</td><td> 0.5930144</td></tr>\n",
       "\t<tr><td>czec1258</td><td>Czech    </td><td>Slavic  </td><td>0.525</td><td>0.172</td><td>0.240</td><td>0.818</td><td> 1.0645728</td><td>-0.007860424</td><td>-1.39683789</td><td> 0.3746289</td></tr>\n",
       "\t<tr><td>dani1285</td><td>Danish   </td><td>Germanic</td><td>0.000</td><td>0.208</td><td>0.926</td><td>0.912</td><td>-0.8974002</td><td> 0.645159439</td><td> 1.07410278</td><td> 0.6249733</td></tr>\n",
       "\t<tr><td>dutc1256</td><td>Dutch    </td><td>Germanic</td><td>0.000</td><td>0.214</td><td>0.817</td><td>0.462</td><td>-0.8974002</td><td> 0.753996083</td><td> 0.68148976</td><td>-0.5734840</td></tr>\n",
       "</tbody>\n",
       "</table>\n"
      ],
      "text/latex": [
       "A tibble: 6 × 11\n",
       "\\begin{tabular}{lllllllllll}\n",
       " Glottocode & Language & Genus & Case\\_Marking & Tight\\_Semantics & Rigid\\_Order & Verb\\_Middle & x1 & x2 & x3 & x4\\\\\n",
       " <chr> & <chr> & <chr> & <dbl> & <dbl> & <dbl> & <dbl> & <dbl{[},1{]}> & <dbl{[},1{]}> & <dbl{[},1{]}> & <dbl{[},1{]}>\\\\\n",
       "\\hline\n",
       "\t stan1318 & Arabic    & Semitic  & 0.036 & 0.218 & 0.655 & 0.391 & -0.7628649 &  0.826553846 &  0.09797316 & -0.7625740\\\\\n",
       "\t bulg1262 & Bulgarian & Slavic   & 0.028 & 0.144 & 0.782 & 0.966 & -0.7927616 & -0.515764763 &  0.55542136 &  0.7687882\\\\\n",
       "\t croa1245 & Croatian  & Slavic   & 0.415 & 0.147 & 0.414 & 0.900 &  0.6534927 & -0.461346441 & -0.77009783 &  0.5930144\\\\\n",
       "\t czec1258 & Czech     & Slavic   & 0.525 & 0.172 & 0.240 & 0.818 &  1.0645728 & -0.007860424 & -1.39683789 &  0.3746289\\\\\n",
       "\t dani1285 & Danish    & Germanic & 0.000 & 0.208 & 0.926 & 0.912 & -0.8974002 &  0.645159439 &  1.07410278 &  0.6249733\\\\\n",
       "\t dutc1256 & Dutch     & Germanic & 0.000 & 0.214 & 0.817 & 0.462 & -0.8974002 &  0.753996083 &  0.68148976 & -0.5734840\\\\\n",
       "\\end{tabular}\n"
      ],
      "text/markdown": [
       "\n",
       "A tibble: 6 × 11\n",
       "\n",
       "| Glottocode &lt;chr&gt; | Language &lt;chr&gt; | Genus &lt;chr&gt; | Case_Marking &lt;dbl&gt; | Tight_Semantics &lt;dbl&gt; | Rigid_Order &lt;dbl&gt; | Verb_Middle &lt;dbl&gt; | x1 &lt;dbl[,1]&gt; | x2 &lt;dbl[,1]&gt; | x3 &lt;dbl[,1]&gt; | x4 &lt;dbl[,1]&gt; |\n",
       "|---|---|---|---|---|---|---|---|---|---|---|\n",
       "| stan1318 | Arabic    | Semitic  | 0.036 | 0.218 | 0.655 | 0.391 | -0.7628649 |  0.826553846 |  0.09797316 | -0.7625740 |\n",
       "| bulg1262 | Bulgarian | Slavic   | 0.028 | 0.144 | 0.782 | 0.966 | -0.7927616 | -0.515764763 |  0.55542136 |  0.7687882 |\n",
       "| croa1245 | Croatian  | Slavic   | 0.415 | 0.147 | 0.414 | 0.900 |  0.6534927 | -0.461346441 | -0.77009783 |  0.5930144 |\n",
       "| czec1258 | Czech     | Slavic   | 0.525 | 0.172 | 0.240 | 0.818 |  1.0645728 | -0.007860424 | -1.39683789 |  0.3746289 |\n",
       "| dani1285 | Danish    | Germanic | 0.000 | 0.208 | 0.926 | 0.912 | -0.8974002 |  0.645159439 |  1.07410278 |  0.6249733 |\n",
       "| dutc1256 | Dutch     | Germanic | 0.000 | 0.214 | 0.817 | 0.462 | -0.8974002 |  0.753996083 |  0.68148976 | -0.5734840 |\n",
       "\n"
      ],
      "text/plain": [
       "  Glottocode Language  Genus    Case_Marking Tight_Semantics Rigid_Order\n",
       "1 stan1318   Arabic    Semitic  0.036        0.218           0.655      \n",
       "2 bulg1262   Bulgarian Slavic   0.028        0.144           0.782      \n",
       "3 croa1245   Croatian  Slavic   0.415        0.147           0.414      \n",
       "4 czec1258   Czech     Slavic   0.525        0.172           0.240      \n",
       "5 dani1285   Danish    Germanic 0.000        0.208           0.926      \n",
       "6 dutc1256   Dutch     Germanic 0.000        0.214           0.817      \n",
       "  Verb_Middle x1         x2           x3          x4        \n",
       "1 0.391       -0.7628649  0.826553846  0.09797316 -0.7625740\n",
       "2 0.966       -0.7927616 -0.515764763  0.55542136  0.7687882\n",
       "3 0.900        0.6534927 -0.461346441 -0.77009783  0.5930144\n",
       "4 0.818        1.0645728 -0.007860424 -1.39683789  0.3746289\n",
       "5 0.912       -0.8974002  0.645159439  1.07410278  0.6249733\n",
       "6 0.462       -0.8974002  0.753996083  0.68148976 -0.5734840"
      ]
     },
     "metadata": {},
     "output_type": "display_data"
    }
   ],
   "source": [
    "d %>%\n",
    "    mutate(\n",
    "        x1 = scale(Case_Marking), \n",
    "        x2 = scale(Tight_Semantics),\n",
    "        x3 = scale(Rigid_Order),\n",
    "        x4 = scale(Verb_Middle)\n",
    "    ) -> d\n",
    "head(d)"
   ]
  },
  {
   "cell_type": "code",
   "execution_count": 6,
   "id": "faced-watson",
   "metadata": {},
   "outputs": [],
   "source": [
    "frm = formula(x1 ~ x2)"
   ]
  },
  {
   "cell_type": "code",
   "execution_count": 7,
   "id": "worthy-tours",
   "metadata": {},
   "outputs": [
    {
     "data": {
      "text/plain": [
       "\n",
       "Call:\n",
       "lm(formula = frm, data = d)\n",
       "\n",
       "Residuals:\n",
       "    Min      1Q  Median      3Q     Max \n",
       "-1.1594 -0.6078 -0.3937  0.6625  2.3716 \n",
       "\n",
       "Coefficients:\n",
       "              Estimate Std. Error t value Pr(>|t|)  \n",
       "(Intercept) -9.516e-17  1.742e-01    0.00     1.00  \n",
       "x2           3.474e-01  1.772e-01    1.96     0.06 .\n",
       "---\n",
       "Signif. codes:  0 ‘***’ 0.001 ‘**’ 0.01 ‘*’ 0.05 ‘.’ 0.1 ‘ ’ 1\n",
       "\n",
       "Residual standard error: 0.9543 on 28 degrees of freedom\n",
       "Multiple R-squared:  0.1207,\tAdjusted R-squared:  0.0893 \n",
       "F-statistic: 3.844 on 1 and 28 DF,  p-value: 0.05996\n"
      ]
     },
     "metadata": {},
     "output_type": "display_data"
    }
   ],
   "source": [
    "summary(lm(frm, d))"
   ]
  },
  {
   "cell_type": "code",
   "execution_count": 8,
   "id": "electric-browser",
   "metadata": {},
   "outputs": [],
   "source": [
    "phylo <- read.nexus(\"../data/mcc.tre\")"
   ]
  },
  {
   "cell_type": "code",
   "execution_count": 9,
   "id": "selected-mobile",
   "metadata": {},
   "outputs": [],
   "source": [
    "A <- 10*ape::vcv.phylo(phylo)"
   ]
  },
  {
   "cell_type": "code",
   "execution_count": 10,
   "id": "continued-classroom",
   "metadata": {},
   "outputs": [
    {
     "name": "stderr",
     "output_type": "stream",
     "text": [
      "Compiling Stan program...\n",
      "\n",
      "Start sampling\n",
      "\n",
      "Warning message:\n",
      "“There were 9 divergent transitions after warmup. See\n",
      "https://mc-stan.org/misc/warnings.html#divergent-transitions-after-warmup\n",
      "to find out why this is a problem and how to eliminate them.”\n",
      "Warning message:\n",
      "“There were 4 chains where the estimated Bayesian Fraction of Missing Information was low. See\n",
      "https://mc-stan.org/misc/warnings.html#bfmi-low”\n",
      "Warning message:\n",
      "“Examine the pairs() plot to diagnose sampling problems\n",
      "”\n",
      "Warning message:\n",
      "“Bulk Effective Samples Size (ESS) is too low, indicating posterior means and medians may be unreliable.\n",
      "Running the chains for more iterations may help. See\n",
      "https://mc-stan.org/misc/warnings.html#bulk-ess”\n",
      "Warning message:\n",
      "“Tail Effective Samples Size (ESS) is too low, indicating posterior variances and tail quantiles may be unreliable.\n",
      "Running the chains for more iterations may help. See\n",
      "https://mc-stan.org/misc/warnings.html#tail-ess”\n",
      "Warning message:\n",
      "“There were 9 divergent transitions after warmup. Increasing adapt_delta above 0.999 may help. See http://mc-stan.org/misc/warnings.html#divergent-transitions-after-warmup”\n"
     ]
    },
    {
     "data": {
      "text/plain": [
       " Family: gaussian \n",
       "  Links: mu = identity; sigma = identity \n",
       "Formula: x1 ~ x2 + (1 | gr(Language, cov = A)) \n",
       "   Data: d (Number of observations: 30) \n",
       "Samples: 4 chains, each with iter = 2000; warmup = 1000; thin = 1;\n",
       "         total post-warmup samples = 4000\n",
       "\n",
       "Group-Level Effects: \n",
       "~Language (Number of levels: 30) \n",
       "              Estimate Est.Error l-95% CI u-95% CI Rhat Bulk_ESS Tail_ESS\n",
       "sd(Intercept)     0.51      0.13     0.27     0.76 1.02      177      713\n",
       "\n",
       "Population-Level Effects: \n",
       "          Estimate Est.Error l-95% CI u-95% CI Rhat Bulk_ESS Tail_ESS\n",
       "Intercept     0.03      0.33    -0.64     0.68 1.00      981     1032\n",
       "x2            0.22      0.16    -0.09     0.55 1.00     1352     2089\n",
       "\n",
       "Family Specific Parameters: \n",
       "      Estimate Est.Error l-95% CI u-95% CI Rhat Bulk_ESS Tail_ESS\n",
       "sigma     0.44      0.20     0.07     0.85 1.04       85       70\n",
       "\n",
       "Samples were drawn using sampling(NUTS). For each parameter, Bulk_ESS\n",
       "and Tail_ESS are effective sample size measures, and Rhat is the potential\n",
       "scale reduction factor on split chains (at convergence, Rhat = 1)."
      ]
     },
     "metadata": {},
     "output_type": "display_data"
    }
   ],
   "source": [
    "model1_2 <- brm(\n",
    "    x1 ~ x2 + (1|gr(Language, cov = A)),\n",
    "    data=d,\n",
    "    data2 = list(A = A),\n",
    "    prior = c(\n",
    "        prior(normal(0, 1), \"b\"),\n",
    "        prior(normal(0, 1), \"Intercept\"),\n",
    "        prior(student_t(3, 0, 20), \"sd\"),\n",
    "        prior(student_t(3, 0, 20), \"sigma\")\n",
    "    ),\n",
    "    iter=2000,\n",
    "    refresh=0,\n",
    "    control=list(adapt_delta=0.999),\n",
    ")\n",
    "summary(model1_2)"
   ]
  },
  {
   "cell_type": "code",
   "execution_count": 11,
   "id": "japanese-execution",
   "metadata": {},
   "outputs": [
    {
     "name": "stderr",
     "output_type": "stream",
     "text": [
      "Compiling Stan program...\n",
      "\n",
      "Start sampling\n",
      "\n",
      "Warning message:\n",
      "“There were 26 divergent transitions after warmup. See\n",
      "https://mc-stan.org/misc/warnings.html#divergent-transitions-after-warmup\n",
      "to find out why this is a problem and how to eliminate them.”\n",
      "Warning message:\n",
      "“There were 19 transitions after warmup that exceeded the maximum treedepth. Increase max_treedepth above 10. See\n",
      "https://mc-stan.org/misc/warnings.html#maximum-treedepth-exceeded”\n",
      "Warning message:\n",
      "“There were 4 chains where the estimated Bayesian Fraction of Missing Information was low. See\n",
      "https://mc-stan.org/misc/warnings.html#bfmi-low”\n",
      "Warning message:\n",
      "“Examine the pairs() plot to diagnose sampling problems\n",
      "”\n",
      "Warning message:\n",
      "“The largest R-hat is 1.06, indicating chains have not mixed.\n",
      "Running the chains for more iterations may help. See\n",
      "https://mc-stan.org/misc/warnings.html#r-hat”\n",
      "Warning message:\n",
      "“Bulk Effective Samples Size (ESS) is too low, indicating posterior means and medians may be unreliable.\n",
      "Running the chains for more iterations may help. See\n",
      "https://mc-stan.org/misc/warnings.html#bulk-ess”\n",
      "Warning message:\n",
      "“Tail Effective Samples Size (ESS) is too low, indicating posterior variances and tail quantiles may be unreliable.\n",
      "Running the chains for more iterations may help. See\n",
      "https://mc-stan.org/misc/warnings.html#tail-ess”\n",
      "Warning message:\n",
      "“Parts of the model have not converged (some Rhats are > 1.05). Be careful when analysing the results! We recommend running more iterations and/or setting stronger priors.”\n",
      "Warning message:\n",
      "“There were 26 divergent transitions after warmup. Increasing adapt_delta above 0.999 may help. See http://mc-stan.org/misc/warnings.html#divergent-transitions-after-warmup”\n"
     ]
    },
    {
     "data": {
      "text/plain": [
       " Family: gaussian \n",
       "  Links: mu = identity; sigma = identity \n",
       "Formula: x1 ~ x3 + (1 | gr(Language, cov = A)) \n",
       "   Data: d (Number of observations: 30) \n",
       "Samples: 4 chains, each with iter = 2000; warmup = 1000; thin = 1;\n",
       "         total post-warmup samples = 4000\n",
       "\n",
       "Group-Level Effects: \n",
       "~Language (Number of levels: 30) \n",
       "              Estimate Est.Error l-95% CI u-95% CI Rhat Bulk_ESS Tail_ESS\n",
       "sd(Intercept)     0.40      0.09     0.22     0.56 1.03      133      267\n",
       "\n",
       "Population-Level Effects: \n",
       "          Estimate Est.Error l-95% CI u-95% CI Rhat Bulk_ESS Tail_ESS\n",
       "Intercept     0.05      0.25    -0.43     0.57 1.01      695     1019\n",
       "x3           -0.78      0.14    -1.05    -0.50 1.01      775     1494\n",
       "\n",
       "Family Specific Parameters: \n",
       "      Estimate Est.Error l-95% CI u-95% CI Rhat Bulk_ESS Tail_ESS\n",
       "sigma     0.20      0.15     0.02     0.56 1.05       50      113\n",
       "\n",
       "Samples were drawn using sampling(NUTS). For each parameter, Bulk_ESS\n",
       "and Tail_ESS are effective sample size measures, and Rhat is the potential\n",
       "scale reduction factor on split chains (at convergence, Rhat = 1)."
      ]
     },
     "metadata": {},
     "output_type": "display_data"
    }
   ],
   "source": [
    "model1_3 <- brm(\n",
    "    x1 ~ x3 + (1|gr(Language, cov = A)),\n",
    "    data=d,\n",
    "    data2 = list(A = A),\n",
    "    prior = c(\n",
    "        prior(normal(0, 10), \"b\"),\n",
    "        prior(normal(0, 50), \"Intercept\"),\n",
    "        prior(student_t(3, 0, 20), \"sd\"),\n",
    "        prior(student_t(3, 0, 20), \"sigma\")\n",
    "    ),\n",
    "    iter=2000,\n",
    "    refresh=0,\n",
    "    control=list(adapt_delta=0.999),\n",
    ")\n",
    "summary(model1_3)"
   ]
  },
  {
   "cell_type": "code",
   "execution_count": 12,
   "id": "resident-master",
   "metadata": {},
   "outputs": [
    {
     "name": "stderr",
     "output_type": "stream",
     "text": [
      "Compiling Stan program...\n",
      "\n",
      "recompiling to avoid crashing R session\n",
      "\n",
      "Start sampling\n",
      "\n",
      "Warning message:\n",
      "“There were 2 divergent transitions after warmup. See\n",
      "https://mc-stan.org/misc/warnings.html#divergent-transitions-after-warmup\n",
      "to find out why this is a problem and how to eliminate them.”\n",
      "Warning message:\n",
      "“There were 1 transitions after warmup that exceeded the maximum treedepth. Increase max_treedepth above 10. See\n",
      "https://mc-stan.org/misc/warnings.html#maximum-treedepth-exceeded”\n",
      "Warning message:\n",
      "“There were 3 chains where the estimated Bayesian Fraction of Missing Information was low. See\n",
      "https://mc-stan.org/misc/warnings.html#bfmi-low”\n",
      "Warning message:\n",
      "“Examine the pairs() plot to diagnose sampling problems\n",
      "”\n",
      "Warning message:\n",
      "“The largest R-hat is 1.07, indicating chains have not mixed.\n",
      "Running the chains for more iterations may help. See\n",
      "https://mc-stan.org/misc/warnings.html#r-hat”\n",
      "Warning message:\n",
      "“Bulk Effective Samples Size (ESS) is too low, indicating posterior means and medians may be unreliable.\n",
      "Running the chains for more iterations may help. See\n",
      "https://mc-stan.org/misc/warnings.html#bulk-ess”\n",
      "Warning message:\n",
      "“Tail Effective Samples Size (ESS) is too low, indicating posterior variances and tail quantiles may be unreliable.\n",
      "Running the chains for more iterations may help. See\n",
      "https://mc-stan.org/misc/warnings.html#tail-ess”\n",
      "Warning message:\n",
      "“Parts of the model have not converged (some Rhats are > 1.05). Be careful when analysing the results! We recommend running more iterations and/or setting stronger priors.”\n",
      "Warning message:\n",
      "“There were 2 divergent transitions after warmup. Increasing adapt_delta above 0.999 may help. See http://mc-stan.org/misc/warnings.html#divergent-transitions-after-warmup”\n"
     ]
    },
    {
     "data": {
      "text/plain": [
       " Family: gaussian \n",
       "  Links: mu = identity; sigma = identity \n",
       "Formula: x1 ~ x4 + (1 | gr(Language, cov = A)) \n",
       "   Data: d (Number of observations: 30) \n",
       "Samples: 4 chains, each with iter = 2000; warmup = 1000; thin = 1;\n",
       "         total post-warmup samples = 4000\n",
       "\n",
       "Group-Level Effects: \n",
       "~Language (Number of levels: 30) \n",
       "              Estimate Est.Error l-95% CI u-95% CI Rhat Bulk_ESS Tail_ESS\n",
       "sd(Intercept)     0.54      0.11     0.34     0.77 1.02      225     1192\n",
       "\n",
       "Population-Level Effects: \n",
       "          Estimate Est.Error l-95% CI u-95% CI Rhat Bulk_ESS Tail_ESS\n",
       "Intercept    -0.12      0.38    -0.84     0.63 1.01      960      956\n",
       "x4           -0.37      0.22    -0.80     0.07 1.01      825     1328\n",
       "\n",
       "Family Specific Parameters: \n",
       "      Estimate Est.Error l-95% CI u-95% CI Rhat Bulk_ESS Tail_ESS\n",
       "sigma     0.35      0.18     0.07     0.73 1.06       53      119\n",
       "\n",
       "Samples were drawn using sampling(NUTS). For each parameter, Bulk_ESS\n",
       "and Tail_ESS are effective sample size measures, and Rhat is the potential\n",
       "scale reduction factor on split chains (at convergence, Rhat = 1)."
      ]
     },
     "metadata": {},
     "output_type": "display_data"
    }
   ],
   "source": [
    "model1_4 <- brm(\n",
    "    x1 ~ x4 + (1|gr(Language, cov = A)),\n",
    "    data=d,\n",
    "    data2 = list(A = A),\n",
    "    prior = c(\n",
    "        prior(normal(0, 10), \"b\"),\n",
    "        prior(normal(0, 50), \"Intercept\"),\n",
    "        prior(student_t(3, 0, 20), \"sd\"),\n",
    "        prior(student_t(3, 0, 20), \"sigma\")\n",
    "    ),\n",
    "    iter=2000,\n",
    "    refresh=0,\n",
    "    control=list(adapt_delta=0.999),\n",
    ")\n",
    "summary(model1_4)"
   ]
  },
  {
   "cell_type": "code",
   "execution_count": 13,
   "id": "interpreted-valuable",
   "metadata": {},
   "outputs": [
    {
     "name": "stderr",
     "output_type": "stream",
     "text": [
      "Compiling Stan program...\n",
      "\n",
      "recompiling to avoid crashing R session\n",
      "\n",
      "Start sampling\n",
      "\n",
      "Warning message:\n",
      "“There were 9 divergent transitions after warmup. See\n",
      "https://mc-stan.org/misc/warnings.html#divergent-transitions-after-warmup\n",
      "to find out why this is a problem and how to eliminate them.”\n",
      "Warning message:\n",
      "“There were 160 transitions after warmup that exceeded the maximum treedepth. Increase max_treedepth above 10. See\n",
      "https://mc-stan.org/misc/warnings.html#maximum-treedepth-exceeded”\n",
      "Warning message:\n",
      "“There were 4 chains where the estimated Bayesian Fraction of Missing Information was low. See\n",
      "https://mc-stan.org/misc/warnings.html#bfmi-low”\n",
      "Warning message:\n",
      "“Examine the pairs() plot to diagnose sampling problems\n",
      "”\n",
      "Warning message:\n",
      "“The largest R-hat is 1.05, indicating chains have not mixed.\n",
      "Running the chains for more iterations may help. See\n",
      "https://mc-stan.org/misc/warnings.html#r-hat”\n",
      "Warning message:\n",
      "“Bulk Effective Samples Size (ESS) is too low, indicating posterior means and medians may be unreliable.\n",
      "Running the chains for more iterations may help. See\n",
      "https://mc-stan.org/misc/warnings.html#bulk-ess”\n",
      "Warning message:\n",
      "“Tail Effective Samples Size (ESS) is too low, indicating posterior variances and tail quantiles may be unreliable.\n",
      "Running the chains for more iterations may help. See\n",
      "https://mc-stan.org/misc/warnings.html#tail-ess”\n",
      "Warning message:\n",
      "“There were 9 divergent transitions after warmup. Increasing adapt_delta above 0.999 may help. See http://mc-stan.org/misc/warnings.html#divergent-transitions-after-warmup”\n"
     ]
    },
    {
     "data": {
      "text/plain": [
       " Family: gaussian \n",
       "  Links: mu = identity; sigma = identity \n",
       "Formula: x2 ~ x3 + (1 | gr(Language, cov = A)) \n",
       "   Data: d (Number of observations: 30) \n",
       "Samples: 4 chains, each with iter = 2000; warmup = 1000; thin = 1;\n",
       "         total post-warmup samples = 4000\n",
       "\n",
       "Group-Level Effects: \n",
       "~Language (Number of levels: 30) \n",
       "              Estimate Est.Error l-95% CI u-95% CI Rhat Bulk_ESS Tail_ESS\n",
       "sd(Intercept)     0.50      0.24     0.04     0.90 1.04      125      790\n",
       "\n",
       "Population-Level Effects: \n",
       "          Estimate Est.Error l-95% CI u-95% CI Rhat Bulk_ESS Tail_ESS\n",
       "Intercept     0.03      0.38    -0.72     0.87 1.01      689      680\n",
       "x3           -0.18      0.24    -0.65     0.29 1.00     1151     1002\n",
       "\n",
       "Family Specific Parameters: \n",
       "      Estimate Est.Error l-95% CI u-95% CI Rhat Bulk_ESS Tail_ESS\n",
       "sigma     0.65      0.32     0.09     1.21 1.05       84      109\n",
       "\n",
       "Samples were drawn using sampling(NUTS). For each parameter, Bulk_ESS\n",
       "and Tail_ESS are effective sample size measures, and Rhat is the potential\n",
       "scale reduction factor on split chains (at convergence, Rhat = 1)."
      ]
     },
     "metadata": {},
     "output_type": "display_data"
    }
   ],
   "source": [
    "model2_3 <- brm(\n",
    "    x2 ~ x3 + (1|gr(Language, cov = A)),\n",
    "    data=d,\n",
    "    data2 = list(A = A),\n",
    "    prior = c(\n",
    "        prior(normal(0, 10), \"b\"),\n",
    "        prior(normal(0, 50), \"Intercept\"),\n",
    "        prior(student_t(3, 0, 20), \"sd\"),\n",
    "        prior(student_t(3, 0, 20), \"sigma\")\n",
    "    ),\n",
    "    iter=2000,\n",
    "    refresh=0,\n",
    "    control=list(adapt_delta=0.999),\n",
    ")\n",
    "summary(model2_3)"
   ]
  },
  {
   "cell_type": "code",
   "execution_count": 14,
   "id": "noted-gauge",
   "metadata": {},
   "outputs": [
    {
     "name": "stderr",
     "output_type": "stream",
     "text": [
      "Compiling Stan program...\n",
      "\n",
      "recompiling to avoid crashing R session\n",
      "\n",
      "Start sampling\n",
      "\n",
      "Warning message:\n",
      "“There were 14 divergent transitions after warmup. See\n",
      "https://mc-stan.org/misc/warnings.html#divergent-transitions-after-warmup\n",
      "to find out why this is a problem and how to eliminate them.”\n",
      "Warning message:\n",
      "“There were 4 chains where the estimated Bayesian Fraction of Missing Information was low. See\n",
      "https://mc-stan.org/misc/warnings.html#bfmi-low”\n",
      "Warning message:\n",
      "“Examine the pairs() plot to diagnose sampling problems\n",
      "”\n",
      "Warning message:\n",
      "“The largest R-hat is 1.05, indicating chains have not mixed.\n",
      "Running the chains for more iterations may help. See\n",
      "https://mc-stan.org/misc/warnings.html#r-hat”\n",
      "Warning message:\n",
      "“Bulk Effective Samples Size (ESS) is too low, indicating posterior means and medians may be unreliable.\n",
      "Running the chains for more iterations may help. See\n",
      "https://mc-stan.org/misc/warnings.html#bulk-ess”\n",
      "Warning message:\n",
      "“Tail Effective Samples Size (ESS) is too low, indicating posterior variances and tail quantiles may be unreliable.\n",
      "Running the chains for more iterations may help. See\n",
      "https://mc-stan.org/misc/warnings.html#tail-ess”\n",
      "Warning message:\n",
      "“Parts of the model have not converged (some Rhats are > 1.05). Be careful when analysing the results! We recommend running more iterations and/or setting stronger priors.”\n",
      "Warning message:\n",
      "“There were 14 divergent transitions after warmup. Increasing adapt_delta above 0.999 may help. See http://mc-stan.org/misc/warnings.html#divergent-transitions-after-warmup”\n"
     ]
    },
    {
     "data": {
      "text/plain": [
       " Family: gaussian \n",
       "  Links: mu = identity; sigma = identity \n",
       "Formula: x2 ~ x4 + (1 | gr(Language, cov = A)) \n",
       "   Data: d (Number of observations: 30) \n",
       "Samples: 4 chains, each with iter = 2000; warmup = 1000; thin = 1;\n",
       "         total post-warmup samples = 4000\n",
       "\n",
       "Group-Level Effects: \n",
       "~Language (Number of levels: 30) \n",
       "              Estimate Est.Error l-95% CI u-95% CI Rhat Bulk_ESS Tail_ESS\n",
       "sd(Intercept)     0.51      0.22     0.06     0.87 1.04      120      697\n",
       "\n",
       "Population-Level Effects: \n",
       "          Estimate Est.Error l-95% CI u-95% CI Rhat Bulk_ESS Tail_ESS\n",
       "Intercept    -0.15      0.39    -0.97     0.60 1.00      789      802\n",
       "x4           -0.43      0.23    -0.90     0.02 1.00     1239     1645\n",
       "\n",
       "Family Specific Parameters: \n",
       "      Estimate Est.Error l-95% CI u-95% CI Rhat Bulk_ESS Tail_ESS\n",
       "sigma     0.57      0.30     0.07     1.12 1.05       77       91\n",
       "\n",
       "Samples were drawn using sampling(NUTS). For each parameter, Bulk_ESS\n",
       "and Tail_ESS are effective sample size measures, and Rhat is the potential\n",
       "scale reduction factor on split chains (at convergence, Rhat = 1)."
      ]
     },
     "metadata": {},
     "output_type": "display_data"
    }
   ],
   "source": [
    "model2_4 <- brm(\n",
    "    x2 ~ x4 + (1|gr(Language, cov = A)),\n",
    "    data=d,\n",
    "    data2 = list(A = A),\n",
    "    prior = c(\n",
    "        prior(normal(0, 10), \"b\"),\n",
    "        prior(normal(0, 50), \"Intercept\"),\n",
    "        prior(student_t(3, 0, 20), \"sd\"),\n",
    "        prior(student_t(3, 0, 20), \"sigma\")\n",
    "    ),\n",
    "    iter=2000,\n",
    "    refresh=0,\n",
    "    control=list(adapt_delta=0.999),\n",
    ")\n",
    "summary(model2_4)"
   ]
  },
  {
   "cell_type": "code",
   "execution_count": 15,
   "id": "legitimate-royal",
   "metadata": {},
   "outputs": [
    {
     "name": "stderr",
     "output_type": "stream",
     "text": [
      "Compiling Stan program...\n",
      "\n",
      "recompiling to avoid crashing R session\n",
      "\n",
      "Start sampling\n",
      "\n",
      "Warning message:\n",
      "“There were 13 divergent transitions after warmup. See\n",
      "https://mc-stan.org/misc/warnings.html#divergent-transitions-after-warmup\n",
      "to find out why this is a problem and how to eliminate them.”\n",
      "Warning message:\n",
      "“There were 1716 transitions after warmup that exceeded the maximum treedepth. Increase max_treedepth above 10. See\n",
      "https://mc-stan.org/misc/warnings.html#maximum-treedepth-exceeded”\n",
      "Warning message:\n",
      "“There were 4 chains where the estimated Bayesian Fraction of Missing Information was low. See\n",
      "https://mc-stan.org/misc/warnings.html#bfmi-low”\n",
      "Warning message:\n",
      "“Examine the pairs() plot to diagnose sampling problems\n",
      "”\n",
      "Warning message:\n",
      "“The largest R-hat is 1.13, indicating chains have not mixed.\n",
      "Running the chains for more iterations may help. See\n",
      "https://mc-stan.org/misc/warnings.html#r-hat”\n",
      "Warning message:\n",
      "“Bulk Effective Samples Size (ESS) is too low, indicating posterior means and medians may be unreliable.\n",
      "Running the chains for more iterations may help. See\n",
      "https://mc-stan.org/misc/warnings.html#bulk-ess”\n",
      "Warning message:\n",
      "“Tail Effective Samples Size (ESS) is too low, indicating posterior variances and tail quantiles may be unreliable.\n",
      "Running the chains for more iterations may help. See\n",
      "https://mc-stan.org/misc/warnings.html#tail-ess”\n",
      "Warning message:\n",
      "“Parts of the model have not converged (some Rhats are > 1.05). Be careful when analysing the results! We recommend running more iterations and/or setting stronger priors.”\n",
      "Warning message:\n",
      "“There were 13 divergent transitions after warmup. Increasing adapt_delta above 0.999 may help. See http://mc-stan.org/misc/warnings.html#divergent-transitions-after-warmup”\n"
     ]
    },
    {
     "data": {
      "text/plain": [
       " Family: gaussian \n",
       "  Links: mu = identity; sigma = identity \n",
       "Formula: x3 ~ x4 + (1 | gr(Language, cov = A)) \n",
       "   Data: d (Number of observations: 30) \n",
       "Samples: 4 chains, each with iter = 2000; warmup = 1000; thin = 1;\n",
       "         total post-warmup samples = 4000\n",
       "\n",
       "Group-Level Effects: \n",
       "~Language (Number of levels: 30) \n",
       "              Estimate Est.Error l-95% CI u-95% CI Rhat Bulk_ESS Tail_ESS\n",
       "sd(Intercept)     0.56      0.10     0.37     0.79 1.05       65      225\n",
       "\n",
       "Population-Level Effects: \n",
       "          Estimate Est.Error l-95% CI u-95% CI Rhat Bulk_ESS Tail_ESS\n",
       "Intercept     0.10      0.37    -0.62     0.86 1.01      351      481\n",
       "x4            0.34      0.22    -0.09     0.79 1.03      235      303\n",
       "\n",
       "Family Specific Parameters: \n",
       "      Estimate Est.Error l-95% CI u-95% CI Rhat Bulk_ESS Tail_ESS\n",
       "sigma     0.27      0.18     0.01     0.66 1.13       23       22\n",
       "\n",
       "Samples were drawn using sampling(NUTS). For each parameter, Bulk_ESS\n",
       "and Tail_ESS are effective sample size measures, and Rhat is the potential\n",
       "scale reduction factor on split chains (at convergence, Rhat = 1)."
      ]
     },
     "metadata": {},
     "output_type": "display_data"
    }
   ],
   "source": [
    "model3_4 <- brm(\n",
    "    x3 ~ x4 + (1|gr(Language, cov = A)),\n",
    "    data=d,\n",
    "    data2 = list(A = A),\n",
    "    prior = c(\n",
    "        prior(normal(0, 10), \"b\"),\n",
    "        prior(normal(0, 50), \"Intercept\"),\n",
    "        prior(student_t(3, 0, 20), \"sd\"),\n",
    "        prior(student_t(3, 0, 20), \"sigma\")\n",
    "    ),    \n",
    "    iter=2000,\n",
    "    refresh=0,\n",
    "    control=list(adapt_delta=0.999),\n",
    ")\n",
    "summary(model3_4)"
   ]
  },
  {
   "cell_type": "code",
   "execution_count": null,
   "id": "thorough-owner",
   "metadata": {},
   "outputs": [],
   "source": []
  }
 ],
 "metadata": {
  "kernelspec": {
   "display_name": "R",
   "language": "R",
   "name": "ir"
  },
  "language_info": {
   "codemirror_mode": "r",
   "file_extension": ".r",
   "mimetype": "text/x-r-source",
   "name": "R",
   "pygments_lexer": "r",
   "version": "4.0.4"
  },
  "varInspector": {
   "cols": {
    "lenName": 16,
    "lenType": 16,
    "lenVar": 40
   },
   "kernels_config": {
    "python": {
     "delete_cmd_postfix": "",
     "delete_cmd_prefix": "del ",
     "library": "var_list.py",
     "varRefreshCmd": "print(var_dic_list())"
    },
    "r": {
     "delete_cmd_postfix": ") ",
     "delete_cmd_prefix": "rm(",
     "library": "var_list.r",
     "varRefreshCmd": "cat(var_dic_list()) "
    }
   },
   "types_to_exclude": [
    "module",
    "function",
    "builtin_function_or_method",
    "instance",
    "_Feature"
   ],
   "window_display": false
  }
 },
 "nbformat": 4,
 "nbformat_minor": 5
}
