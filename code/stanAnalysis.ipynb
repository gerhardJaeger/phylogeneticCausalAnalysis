{
 "cells": [
  {
   "cell_type": "code",
   "execution_count": 1,
   "id": "tough-blanket",
   "metadata": {},
   "outputs": [
    {
     "name": "stderr",
     "output_type": "stream",
     "text": [
      "── \u001b[1mAttaching packages\u001b[22m ────────────────────────────────────────────────────────────────────────────────────────────────────────────────────────────────────────────────────────────────────────── tidyverse 1.3.1 ──\n",
      "\n",
      "\u001b[32m✔\u001b[39m \u001b[34mggplot2\u001b[39m 3.3.5     \u001b[32m✔\u001b[39m \u001b[34mpurrr  \u001b[39m 0.3.4\n",
      "\u001b[32m✔\u001b[39m \u001b[34mtibble \u001b[39m 3.1.6     \u001b[32m✔\u001b[39m \u001b[34mdplyr  \u001b[39m 1.0.7\n",
      "\u001b[32m✔\u001b[39m \u001b[34mtidyr  \u001b[39m 1.1.4     \u001b[32m✔\u001b[39m \u001b[34mstringr\u001b[39m 1.4.0\n",
      "\u001b[32m✔\u001b[39m \u001b[34mreadr  \u001b[39m 2.0.2     \u001b[32m✔\u001b[39m \u001b[34mforcats\u001b[39m 0.5.1\n",
      "\n",
      "── \u001b[1mConflicts\u001b[22m ───────────────────────────────────────────────────────────────────────────────────────────────────────────────────────────────────────────────────────────────────────────── tidyverse_conflicts() ──\n",
      "\u001b[31m✖\u001b[39m \u001b[34mdplyr\u001b[39m::\u001b[32mfilter()\u001b[39m masks \u001b[34mstats\u001b[39m::filter()\n",
      "\u001b[31m✖\u001b[39m \u001b[34mdplyr\u001b[39m::\u001b[32mlag()\u001b[39m    masks \u001b[34mstats\u001b[39m::lag()\n",
      "\n"
     ]
    }
   ],
   "source": [
    "library(tidyverse)"
   ]
  },
  {
   "cell_type": "code",
   "execution_count": 2,
   "id": "understanding-grove",
   "metadata": {},
   "outputs": [
    {
     "name": "stderr",
     "output_type": "stream",
     "text": [
      "Loading required package: Rcpp\n",
      "\n",
      "Loading 'brms' package (version 2.17.0). Useful instructions\n",
      "can be found by typing help('brms'). A more detailed introduction\n",
      "to the package is available through vignette('brms_overview').\n",
      "\n",
      "\n",
      "Attaching package: ‘brms’\n",
      "\n",
      "\n",
      "The following object is masked from ‘package:stats’:\n",
      "\n",
      "    ar\n",
      "\n",
      "\n",
      "This is loo version 2.4.1\n",
      "\n",
      "- Online documentation and vignettes at mc-stan.org/loo\n",
      "\n",
      "- As of v2.0.0 loo defaults to 1 core but we recommend using as many as possible. Use the 'cores' argument or set options(mc.cores = NUM_CORES) for an entire session. \n",
      "\n"
     ]
    }
   ],
   "source": [
    "library(brms)\n",
    "library(ape)\n",
    "library(loo)"
   ]
  },
  {
   "cell_type": "code",
   "execution_count": 3,
   "id": "sporting-reference",
   "metadata": {},
   "outputs": [
    {
     "name": "stderr",
     "output_type": "stream",
     "text": [
      "\u001b[1mRows: \u001b[22m\u001b[34m30\u001b[39m \u001b[1mColumns: \u001b[22m\u001b[34m7\u001b[39m\n",
      "\n",
      "\u001b[36m──\u001b[39m \u001b[1mColumn specification\u001b[22m \u001b[36m───────────────────────────────────────────────────────────────────────────────────────────────────────────────────────────────────────────────────────────────────────────────────────────\u001b[39m\n",
      "\u001b[1mDelimiter:\u001b[22m \",\"\n",
      "\u001b[31mchr\u001b[39m (3): Glottocode, Language, Genus\n",
      "\u001b[32mdbl\u001b[39m (4): Case_Marking, Tight_Semantics, Rigid_Order, Verb_Middle\n",
      "\n",
      "\n",
      "\u001b[36mℹ\u001b[39m Use \u001b[30m\u001b[47m\u001b[30m\u001b[47m`spec()`\u001b[47m\u001b[30m\u001b[49m\u001b[39m to retrieve the full column specification for this data.\n",
      "\u001b[36mℹ\u001b[39m Specify the column types or set \u001b[30m\u001b[47m\u001b[30m\u001b[47m`show_col_types = FALSE`\u001b[47m\u001b[30m\u001b[49m\u001b[39m to quiet this message.\n",
      "\n"
     ]
    }
   ],
   "source": [
    "d <- read_csv(\"../data/data_cues.txt\")"
   ]
  },
  {
   "cell_type": "code",
   "execution_count": 4,
   "id": "collaborative-rebel",
   "metadata": {},
   "outputs": [
    {
     "data": {
      "text/html": [
       "<table class=\"dataframe\">\n",
       "<caption>A tibble: 6 × 7</caption>\n",
       "<thead>\n",
       "\t<tr><th scope=col>Glottocode</th><th scope=col>Language</th><th scope=col>Genus</th><th scope=col>Case_Marking</th><th scope=col>Tight_Semantics</th><th scope=col>Rigid_Order</th><th scope=col>Verb_Middle</th></tr>\n",
       "\t<tr><th scope=col>&lt;chr&gt;</th><th scope=col>&lt;chr&gt;</th><th scope=col>&lt;chr&gt;</th><th scope=col>&lt;dbl&gt;</th><th scope=col>&lt;dbl&gt;</th><th scope=col>&lt;dbl&gt;</th><th scope=col>&lt;dbl&gt;</th></tr>\n",
       "</thead>\n",
       "<tbody>\n",
       "\t<tr><td>stan1318</td><td>Arabic   </td><td>Semitic </td><td>0.036</td><td>0.218</td><td>0.655</td><td>0.391</td></tr>\n",
       "\t<tr><td>bulg1262</td><td>Bulgarian</td><td>Slavic  </td><td>0.028</td><td>0.144</td><td>0.782</td><td>0.966</td></tr>\n",
       "\t<tr><td>croa1245</td><td>Croatian </td><td>Slavic  </td><td>0.415</td><td>0.147</td><td>0.414</td><td>0.900</td></tr>\n",
       "\t<tr><td>czec1258</td><td>Czech    </td><td>Slavic  </td><td>0.525</td><td>0.172</td><td>0.240</td><td>0.818</td></tr>\n",
       "\t<tr><td>dani1285</td><td>Danish   </td><td>Germanic</td><td>0.000</td><td>0.208</td><td>0.926</td><td>0.912</td></tr>\n",
       "\t<tr><td>dutc1256</td><td>Dutch    </td><td>Germanic</td><td>0.000</td><td>0.214</td><td>0.817</td><td>0.462</td></tr>\n",
       "</tbody>\n",
       "</table>\n"
      ],
      "text/latex": [
       "A tibble: 6 × 7\n",
       "\\begin{tabular}{lllllll}\n",
       " Glottocode & Language & Genus & Case\\_Marking & Tight\\_Semantics & Rigid\\_Order & Verb\\_Middle\\\\\n",
       " <chr> & <chr> & <chr> & <dbl> & <dbl> & <dbl> & <dbl>\\\\\n",
       "\\hline\n",
       "\t stan1318 & Arabic    & Semitic  & 0.036 & 0.218 & 0.655 & 0.391\\\\\n",
       "\t bulg1262 & Bulgarian & Slavic   & 0.028 & 0.144 & 0.782 & 0.966\\\\\n",
       "\t croa1245 & Croatian  & Slavic   & 0.415 & 0.147 & 0.414 & 0.900\\\\\n",
       "\t czec1258 & Czech     & Slavic   & 0.525 & 0.172 & 0.240 & 0.818\\\\\n",
       "\t dani1285 & Danish    & Germanic & 0.000 & 0.208 & 0.926 & 0.912\\\\\n",
       "\t dutc1256 & Dutch     & Germanic & 0.000 & 0.214 & 0.817 & 0.462\\\\\n",
       "\\end{tabular}\n"
      ],
      "text/markdown": [
       "\n",
       "A tibble: 6 × 7\n",
       "\n",
       "| Glottocode &lt;chr&gt; | Language &lt;chr&gt; | Genus &lt;chr&gt; | Case_Marking &lt;dbl&gt; | Tight_Semantics &lt;dbl&gt; | Rigid_Order &lt;dbl&gt; | Verb_Middle &lt;dbl&gt; |\n",
       "|---|---|---|---|---|---|---|\n",
       "| stan1318 | Arabic    | Semitic  | 0.036 | 0.218 | 0.655 | 0.391 |\n",
       "| bulg1262 | Bulgarian | Slavic   | 0.028 | 0.144 | 0.782 | 0.966 |\n",
       "| croa1245 | Croatian  | Slavic   | 0.415 | 0.147 | 0.414 | 0.900 |\n",
       "| czec1258 | Czech     | Slavic   | 0.525 | 0.172 | 0.240 | 0.818 |\n",
       "| dani1285 | Danish    | Germanic | 0.000 | 0.208 | 0.926 | 0.912 |\n",
       "| dutc1256 | Dutch     | Germanic | 0.000 | 0.214 | 0.817 | 0.462 |\n",
       "\n"
      ],
      "text/plain": [
       "  Glottocode Language  Genus    Case_Marking Tight_Semantics Rigid_Order\n",
       "1 stan1318   Arabic    Semitic  0.036        0.218           0.655      \n",
       "2 bulg1262   Bulgarian Slavic   0.028        0.144           0.782      \n",
       "3 croa1245   Croatian  Slavic   0.415        0.147           0.414      \n",
       "4 czec1258   Czech     Slavic   0.525        0.172           0.240      \n",
       "5 dani1285   Danish    Germanic 0.000        0.208           0.926      \n",
       "6 dutc1256   Dutch     Germanic 0.000        0.214           0.817      \n",
       "  Verb_Middle\n",
       "1 0.391      \n",
       "2 0.966      \n",
       "3 0.900      \n",
       "4 0.818      \n",
       "5 0.912      \n",
       "6 0.462      "
      ]
     },
     "metadata": {},
     "output_type": "display_data"
    }
   ],
   "source": [
    "head(d)"
   ]
  },
  {
   "cell_type": "code",
   "execution_count": 5,
   "id": "herbal-integer",
   "metadata": {},
   "outputs": [
    {
     "data": {
      "text/html": [
       "<table class=\"dataframe\">\n",
       "<caption>A tibble: 6 × 11</caption>\n",
       "<thead>\n",
       "\t<tr><th scope=col>Glottocode</th><th scope=col>Language</th><th scope=col>Genus</th><th scope=col>Case_Marking</th><th scope=col>Tight_Semantics</th><th scope=col>Rigid_Order</th><th scope=col>Verb_Middle</th><th scope=col>x1</th><th scope=col>x2</th><th scope=col>x3</th><th scope=col>x4</th></tr>\n",
       "\t<tr><th scope=col>&lt;chr&gt;</th><th scope=col>&lt;chr&gt;</th><th scope=col>&lt;chr&gt;</th><th scope=col>&lt;dbl&gt;</th><th scope=col>&lt;dbl&gt;</th><th scope=col>&lt;dbl&gt;</th><th scope=col>&lt;dbl&gt;</th><th scope=col>&lt;dbl[,1]&gt;</th><th scope=col>&lt;dbl[,1]&gt;</th><th scope=col>&lt;dbl[,1]&gt;</th><th scope=col>&lt;dbl[,1]&gt;</th></tr>\n",
       "</thead>\n",
       "<tbody>\n",
       "\t<tr><td>stan1318</td><td>Arabic   </td><td>Semitic </td><td>0.036</td><td>0.218</td><td>0.655</td><td>0.391</td><td>-0.7628649</td><td> 0.826553846</td><td> 0.09797316</td><td>-0.7625740</td></tr>\n",
       "\t<tr><td>bulg1262</td><td>Bulgarian</td><td>Slavic  </td><td>0.028</td><td>0.144</td><td>0.782</td><td>0.966</td><td>-0.7927616</td><td>-0.515764763</td><td> 0.55542136</td><td> 0.7687882</td></tr>\n",
       "\t<tr><td>croa1245</td><td>Croatian </td><td>Slavic  </td><td>0.415</td><td>0.147</td><td>0.414</td><td>0.900</td><td> 0.6534927</td><td>-0.461346441</td><td>-0.77009783</td><td> 0.5930144</td></tr>\n",
       "\t<tr><td>czec1258</td><td>Czech    </td><td>Slavic  </td><td>0.525</td><td>0.172</td><td>0.240</td><td>0.818</td><td> 1.0645728</td><td>-0.007860424</td><td>-1.39683789</td><td> 0.3746289</td></tr>\n",
       "\t<tr><td>dani1285</td><td>Danish   </td><td>Germanic</td><td>0.000</td><td>0.208</td><td>0.926</td><td>0.912</td><td>-0.8974002</td><td> 0.645159439</td><td> 1.07410278</td><td> 0.6249733</td></tr>\n",
       "\t<tr><td>dutc1256</td><td>Dutch    </td><td>Germanic</td><td>0.000</td><td>0.214</td><td>0.817</td><td>0.462</td><td>-0.8974002</td><td> 0.753996083</td><td> 0.68148976</td><td>-0.5734840</td></tr>\n",
       "</tbody>\n",
       "</table>\n"
      ],
      "text/latex": [
       "A tibble: 6 × 11\n",
       "\\begin{tabular}{lllllllllll}\n",
       " Glottocode & Language & Genus & Case\\_Marking & Tight\\_Semantics & Rigid\\_Order & Verb\\_Middle & x1 & x2 & x3 & x4\\\\\n",
       " <chr> & <chr> & <chr> & <dbl> & <dbl> & <dbl> & <dbl> & <dbl{[},1{]}> & <dbl{[},1{]}> & <dbl{[},1{]}> & <dbl{[},1{]}>\\\\\n",
       "\\hline\n",
       "\t stan1318 & Arabic    & Semitic  & 0.036 & 0.218 & 0.655 & 0.391 & -0.7628649 &  0.826553846 &  0.09797316 & -0.7625740\\\\\n",
       "\t bulg1262 & Bulgarian & Slavic   & 0.028 & 0.144 & 0.782 & 0.966 & -0.7927616 & -0.515764763 &  0.55542136 &  0.7687882\\\\\n",
       "\t croa1245 & Croatian  & Slavic   & 0.415 & 0.147 & 0.414 & 0.900 &  0.6534927 & -0.461346441 & -0.77009783 &  0.5930144\\\\\n",
       "\t czec1258 & Czech     & Slavic   & 0.525 & 0.172 & 0.240 & 0.818 &  1.0645728 & -0.007860424 & -1.39683789 &  0.3746289\\\\\n",
       "\t dani1285 & Danish    & Germanic & 0.000 & 0.208 & 0.926 & 0.912 & -0.8974002 &  0.645159439 &  1.07410278 &  0.6249733\\\\\n",
       "\t dutc1256 & Dutch     & Germanic & 0.000 & 0.214 & 0.817 & 0.462 & -0.8974002 &  0.753996083 &  0.68148976 & -0.5734840\\\\\n",
       "\\end{tabular}\n"
      ],
      "text/markdown": [
       "\n",
       "A tibble: 6 × 11\n",
       "\n",
       "| Glottocode &lt;chr&gt; | Language &lt;chr&gt; | Genus &lt;chr&gt; | Case_Marking &lt;dbl&gt; | Tight_Semantics &lt;dbl&gt; | Rigid_Order &lt;dbl&gt; | Verb_Middle &lt;dbl&gt; | x1 &lt;dbl[,1]&gt; | x2 &lt;dbl[,1]&gt; | x3 &lt;dbl[,1]&gt; | x4 &lt;dbl[,1]&gt; |\n",
       "|---|---|---|---|---|---|---|---|---|---|---|\n",
       "| stan1318 | Arabic    | Semitic  | 0.036 | 0.218 | 0.655 | 0.391 | -0.7628649 |  0.826553846 |  0.09797316 | -0.7625740 |\n",
       "| bulg1262 | Bulgarian | Slavic   | 0.028 | 0.144 | 0.782 | 0.966 | -0.7927616 | -0.515764763 |  0.55542136 |  0.7687882 |\n",
       "| croa1245 | Croatian  | Slavic   | 0.415 | 0.147 | 0.414 | 0.900 |  0.6534927 | -0.461346441 | -0.77009783 |  0.5930144 |\n",
       "| czec1258 | Czech     | Slavic   | 0.525 | 0.172 | 0.240 | 0.818 |  1.0645728 | -0.007860424 | -1.39683789 |  0.3746289 |\n",
       "| dani1285 | Danish    | Germanic | 0.000 | 0.208 | 0.926 | 0.912 | -0.8974002 |  0.645159439 |  1.07410278 |  0.6249733 |\n",
       "| dutc1256 | Dutch     | Germanic | 0.000 | 0.214 | 0.817 | 0.462 | -0.8974002 |  0.753996083 |  0.68148976 | -0.5734840 |\n",
       "\n"
      ],
      "text/plain": [
       "  Glottocode Language  Genus    Case_Marking Tight_Semantics Rigid_Order\n",
       "1 stan1318   Arabic    Semitic  0.036        0.218           0.655      \n",
       "2 bulg1262   Bulgarian Slavic   0.028        0.144           0.782      \n",
       "3 croa1245   Croatian  Slavic   0.415        0.147           0.414      \n",
       "4 czec1258   Czech     Slavic   0.525        0.172           0.240      \n",
       "5 dani1285   Danish    Germanic 0.000        0.208           0.926      \n",
       "6 dutc1256   Dutch     Germanic 0.000        0.214           0.817      \n",
       "  Verb_Middle x1         x2           x3          x4        \n",
       "1 0.391       -0.7628649  0.826553846  0.09797316 -0.7625740\n",
       "2 0.966       -0.7927616 -0.515764763  0.55542136  0.7687882\n",
       "3 0.900        0.6534927 -0.461346441 -0.77009783  0.5930144\n",
       "4 0.818        1.0645728 -0.007860424 -1.39683789  0.3746289\n",
       "5 0.912       -0.8974002  0.645159439  1.07410278  0.6249733\n",
       "6 0.462       -0.8974002  0.753996083  0.68148976 -0.5734840"
      ]
     },
     "metadata": {},
     "output_type": "display_data"
    }
   ],
   "source": [
    "d %>%\n",
    "    mutate(\n",
    "        x1 = scale(Case_Marking), \n",
    "        x2 = scale(Tight_Semantics),\n",
    "        x3 = scale(Rigid_Order),\n",
    "        x4 = scale(Verb_Middle)\n",
    "    ) -> d\n",
    "head(d)"
   ]
  },
  {
   "cell_type": "code",
   "execution_count": 73,
   "id": "faced-watson",
   "metadata": {},
   "outputs": [],
   "source": [
    "frm = formula(x1 ~ x2 + x3 + x4)"
   ]
  },
  {
   "cell_type": "code",
   "execution_count": 74,
   "id": "worthy-tours",
   "metadata": {},
   "outputs": [
    {
     "data": {
      "text/plain": [
       "\n",
       "Call:\n",
       "lm(formula = frm, data = d)\n",
       "\n",
       "Residuals:\n",
       "     Min       1Q   Median       3Q      Max \n",
       "-1.68439 -0.28572  0.03906  0.32083  1.43754 \n",
       "\n",
       "Coefficients:\n",
       "              Estimate Std. Error t value Pr(>|t|)    \n",
       "(Intercept) -1.565e-16  1.158e-01   0.000   1.0000    \n",
       "x2           2.193e-01  1.279e-01   1.715   0.0982 .  \n",
       "x3          -7.346e-01  1.207e-01  -6.085 1.98e-06 ***\n",
       "x4           1.947e-02  1.277e-01   0.152   0.8800    \n",
       "---\n",
       "Signif. codes:  0 ‘***’ 0.001 ‘**’ 0.01 ‘*’ 0.05 ‘.’ 0.1 ‘ ’ 1\n",
       "\n",
       "Residual standard error: 0.6344 on 26 degrees of freedom\n",
       "Multiple R-squared:  0.6392,\tAdjusted R-squared:  0.5976 \n",
       "F-statistic: 15.35 on 3 and 26 DF,  p-value: 5.99e-06\n"
      ]
     },
     "metadata": {},
     "output_type": "display_data"
    }
   ],
   "source": [
    "summary(lm(frm, d))"
   ]
  },
  {
   "cell_type": "code",
   "execution_count": 8,
   "id": "electric-browser",
   "metadata": {},
   "outputs": [],
   "source": [
    "phylo <- read.nexus(\"../data/mcc.tre\")"
   ]
  },
  {
   "cell_type": "code",
   "execution_count": 9,
   "id": "selected-mobile",
   "metadata": {},
   "outputs": [],
   "source": [
    "A <- 10*ape::vcv.phylo(phylo)"
   ]
  },
  {
   "cell_type": "code",
   "execution_count": 75,
   "id": "337fb4f7",
   "metadata": {},
   "outputs": [],
   "source": [
    "frm = formula(x1 ~ x2 + x3 + x4 + (1|gr(Language, cov = A)))\n",
    "frm0 = formula(x1 ~ x2 + x3 + x4)"
   ]
  },
  {
   "cell_type": "code",
   "execution_count": 76,
   "id": "continued-classroom",
   "metadata": {},
   "outputs": [
    {
     "name": "stderr",
     "output_type": "stream",
     "text": [
      "Compiling Stan program...\n",
      "\n",
      "recompiling to avoid crashing R session\n",
      "\n",
      "Start sampling\n",
      "\n",
      "Warning message:\n",
      "“There were 95 divergent transitions after warmup. See\n",
      "https://mc-stan.org/misc/warnings.html#divergent-transitions-after-warmup\n",
      "to find out why this is a problem and how to eliminate them.”\n",
      "Warning message:\n",
      "“There were 4036 transitions after warmup that exceeded the maximum treedepth. Increase max_treedepth above 10. See\n",
      "https://mc-stan.org/misc/warnings.html#maximum-treedepth-exceeded”\n",
      "Warning message:\n",
      "“There were 4 chains where the estimated Bayesian Fraction of Missing Information was low. See\n",
      "https://mc-stan.org/misc/warnings.html#bfmi-low”\n",
      "Warning message:\n",
      "“Examine the pairs() plot to diagnose sampling problems\n",
      "”\n",
      "Warning message:\n",
      "“Bulk Effective Samples Size (ESS) is too low, indicating posterior means and medians may be unreliable.\n",
      "Running the chains for more iterations may help. See\n",
      "https://mc-stan.org/misc/warnings.html#bulk-ess”\n",
      "Warning message:\n",
      "“Tail Effective Samples Size (ESS) is too low, indicating posterior variances and tail quantiles may be unreliable.\n",
      "Running the chains for more iterations may help. See\n",
      "https://mc-stan.org/misc/warnings.html#tail-ess”\n",
      "Warning message:\n",
      "“Found 21 observations with a pareto_k > 0.7 in model 'model'. It is recommended to set 'moment_match = TRUE' in order to perform moment matching for problematic observations. ”\n"
     ]
    }
   ],
   "source": [
    "model <- brm(\n",
    "    frm,\n",
    "    data=d,\n",
    "    data2 = list(A = A),\n",
    "    prior = c(\n",
    "        prior(normal(0, 1), \"b\"),\n",
    "        prior(normal(0, 1), \"Intercept\"),\n",
    "        prior(student_t(3, 0, 20), \"sd\"),\n",
    "        prior(student_t(3, 0, 20), \"sigma\")\n",
    "    ),\n",
    "    iter=10000,\n",
    "    refresh=0,\n",
    "    control=list(adapt_delta=0.999),\n",
    ")\n",
    "model <- add_criterion(model, \"loo\")"
   ]
  },
  {
   "cell_type": "code",
   "execution_count": 77,
   "id": "98f5fa17",
   "metadata": {},
   "outputs": [
    {
     "name": "stderr",
     "output_type": "stream",
     "text": [
      "Compiling Stan program...\n",
      "\n",
      "recompiling to avoid crashing R session\n",
      "\n",
      "Start sampling\n",
      "\n",
      "Warning message:\n",
      "“Found 1 observations with a pareto_k > 0.7 in model 'null_model'. It is recommended to set 'moment_match = TRUE' in order to perform moment matching for problematic observations. ”\n"
     ]
    }
   ],
   "source": [
    "null_model <- brm(\n",
    "    frm0,\n",
    "    data=d,\n",
    "    data2 = list(A = A),\n",
    "    prior = c(\n",
    "        prior(normal(0, 1), \"b\"),\n",
    "        prior(normal(0, 1), \"Intercept\"),\n",
    "        prior(student_t(3, 0, 20), \"sigma\")\n",
    "    ),\n",
    "    iter=10000,\n",
    "    refresh=0,\n",
    "    control=list(adapt_delta=0.999),\n",
    ")\n",
    "null_model <- add_criterion(null_model, \"loo\")\n"
   ]
  },
  {
   "cell_type": "code",
   "execution_count": 78,
   "id": "d1c08fe0",
   "metadata": {},
   "outputs": [
    {
     "data": {
      "text/html": [
       "<table class=\"dataframe\">\n",
       "<caption>A compare.loo: 2 × 8 of type dbl</caption>\n",
       "<thead>\n",
       "\t<tr><th></th><th scope=col>elpd_diff</th><th scope=col>se_diff</th><th scope=col>elpd_loo</th><th scope=col>se_elpd_loo</th><th scope=col>p_loo</th><th scope=col>se_p_loo</th><th scope=col>looic</th><th scope=col>se_looic</th></tr>\n",
       "</thead>\n",
       "<tbody>\n",
       "\t<tr><th scope=row>model</th><td>  0.00000</td><td>0.000000</td><td>-11.39098</td><td>3.749701</td><td>43.80967</td><td>3.659203</td><td>22.78196</td><td> 7.499402</td></tr>\n",
       "\t<tr><th scope=row>null_model</th><td>-22.53138</td><td>2.723293</td><td>-33.92236</td><td>6.256576</td><td> 6.78274</td><td>3.205680</td><td>67.84472</td><td>12.513152</td></tr>\n",
       "</tbody>\n",
       "</table>\n"
      ],
      "text/latex": [
       "A compare.loo: 2 × 8 of type dbl\n",
       "\\begin{tabular}{r|llllllll}\n",
       "  & elpd\\_diff & se\\_diff & elpd\\_loo & se\\_elpd\\_loo & p\\_loo & se\\_p\\_loo & looic & se\\_looic\\\\\n",
       "\\hline\n",
       "\tmodel &   0.00000 & 0.000000 & -11.39098 & 3.749701 & 43.80967 & 3.659203 & 22.78196 &  7.499402\\\\\n",
       "\tnull\\_model & -22.53138 & 2.723293 & -33.92236 & 6.256576 &  6.78274 & 3.205680 & 67.84472 & 12.513152\\\\\n",
       "\\end{tabular}\n"
      ],
      "text/markdown": [
       "\n",
       "A compare.loo: 2 × 8 of type dbl\n",
       "\n",
       "| <!--/--> | elpd_diff | se_diff | elpd_loo | se_elpd_loo | p_loo | se_p_loo | looic | se_looic |\n",
       "|---|---|---|---|---|---|---|---|---|\n",
       "| model |   0.00000 | 0.000000 | -11.39098 | 3.749701 | 43.80967 | 3.659203 | 22.78196 |  7.499402 |\n",
       "| null_model | -22.53138 | 2.723293 | -33.92236 | 6.256576 |  6.78274 | 3.205680 | 67.84472 | 12.513152 |\n",
       "\n"
      ],
      "text/plain": [
       "           elpd_diff se_diff  elpd_loo  se_elpd_loo p_loo    se_p_loo looic   \n",
       "model        0.00000 0.000000 -11.39098 3.749701    43.80967 3.659203 22.78196\n",
       "null_model -22.53138 2.723293 -33.92236 6.256576     6.78274 3.205680 67.84472\n",
       "           se_looic \n",
       "model       7.499402\n",
       "null_model 12.513152"
      ]
     },
     "metadata": {},
     "output_type": "display_data"
    }
   ],
   "source": [
    "(mc <- loo_compare(model, null_model))"
   ]
  },
  {
   "cell_type": "code",
   "execution_count": 79,
   "id": "6bfd8b0e",
   "metadata": {},
   "outputs": [],
   "source": [
    "if (as.numeric(which.min(mc[,\"looic\"])) == 1) {\n",
    "    winner <- model\n",
    "} else {\n",
    "    winner <- null_model\n",
    "}"
   ]
  },
  {
   "cell_type": "code",
   "execution_count": 80,
   "id": "4115d211",
   "metadata": {
    "scrolled": false
   },
   "outputs": [
    {
     "name": "stderr",
     "output_type": "stream",
     "text": [
      "Warning message:\n",
      "“There were 95 divergent transitions after warmup. Increasing adapt_delta above 0.999 may help. See http://mc-stan.org/misc/warnings.html#divergent-transitions-after-warmup”\n"
     ]
    },
    {
     "data": {
      "text/plain": [
       " Family: gaussian \n",
       "  Links: mu = identity; sigma = identity \n",
       "Formula: x1 ~ x2 + x3 + x4 + (1 | gr(Language, cov = A)) \n",
       "   Data: d (Number of observations: 30) \n",
       "  Draws: 4 chains, each with iter = 10000; warmup = 5000; thin = 1;\n",
       "         total post-warmup draws = 20000\n",
       "\n",
       "Group-Level Effects: \n",
       "~Language (Number of levels: 30) \n",
       "              Estimate Est.Error l-95% CI u-95% CI Rhat Bulk_ESS Tail_ESS\n",
       "sd(Intercept)     0.40      0.09     0.19     0.57 1.00      770     1403\n",
       "\n",
       "Population-Level Effects: \n",
       "          Estimate Est.Error l-95% CI u-95% CI Rhat Bulk_ESS Tail_ESS\n",
       "Intercept    -0.01      0.26    -0.54     0.50 1.00     5622     6375\n",
       "x2            0.11      0.13    -0.13     0.37 1.00     5508     9041\n",
       "x3           -0.72      0.15    -1.01    -0.42 1.00     5778     7340\n",
       "x4           -0.08      0.17    -0.41     0.26 1.00     5860     6576\n",
       "\n",
       "Family Specific Parameters: \n",
       "      Estimate Est.Error l-95% CI u-95% CI Rhat Bulk_ESS Tail_ESS\n",
       "sigma     0.21      0.15     0.02     0.60 1.01      175      211\n",
       "\n",
       "Draws were sampled using sampling(NUTS). For each parameter, Bulk_ESS\n",
       "and Tail_ESS are effective sample size measures, and Rhat is the potential\n",
       "scale reduction factor on split chains (at convergence, Rhat = 1)."
      ]
     },
     "metadata": {},
     "output_type": "display_data"
    }
   ],
   "source": [
    "summary(winner)"
   ]
  },
  {
   "cell_type": "code",
   "execution_count": 81,
   "id": "70b88fd9",
   "metadata": {},
   "outputs": [
    {
     "name": "stderr",
     "output_type": "stream",
     "text": [
      "Warning message:\n",
      "“There were 95 divergent transitions after warmup. Increasing adapt_delta above 0.999 may help. See http://mc-stan.org/misc/warnings.html#divergent-transitions-after-warmup”\n"
     ]
    },
    {
     "data": {
      "text/html": [
       "<table class=\"dataframe\">\n",
       "<caption>A data.frame: 3 × 3</caption>\n",
       "<thead>\n",
       "\t<tr><th></th><th scope=col>Estimate</th><th scope=col>l-95% CI</th><th scope=col>u-95% CI</th></tr>\n",
       "\t<tr><th></th><th scope=col>&lt;dbl&gt;</th><th scope=col>&lt;dbl&gt;</th><th scope=col>&lt;dbl&gt;</th></tr>\n",
       "</thead>\n",
       "<tbody>\n",
       "\t<tr><th scope=row>x2</th><td> 0.11293134</td><td>-0.1348422</td><td> 0.3667597</td></tr>\n",
       "\t<tr><th scope=row>x3</th><td>-0.71662085</td><td>-1.0131689</td><td>-0.4182950</td></tr>\n",
       "\t<tr><th scope=row>x4</th><td>-0.08011532</td><td>-0.4143219</td><td> 0.2570393</td></tr>\n",
       "</tbody>\n",
       "</table>\n"
      ],
      "text/latex": [
       "A data.frame: 3 × 3\n",
       "\\begin{tabular}{r|lll}\n",
       "  & Estimate & l-95\\% CI & u-95\\% CI\\\\\n",
       "  & <dbl> & <dbl> & <dbl>\\\\\n",
       "\\hline\n",
       "\tx2 &  0.11293134 & -0.1348422 &  0.3667597\\\\\n",
       "\tx3 & -0.71662085 & -1.0131689 & -0.4182950\\\\\n",
       "\tx4 & -0.08011532 & -0.4143219 &  0.2570393\\\\\n",
       "\\end{tabular}\n"
      ],
      "text/markdown": [
       "\n",
       "A data.frame: 3 × 3\n",
       "\n",
       "| <!--/--> | Estimate &lt;dbl&gt; | l-95% CI &lt;dbl&gt; | u-95% CI &lt;dbl&gt; |\n",
       "|---|---|---|---|\n",
       "| x2 |  0.11293134 | -0.1348422 |  0.3667597 |\n",
       "| x3 | -0.71662085 | -1.0131689 | -0.4182950 |\n",
       "| x4 | -0.08011532 | -0.4143219 |  0.2570393 |\n",
       "\n"
      ],
      "text/plain": [
       "   Estimate    l-95% CI   u-95% CI  \n",
       "x2  0.11293134 -0.1348422  0.3667597\n",
       "x3 -0.71662085 -1.0131689 -0.4182950\n",
       "x4 -0.08011532 -0.4143219  0.2570393"
      ]
     },
     "metadata": {},
     "output_type": "display_data"
    }
   ],
   "source": [
    "summary(winner)[['fixed']][-1,c(1,3,4)]"
   ]
  },
  {
   "cell_type": "code",
   "execution_count": null,
   "id": "97099cd8",
   "metadata": {},
   "outputs": [],
   "source": []
  }
 ],
 "metadata": {
  "kernelspec": {
   "display_name": "R",
   "language": "R",
   "name": "ir"
  },
  "language_info": {
   "codemirror_mode": "r",
   "file_extension": ".r",
   "mimetype": "text/x-r-source",
   "name": "R",
   "pygments_lexer": "r",
   "version": "4.0.4"
  },
  "varInspector": {
   "cols": {
    "lenName": 16,
    "lenType": 16,
    "lenVar": 40
   },
   "kernels_config": {
    "python": {
     "delete_cmd_postfix": "",
     "delete_cmd_prefix": "del ",
     "library": "var_list.py",
     "varRefreshCmd": "print(var_dic_list())"
    },
    "r": {
     "delete_cmd_postfix": ") ",
     "delete_cmd_prefix": "rm(",
     "library": "var_list.r",
     "varRefreshCmd": "cat(var_dic_list()) "
    }
   },
   "types_to_exclude": [
    "module",
    "function",
    "builtin_function_or_method",
    "instance",
    "_Feature"
   ],
   "window_display": false
  }
 },
 "nbformat": 4,
 "nbformat_minor": 5
}
