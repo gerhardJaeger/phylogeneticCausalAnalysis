{
 "cells": [
  {
   "cell_type": "code",
   "execution_count": 1,
   "id": "understanding-grove",
   "metadata": {},
   "outputs": [
    {
     "name": "stderr",
     "output_type": "stream",
     "text": [
      "── \u001b[1mAttaching packages\u001b[22m ────────────────────────────────────────────────────────────────────────────────────────────────────────────────────────────────────────────────────────────────────────── tidyverse 1.3.1 ──\n",
      "\n",
      "\u001b[32m✔\u001b[39m \u001b[34mggplot2\u001b[39m 3.3.6     \u001b[32m✔\u001b[39m \u001b[34mpurrr  \u001b[39m 0.3.4\n",
      "\u001b[32m✔\u001b[39m \u001b[34mtibble \u001b[39m 3.1.7     \u001b[32m✔\u001b[39m \u001b[34mdplyr  \u001b[39m 1.0.9\n",
      "\u001b[32m✔\u001b[39m \u001b[34mtidyr  \u001b[39m 1.2.0     \u001b[32m✔\u001b[39m \u001b[34mstringr\u001b[39m 1.4.0\n",
      "\u001b[32m✔\u001b[39m \u001b[34mreadr  \u001b[39m 2.1.2     \u001b[32m✔\u001b[39m \u001b[34mforcats\u001b[39m 0.5.1\n",
      "\n",
      "── \u001b[1mConflicts\u001b[22m ───────────────────────────────────────────────────────────────────────────────────────────────────────────────────────────────────────────────────────────────────────────── tidyverse_conflicts() ──\n",
      "\u001b[31m✖\u001b[39m \u001b[34mdplyr\u001b[39m::\u001b[32mfilter()\u001b[39m  masks \u001b[34mstats\u001b[39m::filter()\n",
      "\u001b[31m✖\u001b[39m \u001b[34mpurrr\u001b[39m::\u001b[32mflatten()\u001b[39m masks \u001b[34mjsonlite\u001b[39m::flatten()\n",
      "\u001b[31m✖\u001b[39m \u001b[34mdplyr\u001b[39m::\u001b[32mlag()\u001b[39m     masks \u001b[34mstats\u001b[39m::lag()\n",
      "\n",
      "Loading required package: ape\n",
      "\n",
      "Loading required package: maps\n",
      "\n",
      "\n",
      "Attaching package: ‘maps’\n",
      "\n",
      "\n",
      "The following object is masked from ‘package:purrr’:\n",
      "\n",
      "    map\n",
      "\n",
      "\n"
     ]
    }
   ],
   "source": [
    "library(tidyverse)\n",
    "library(phytools)"
   ]
  },
  {
   "cell_type": "markdown",
   "id": "indonesian-fruit",
   "metadata": {},
   "source": [
    "### reading in the data"
   ]
  },
  {
   "cell_type": "code",
   "execution_count": 2,
   "id": "sporting-reference",
   "metadata": {},
   "outputs": [
    {
     "name": "stderr",
     "output_type": "stream",
     "text": [
      "\u001b[1mRows: \u001b[22m\u001b[34m30\u001b[39m \u001b[1mColumns: \u001b[22m\u001b[34m7\u001b[39m\n",
      "\u001b[36m──\u001b[39m \u001b[1mColumn specification\u001b[22m \u001b[36m───────────────────────────────────────────────────────────────────────────────────────────────────────────────────────────────────────────────────────────────────────────────────────────\u001b[39m\n",
      "\u001b[1mDelimiter:\u001b[22m \",\"\n",
      "\u001b[31mchr\u001b[39m (3): Glottocode, Language, Genus\n",
      "\u001b[32mdbl\u001b[39m (4): Case_Marking, Tight_Semantics, Rigid_Order, Verb_Middle\n",
      "\n",
      "\u001b[36mℹ\u001b[39m Use `spec()` to retrieve the full column specification for this data.\n",
      "\u001b[36mℹ\u001b[39m Specify the column types or set `show_col_types = FALSE` to quiet this message.\n"
     ]
    }
   ],
   "source": [
    "d <- read_csv(\"../data/data_cues.txt\")"
   ]
  },
  {
   "cell_type": "code",
   "execution_count": 3,
   "id": "collaborative-rebel",
   "metadata": {},
   "outputs": [
    {
     "data": {
      "text/html": [
       "<table class=\"dataframe\">\n",
       "<caption>A tibble: 6 × 7</caption>\n",
       "<thead>\n",
       "\t<tr><th scope=col>Glottocode</th><th scope=col>Language</th><th scope=col>Genus</th><th scope=col>Case_Marking</th><th scope=col>Tight_Semantics</th><th scope=col>Rigid_Order</th><th scope=col>Verb_Middle</th></tr>\n",
       "\t<tr><th scope=col>&lt;chr&gt;</th><th scope=col>&lt;chr&gt;</th><th scope=col>&lt;chr&gt;</th><th scope=col>&lt;dbl&gt;</th><th scope=col>&lt;dbl&gt;</th><th scope=col>&lt;dbl&gt;</th><th scope=col>&lt;dbl&gt;</th></tr>\n",
       "</thead>\n",
       "<tbody>\n",
       "\t<tr><td>stan1318</td><td>Arabic   </td><td>Semitic </td><td>0.036</td><td>0.218</td><td>0.655</td><td>0.391</td></tr>\n",
       "\t<tr><td>bulg1262</td><td>Bulgarian</td><td>Slavic  </td><td>0.028</td><td>0.144</td><td>0.782</td><td>0.966</td></tr>\n",
       "\t<tr><td>croa1245</td><td>Croatian </td><td>Slavic  </td><td>0.415</td><td>0.147</td><td>0.414</td><td>0.900</td></tr>\n",
       "\t<tr><td>czec1258</td><td>Czech    </td><td>Slavic  </td><td>0.525</td><td>0.172</td><td>0.240</td><td>0.818</td></tr>\n",
       "\t<tr><td>dani1285</td><td>Danish   </td><td>Germanic</td><td>0.000</td><td>0.208</td><td>0.926</td><td>0.912</td></tr>\n",
       "\t<tr><td>dutc1256</td><td>Dutch    </td><td>Germanic</td><td>0.000</td><td>0.214</td><td>0.817</td><td>0.462</td></tr>\n",
       "</tbody>\n",
       "</table>\n"
      ],
      "text/latex": [
       "A tibble: 6 × 7\n",
       "\\begin{tabular}{lllllll}\n",
       " Glottocode & Language & Genus & Case\\_Marking & Tight\\_Semantics & Rigid\\_Order & Verb\\_Middle\\\\\n",
       " <chr> & <chr> & <chr> & <dbl> & <dbl> & <dbl> & <dbl>\\\\\n",
       "\\hline\n",
       "\t stan1318 & Arabic    & Semitic  & 0.036 & 0.218 & 0.655 & 0.391\\\\\n",
       "\t bulg1262 & Bulgarian & Slavic   & 0.028 & 0.144 & 0.782 & 0.966\\\\\n",
       "\t croa1245 & Croatian  & Slavic   & 0.415 & 0.147 & 0.414 & 0.900\\\\\n",
       "\t czec1258 & Czech     & Slavic   & 0.525 & 0.172 & 0.240 & 0.818\\\\\n",
       "\t dani1285 & Danish    & Germanic & 0.000 & 0.208 & 0.926 & 0.912\\\\\n",
       "\t dutc1256 & Dutch     & Germanic & 0.000 & 0.214 & 0.817 & 0.462\\\\\n",
       "\\end{tabular}\n"
      ],
      "text/markdown": [
       "\n",
       "A tibble: 6 × 7\n",
       "\n",
       "| Glottocode &lt;chr&gt; | Language &lt;chr&gt; | Genus &lt;chr&gt; | Case_Marking &lt;dbl&gt; | Tight_Semantics &lt;dbl&gt; | Rigid_Order &lt;dbl&gt; | Verb_Middle &lt;dbl&gt; |\n",
       "|---|---|---|---|---|---|---|\n",
       "| stan1318 | Arabic    | Semitic  | 0.036 | 0.218 | 0.655 | 0.391 |\n",
       "| bulg1262 | Bulgarian | Slavic   | 0.028 | 0.144 | 0.782 | 0.966 |\n",
       "| croa1245 | Croatian  | Slavic   | 0.415 | 0.147 | 0.414 | 0.900 |\n",
       "| czec1258 | Czech     | Slavic   | 0.525 | 0.172 | 0.240 | 0.818 |\n",
       "| dani1285 | Danish    | Germanic | 0.000 | 0.208 | 0.926 | 0.912 |\n",
       "| dutc1256 | Dutch     | Germanic | 0.000 | 0.214 | 0.817 | 0.462 |\n",
       "\n"
      ],
      "text/plain": [
       "  Glottocode Language  Genus    Case_Marking Tight_Semantics Rigid_Order\n",
       "1 stan1318   Arabic    Semitic  0.036        0.218           0.655      \n",
       "2 bulg1262   Bulgarian Slavic   0.028        0.144           0.782      \n",
       "3 croa1245   Croatian  Slavic   0.415        0.147           0.414      \n",
       "4 czec1258   Czech     Slavic   0.525        0.172           0.240      \n",
       "5 dani1285   Danish    Germanic 0.000        0.208           0.926      \n",
       "6 dutc1256   Dutch     Germanic 0.000        0.214           0.817      \n",
       "  Verb_Middle\n",
       "1 0.391      \n",
       "2 0.966      \n",
       "3 0.900      \n",
       "4 0.818      \n",
       "5 0.912      \n",
       "6 0.462      "
      ]
     },
     "metadata": {},
     "output_type": "display_data"
    }
   ],
   "source": [
    "head(d)"
   ]
  },
  {
   "cell_type": "markdown",
   "id": "statewide-municipality",
   "metadata": {},
   "source": [
    "### preprocessing\n",
    "\n",
    "I scaled the four variables to mean 0 and standard deviation 1.\n",
    "\n",
    "The coding is:\n",
    "\n",
    "- `x1`: Case_Marking\n",
    "- `x2`: Tight_Semantics\n",
    "- `x3`: Rigid_Order\n",
    "- `x4`: Verb_middle\n",
    "\n"
   ]
  },
  {
   "cell_type": "code",
   "execution_count": 4,
   "id": "noted-agent",
   "metadata": {},
   "outputs": [],
   "source": [
    "\n",
    "rescale <- function(x, e = 0.0001) {\n",
    "    y = ifelse(x == 1, x - e, x)\n",
    "    ifelse(y == 0, y + e, y)\n",
    "}\n"
   ]
  },
  {
   "cell_type": "code",
   "execution_count": 5,
   "id": "yellow-massage",
   "metadata": {},
   "outputs": [],
   "source": [
    "logit <- function(x) {\n",
    "    log(x / (1-x))\n",
    "}"
   ]
  },
  {
   "cell_type": "code",
   "execution_count": 6,
   "id": "herbal-integer",
   "metadata": {},
   "outputs": [
    {
     "data": {
      "text/html": [
       "<table class=\"dataframe\">\n",
       "<caption>A tibble: 6 × 11</caption>\n",
       "<thead>\n",
       "\t<tr><th scope=col>Glottocode</th><th scope=col>Language</th><th scope=col>Genus</th><th scope=col>Case_Marking</th><th scope=col>Tight_Semantics</th><th scope=col>Rigid_Order</th><th scope=col>Verb_Middle</th><th scope=col>x1</th><th scope=col>x2</th><th scope=col>x3</th><th scope=col>x4</th></tr>\n",
       "\t<tr><th scope=col>&lt;chr&gt;</th><th scope=col>&lt;chr&gt;</th><th scope=col>&lt;chr&gt;</th><th scope=col>&lt;dbl&gt;</th><th scope=col>&lt;dbl&gt;</th><th scope=col>&lt;dbl&gt;</th><th scope=col>&lt;dbl&gt;</th><th scope=col>&lt;dbl&gt;</th><th scope=col>&lt;dbl&gt;</th><th scope=col>&lt;dbl&gt;</th><th scope=col>&lt;dbl&gt;</th></tr>\n",
       "</thead>\n",
       "<tbody>\n",
       "\t<tr><td>stan1318</td><td>Arabic   </td><td>Semitic </td><td>0.036</td><td>0.218</td><td>0.655</td><td>0.391</td><td>-3.2875724</td><td>-1.277360</td><td> 0.6410908</td><td>-0.4431107</td></tr>\n",
       "\t<tr><td>bulg1262</td><td>Bulgarian</td><td>Slavic  </td><td>0.028</td><td>0.144</td><td>0.782</td><td>0.966</td><td>-3.5471513</td><td>-1.782457</td><td> 1.2773597</td><td> 3.3468033</td></tr>\n",
       "\t<tr><td>croa1245</td><td>Croatian </td><td>Slavic  </td><td>0.415</td><td>0.147</td><td>0.414</td><td>0.900</td><td>-0.3433333</td><td>-1.758327</td><td>-0.3474538</td><td> 2.1972246</td></tr>\n",
       "\t<tr><td>czec1258</td><td>Czech    </td><td>Slavic  </td><td>0.525</td><td>0.172</td><td>0.240</td><td>0.818</td><td> 0.1000835</td><td>-1.571519</td><td>-1.1526795</td><td> 1.5028556</td></tr>\n",
       "\t<tr><td>dani1285</td><td>Danish   </td><td>Germanic</td><td>0.000</td><td>0.208</td><td>0.926</td><td>0.912</td><td>-9.2102404</td><td>-1.337023</td><td> 2.5268091</td><td> 2.3383032</td></tr>\n",
       "\t<tr><td>dutc1256</td><td>Dutch    </td><td>Germanic</td><td>0.000</td><td>0.214</td><td>0.817</td><td>0.462</td><td>-9.2102404</td><td>-1.300981</td><td> 1.4961529</td><td>-0.1522937</td></tr>\n",
       "</tbody>\n",
       "</table>\n"
      ],
      "text/latex": [
       "A tibble: 6 × 11\n",
       "\\begin{tabular}{lllllllllll}\n",
       " Glottocode & Language & Genus & Case\\_Marking & Tight\\_Semantics & Rigid\\_Order & Verb\\_Middle & x1 & x2 & x3 & x4\\\\\n",
       " <chr> & <chr> & <chr> & <dbl> & <dbl> & <dbl> & <dbl> & <dbl> & <dbl> & <dbl> & <dbl>\\\\\n",
       "\\hline\n",
       "\t stan1318 & Arabic    & Semitic  & 0.036 & 0.218 & 0.655 & 0.391 & -3.2875724 & -1.277360 &  0.6410908 & -0.4431107\\\\\n",
       "\t bulg1262 & Bulgarian & Slavic   & 0.028 & 0.144 & 0.782 & 0.966 & -3.5471513 & -1.782457 &  1.2773597 &  3.3468033\\\\\n",
       "\t croa1245 & Croatian  & Slavic   & 0.415 & 0.147 & 0.414 & 0.900 & -0.3433333 & -1.758327 & -0.3474538 &  2.1972246\\\\\n",
       "\t czec1258 & Czech     & Slavic   & 0.525 & 0.172 & 0.240 & 0.818 &  0.1000835 & -1.571519 & -1.1526795 &  1.5028556\\\\\n",
       "\t dani1285 & Danish    & Germanic & 0.000 & 0.208 & 0.926 & 0.912 & -9.2102404 & -1.337023 &  2.5268091 &  2.3383032\\\\\n",
       "\t dutc1256 & Dutch     & Germanic & 0.000 & 0.214 & 0.817 & 0.462 & -9.2102404 & -1.300981 &  1.4961529 & -0.1522937\\\\\n",
       "\\end{tabular}\n"
      ],
      "text/markdown": [
       "\n",
       "A tibble: 6 × 11\n",
       "\n",
       "| Glottocode &lt;chr&gt; | Language &lt;chr&gt; | Genus &lt;chr&gt; | Case_Marking &lt;dbl&gt; | Tight_Semantics &lt;dbl&gt; | Rigid_Order &lt;dbl&gt; | Verb_Middle &lt;dbl&gt; | x1 &lt;dbl&gt; | x2 &lt;dbl&gt; | x3 &lt;dbl&gt; | x4 &lt;dbl&gt; |\n",
       "|---|---|---|---|---|---|---|---|---|---|---|\n",
       "| stan1318 | Arabic    | Semitic  | 0.036 | 0.218 | 0.655 | 0.391 | -3.2875724 | -1.277360 |  0.6410908 | -0.4431107 |\n",
       "| bulg1262 | Bulgarian | Slavic   | 0.028 | 0.144 | 0.782 | 0.966 | -3.5471513 | -1.782457 |  1.2773597 |  3.3468033 |\n",
       "| croa1245 | Croatian  | Slavic   | 0.415 | 0.147 | 0.414 | 0.900 | -0.3433333 | -1.758327 | -0.3474538 |  2.1972246 |\n",
       "| czec1258 | Czech     | Slavic   | 0.525 | 0.172 | 0.240 | 0.818 |  0.1000835 | -1.571519 | -1.1526795 |  1.5028556 |\n",
       "| dani1285 | Danish    | Germanic | 0.000 | 0.208 | 0.926 | 0.912 | -9.2102404 | -1.337023 |  2.5268091 |  2.3383032 |\n",
       "| dutc1256 | Dutch     | Germanic | 0.000 | 0.214 | 0.817 | 0.462 | -9.2102404 | -1.300981 |  1.4961529 | -0.1522937 |\n",
       "\n"
      ],
      "text/plain": [
       "  Glottocode Language  Genus    Case_Marking Tight_Semantics Rigid_Order\n",
       "1 stan1318   Arabic    Semitic  0.036        0.218           0.655      \n",
       "2 bulg1262   Bulgarian Slavic   0.028        0.144           0.782      \n",
       "3 croa1245   Croatian  Slavic   0.415        0.147           0.414      \n",
       "4 czec1258   Czech     Slavic   0.525        0.172           0.240      \n",
       "5 dani1285   Danish    Germanic 0.000        0.208           0.926      \n",
       "6 dutc1256   Dutch     Germanic 0.000        0.214           0.817      \n",
       "  Verb_Middle x1         x2        x3         x4        \n",
       "1 0.391       -3.2875724 -1.277360  0.6410908 -0.4431107\n",
       "2 0.966       -3.5471513 -1.782457  1.2773597  3.3468033\n",
       "3 0.900       -0.3433333 -1.758327 -0.3474538  2.1972246\n",
       "4 0.818        0.1000835 -1.571519 -1.1526795  1.5028556\n",
       "5 0.912       -9.2102404 -1.337023  2.5268091  2.3383032\n",
       "6 0.462       -9.2102404 -1.300981  1.4961529 -0.1522937"
      ]
     },
     "metadata": {},
     "output_type": "display_data"
    }
   ],
   "source": [
    "d %>%\n",
    "    mutate(\n",
    "        x1 = logit(rescale(Case_Marking)), \n",
    "        x2 = logit(rescale(Tight_Semantics)),\n",
    "        x3 = logit(rescale(Rigid_Order)),\n",
    "        x4 = logit(rescale(Verb_Middle))\n",
    "    ) -> d\n",
    "head(d)"
   ]
  },
  {
   "cell_type": "code",
   "execution_count": 7,
   "id": "basic-background",
   "metadata": {},
   "outputs": [
    {
     "data": {
      "text/html": [
       "<table class=\"dataframe\">\n",
       "<caption>A matrix: 4 × 4 of type dbl</caption>\n",
       "<thead>\n",
       "\t<tr><th></th><th scope=col>x1</th><th scope=col>x2</th><th scope=col>x3</th><th scope=col>x4</th></tr>\n",
       "</thead>\n",
       "<tbody>\n",
       "\t<tr><th scope=row>x1</th><td> 1.0000000</td><td> 0.2921834</td><td>-0.7871244</td><td>-0.4455840</td></tr>\n",
       "\t<tr><th scope=row>x2</th><td> 0.2921834</td><td> 1.0000000</td><td>-0.2301989</td><td>-0.3685708</td></tr>\n",
       "\t<tr><th scope=row>x3</th><td>-0.7871244</td><td>-0.2301989</td><td> 1.0000000</td><td> 0.3038085</td></tr>\n",
       "\t<tr><th scope=row>x4</th><td>-0.4455840</td><td>-0.3685708</td><td> 0.3038085</td><td> 1.0000000</td></tr>\n",
       "</tbody>\n",
       "</table>\n"
      ],
      "text/latex": [
       "A matrix: 4 × 4 of type dbl\n",
       "\\begin{tabular}{r|llll}\n",
       "  & x1 & x2 & x3 & x4\\\\\n",
       "\\hline\n",
       "\tx1 &  1.0000000 &  0.2921834 & -0.7871244 & -0.4455840\\\\\n",
       "\tx2 &  0.2921834 &  1.0000000 & -0.2301989 & -0.3685708\\\\\n",
       "\tx3 & -0.7871244 & -0.2301989 &  1.0000000 &  0.3038085\\\\\n",
       "\tx4 & -0.4455840 & -0.3685708 &  0.3038085 &  1.0000000\\\\\n",
       "\\end{tabular}\n"
      ],
      "text/markdown": [
       "\n",
       "A matrix: 4 × 4 of type dbl\n",
       "\n",
       "| <!--/--> | x1 | x2 | x3 | x4 |\n",
       "|---|---|---|---|---|\n",
       "| x1 |  1.0000000 |  0.2921834 | -0.7871244 | -0.4455840 |\n",
       "| x2 |  0.2921834 |  1.0000000 | -0.2301989 | -0.3685708 |\n",
       "| x3 | -0.7871244 | -0.2301989 |  1.0000000 |  0.3038085 |\n",
       "| x4 | -0.4455840 | -0.3685708 |  0.3038085 |  1.0000000 |\n",
       "\n"
      ],
      "text/plain": [
       "   x1         x2         x3         x4        \n",
       "x1  1.0000000  0.2921834 -0.7871244 -0.4455840\n",
       "x2  0.2921834  1.0000000 -0.2301989 -0.3685708\n",
       "x3 -0.7871244 -0.2301989  1.0000000  0.3038085\n",
       "x4 -0.4455840 -0.3685708  0.3038085  1.0000000"
      ]
     },
     "metadata": {},
     "output_type": "display_data"
    }
   ],
   "source": [
    "d %>%\n",
    "    select(x1, x2, x3, x4) %>%\n",
    "    cor"
   ]
  },
  {
   "cell_type": "markdown",
   "id": "innocent-harbor",
   "metadata": {},
   "source": [
    "### reading in the phylogenetic tree"
   ]
  },
  {
   "cell_type": "code",
   "execution_count": 8,
   "id": "electric-browser",
   "metadata": {},
   "outputs": [],
   "source": [
    "trees <- ape::read.tree(\"../data/posterior.tree\")\n",
    "tree <- phangorn::maxCladeCred(trees)"
   ]
  },
  {
   "cell_type": "code",
   "execution_count": 9,
   "id": "scenic-rough",
   "metadata": {},
   "outputs": [
    {
     "data": {
      "image/png": "[encoded data removed]",
      "text/plain": [
       "plot without title"
      ]
     },
     "metadata": {
      "image/png": {
       "height": 420,
       "width": 420
      }
     },
     "output_type": "display_data"
    }
   ],
   "source": [
    "plot(tree)"
   ]
  },
  {
   "cell_type": "code",
   "execution_count": 22,
   "id": "violent-entrepreneur",
   "metadata": {},
   "outputs": [
    {
     "data": {
      "text/plain": [
       "\n",
       "Phylogenetic signal K : 0.665434 \n",
       "P-value (based on 1000 randomizations) : 0.012 \n"
      ]
     },
     "metadata": {},
     "output_type": "display_data"
    }
   ],
   "source": [
    "x = d$x1\n",
    "names(x) = d$Language\n",
    "phylosig(tree, x, test=T)"
   ]
  },
  {
   "cell_type": "code",
   "execution_count": 23,
   "id": "unavailable-business",
   "metadata": {},
   "outputs": [
    {
     "data": {
      "text/plain": [
       "\n",
       "Phylogenetic signal K : 0.608402 \n",
       "P-value (based on 1000 randomizations) : 0.022 \n"
      ]
     },
     "metadata": {},
     "output_type": "display_data"
    }
   ],
   "source": [
    "x = d$x2\n",
    "names(x) = d$Language\n",
    "phylosig(tree, x, test=T)"
   ]
  },
  {
   "cell_type": "code",
   "execution_count": 24,
   "id": "temporal-klein",
   "metadata": {},
   "outputs": [
    {
     "data": {
      "text/plain": [
       "\n",
       "Phylogenetic signal K : 0.880907 \n",
       "P-value (based on 1000 randomizations) : 0.001 \n"
      ]
     },
     "metadata": {},
     "output_type": "display_data"
    }
   ],
   "source": [
    "x = d$x3\n",
    "names(x) = d$Language\n",
    "phylosig(tree, x, test=T)"
   ]
  },
  {
   "cell_type": "code",
   "execution_count": 25,
   "id": "decimal-berlin",
   "metadata": {},
   "outputs": [
    {
     "data": {
      "text/plain": [
       "\n",
       "Phylogenetic signal K : 1.31878 \n",
       "P-value (based on 1000 randomizations) : 0.001 \n"
      ]
     },
     "metadata": {},
     "output_type": "display_data"
    }
   ],
   "source": [
    "x = d$x4\n",
    "names(x) = d$Language\n",
    "phylosig(tree, x, test=T)"
   ]
  },
  {
   "cell_type": "code",
   "execution_count": 26,
   "id": "partial-arbor",
   "metadata": {},
   "outputs": [
    {
     "data": {
      "text/plain": [
       "\n",
       "Phylogenetic signal lambda : 0.733388 \n",
       "logL(lambda) : -75.619 \n",
       "LR(lambda=0) : 10.0395 \n",
       "P-value (based on LR test) : 0.00153215 \n"
      ]
     },
     "metadata": {},
     "output_type": "display_data"
    }
   ],
   "source": [
    "x = d$x1\n",
    "names(x) = d$Language\n",
    "phylosig(tree, x, method=\"lambda\", test=T)"
   ]
  },
  {
   "cell_type": "code",
   "execution_count": 28,
   "id": "foreign-foundation",
   "metadata": {},
   "outputs": [
    {
     "data": {
      "text/plain": [
       "\n",
       "Phylogenetic signal lambda : 0.999934 \n",
       "logL(lambda) : -15.0547 \n",
       "LR(lambda=0) : 1.22793 \n",
       "P-value (based on LR test) : 0.267811 \n"
      ]
     },
     "metadata": {},
     "output_type": "display_data"
    }
   ],
   "source": [
    "x = d$x2\n",
    "names(x) = d$Language\n",
    "phylosig(tree, x, method=\"lambda\", test=T)"
   ]
  },
  {
   "cell_type": "code",
   "execution_count": 29,
   "id": "necessary-uzbekistan",
   "metadata": {},
   "outputs": [
    {
     "data": {
      "text/plain": [
       "\n",
       "Phylogenetic signal lambda : 0.999934 \n",
       "logL(lambda) : -51.289 \n",
       "LR(lambda=0) : 12.3029 \n",
       "P-value (based on LR test) : 0.000452256 \n"
      ]
     },
     "metadata": {},
     "output_type": "display_data"
    }
   ],
   "source": [
    "x = d$x3\n",
    "names(x) = d$Language\n",
    "phylosig(tree, x, method=\"lambda\", test=T)"
   ]
  },
  {
   "cell_type": "code",
   "execution_count": 30,
   "id": "chicken-mexican",
   "metadata": {},
   "outputs": [
    {
     "data": {
      "text/plain": [
       "\n",
       "Phylogenetic signal lambda : 0.999934 \n",
       "logL(lambda) : -74.2433 \n",
       "LR(lambda=0) : 18.9767 \n",
       "P-value (based on LR test) : 1.32322e-05 \n"
      ]
     },
     "metadata": {},
     "output_type": "display_data"
    }
   ],
   "source": [
    "x = d$x4\n",
    "names(x) = d$Language\n",
    "phylosig(tree, x, method=\"lambda\", test=T)"
   ]
  },
  {
   "cell_type": "code",
   "execution_count": null,
   "id": "knowing-furniture",
   "metadata": {},
   "outputs": [],
   "source": []
  }
 ],
 "metadata": {
  "kernelspec": {
   "display_name": "R",
   "language": "R",
   "name": "ir"
  },
  "language_info": {
   "codemirror_mode": "r",
   "file_extension": ".r",
   "mimetype": "text/x-r-source",
   "name": "R",
   "pygments_lexer": "r",
   "version": "4.2.1"
  },
  "varInspector": {
   "cols": {
    "lenName": 16,
    "lenType": 16,
    "lenVar": 40
   },
   "kernels_config": {
    "python": {
     "delete_cmd_postfix": "",
     "delete_cmd_prefix": "del ",
     "library": "var_list.py",
     "varRefreshCmd": "print(var_dic_list())"
    },
    "r": {
     "delete_cmd_postfix": ") ",
     "delete_cmd_prefix": "rm(",
     "library": "var_list.r",
     "varRefreshCmd": "cat(var_dic_list()) "
    }
   },
   "types_to_exclude": [
    "module",
    "function",
    "builtin_function_or_method",
    "instance",
    "_Feature"
   ],
   "window_display": false
  }
 },
 "nbformat": 4,
 "nbformat_minor": 5
}
