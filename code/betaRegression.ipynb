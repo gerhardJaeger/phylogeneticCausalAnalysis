{
 "cells": [
  {
   "cell_type": "code",
   "execution_count": 1,
   "id": "wrapped-transformation",
   "metadata": {},
   "outputs": [
    {
     "name": "stderr",
     "output_type": "stream",
     "text": [
      "── \u001b[1mAttaching packages\u001b[22m ────────────────────────────────────────────────────────────────────────────────────────────────────────────────────────────────────────────────────────────────────────── tidyverse 1.3.1 ──\n",
      "\n",
      "\u001b[32m✔\u001b[39m \u001b[34mggplot2\u001b[39m 3.3.6     \u001b[32m✔\u001b[39m \u001b[34mpurrr  \u001b[39m 0.3.4\n",
      "\u001b[32m✔\u001b[39m \u001b[34mtibble \u001b[39m 3.1.7     \u001b[32m✔\u001b[39m \u001b[34mdplyr  \u001b[39m 1.0.9\n",
      "\u001b[32m✔\u001b[39m \u001b[34mtidyr  \u001b[39m 1.2.0     \u001b[32m✔\u001b[39m \u001b[34mstringr\u001b[39m 1.4.0\n",
      "\u001b[32m✔\u001b[39m \u001b[34mreadr  \u001b[39m 2.1.2     \u001b[32m✔\u001b[39m \u001b[34mforcats\u001b[39m 0.5.1\n",
      "\n",
      "── \u001b[1mConflicts\u001b[22m ───────────────────────────────────────────────────────────────────────────────────────────────────────────────────────────────────────────────────────────────────────────── tidyverse_conflicts() ──\n",
      "\u001b[31m✖\u001b[39m \u001b[34mdplyr\u001b[39m::\u001b[32mfilter()\u001b[39m  masks \u001b[34mstats\u001b[39m::filter()\n",
      "\u001b[31m✖\u001b[39m \u001b[34mpurrr\u001b[39m::\u001b[32mflatten()\u001b[39m masks \u001b[34mjsonlite\u001b[39m::flatten()\n",
      "\u001b[31m✖\u001b[39m \u001b[34mdplyr\u001b[39m::\u001b[32mlag()\u001b[39m     masks \u001b[34mstats\u001b[39m::lag()\n",
      "\n",
      "Loading required package: Rcpp\n",
      "\n",
      "Loading 'brms' package (version 2.17.0). Useful instructions\n",
      "can be found by typing help('brms'). A more detailed introduction\n",
      "to the package is available through vignette('brms_overview').\n",
      "\n",
      "\n",
      "Attaching package: ‘brms’\n",
      "\n",
      "\n",
      "The following object is masked from ‘package:stats’:\n",
      "\n",
      "    ar\n",
      "\n",
      "\n"
     ]
    }
   ],
   "source": [
    "library(tidyverse)\n",
    "library(brms)"
   ]
  },
  {
   "cell_type": "code",
   "execution_count": 2,
   "id": "limiting-cooper",
   "metadata": {},
   "outputs": [
    {
     "name": "stderr",
     "output_type": "stream",
     "text": [
      "\u001b[1mRows: \u001b[22m\u001b[34m30\u001b[39m \u001b[1mColumns: \u001b[22m\u001b[34m7\u001b[39m\n",
      "\u001b[36m──\u001b[39m \u001b[1mColumn specification\u001b[22m \u001b[36m───────────────────────────────────────────────────────────────────────────────────────────────────────────────────────────────────────────────────────────────────────────────────────────\u001b[39m\n",
      "\u001b[1mDelimiter:\u001b[22m \",\"\n",
      "\u001b[31mchr\u001b[39m (3): Glottocode, Language, Genus\n",
      "\u001b[32mdbl\u001b[39m (4): Case_Marking, Tight_Semantics, Rigid_Order, Verb_Middle\n",
      "\n",
      "\u001b[36mℹ\u001b[39m Use `spec()` to retrieve the full column specification for this data.\n",
      "\u001b[36mℹ\u001b[39m Specify the column types or set `show_col_types = FALSE` to quiet this message.\n"
     ]
    }
   ],
   "source": [
    "data_cues <- read_csv(\"../data/data_cues.txt\")\n"
   ]
  },
  {
   "cell_type": "code",
   "execution_count": 3,
   "id": "serial-creek",
   "metadata": {},
   "outputs": [],
   "source": [
    "trees <- ape::read.tree(\"../data/posterior.tree\")\n",
    "tree <- phangorn::maxCladeCred(trees)"
   ]
  },
  {
   "cell_type": "code",
   "execution_count": 4,
   "id": "friendly-subcommittee",
   "metadata": {},
   "outputs": [],
   "source": [
    "\n",
    "tree_cor <- ape::vcv.phylo(tree, corr = TRUE)\n",
    "tree_cor <- tree_cor[data_cues$Language, data_cues$Language]\n"
   ]
  },
  {
   "cell_type": "code",
   "execution_count": 5,
   "id": "super-bennett",
   "metadata": {},
   "outputs": [],
   "source": [
    "## first we just do scaling\n",
    "\n",
    "data_cues <- data_cues %>%\n",
    "    mutate(\n",
    "        x1 = scale(Case_Marking)\n",
    "      , x2 = scale(Tight_Semantics)\n",
    "      , x3 = scale(Rigid_Order)\n",
    "      , x4 = scale(Verb_Middle))"
   ]
  },
  {
   "cell_type": "code",
   "execution_count": 6,
   "id": "authorized-snowboard",
   "metadata": {},
   "outputs": [
    {
     "data": {
      "text/html": [
       "<table class=\"dataframe\">\n",
       "<caption>A matrix: 4 × 4 of type dbl</caption>\n",
       "<thead>\n",
       "\t<tr><th></th><th scope=col>x1</th><th scope=col>x2</th><th scope=col>x3</th><th scope=col>x4</th></tr>\n",
       "</thead>\n",
       "<tbody>\n",
       "\t<tr><th scope=row>x1</th><td> 1.00</td><td> 0.35</td><td>-0.77</td><td>-0.19</td></tr>\n",
       "\t<tr><th scope=row>x2</th><td> 0.35</td><td> 1.00</td><td>-0.18</td><td>-0.37</td></tr>\n",
       "\t<tr><th scope=row>x3</th><td>-0.77</td><td>-0.18</td><td> 1.00</td><td> 0.18</td></tr>\n",
       "\t<tr><th scope=row>x4</th><td>-0.19</td><td>-0.37</td><td> 0.18</td><td> 1.00</td></tr>\n",
       "</tbody>\n",
       "</table>\n"
      ],
      "text/latex": [
       "A matrix: 4 × 4 of type dbl\n",
       "\\begin{tabular}{r|llll}\n",
       "  & x1 & x2 & x3 & x4\\\\\n",
       "\\hline\n",
       "\tx1 &  1.00 &  0.35 & -0.77 & -0.19\\\\\n",
       "\tx2 &  0.35 &  1.00 & -0.18 & -0.37\\\\\n",
       "\tx3 & -0.77 & -0.18 &  1.00 &  0.18\\\\\n",
       "\tx4 & -0.19 & -0.37 &  0.18 &  1.00\\\\\n",
       "\\end{tabular}\n"
      ],
      "text/markdown": [
       "\n",
       "A matrix: 4 × 4 of type dbl\n",
       "\n",
       "| <!--/--> | x1 | x2 | x3 | x4 |\n",
       "|---|---|---|---|---|\n",
       "| x1 |  1.00 |  0.35 | -0.77 | -0.19 |\n",
       "| x2 |  0.35 |  1.00 | -0.18 | -0.37 |\n",
       "| x3 | -0.77 | -0.18 |  1.00 |  0.18 |\n",
       "| x4 | -0.19 | -0.37 |  0.18 |  1.00 |\n",
       "\n"
      ],
      "text/plain": [
       "   x1    x2    x3    x4   \n",
       "x1  1.00  0.35 -0.77 -0.19\n",
       "x2  0.35  1.00 -0.18 -0.37\n",
       "x3 -0.77 -0.18  1.00  0.18\n",
       "x4 -0.19 -0.37  0.18  1.00"
      ]
     },
     "metadata": {},
     "output_type": "display_data"
    }
   ],
   "source": [
    "## the baseline correlations\n",
    "\n",
    "round(cor(data_cues[,8:11]), 2)"
   ]
  },
  {
   "cell_type": "code",
   "execution_count": 7,
   "id": "parental-banking",
   "metadata": {},
   "outputs": [],
   "source": [
    "\n",
    "rescale <- function(x, e = 0.0001) {\n",
    "    y = ifelse(x == 1, x - e, x)\n",
    "    ifelse(y == 0, y + e, y)\n",
    "}\n"
   ]
  },
  {
   "cell_type": "code",
   "execution_count": 8,
   "id": "valid-float",
   "metadata": {},
   "outputs": [],
   "source": [
    "data_cues_3 <- data_cues %>%\n",
    "    mutate(\n",
    "        x1 = rescale(Case_Marking)\n",
    "      , x2 = rescale(Tight_Semantics)\n",
    "      , x3 = rescale(Rigid_Order)\n",
    "      , x4 = rescale(Verb_Middle))\n"
   ]
  },
  {
   "cell_type": "code",
   "execution_count": 9,
   "id": "under-straight",
   "metadata": {},
   "outputs": [
    {
     "name": "stderr",
     "output_type": "stream",
     "text": [
      "Setting 'rescor' to FALSE by default for this model\n",
      "\n",
      "Warning message:\n",
      "“Specifying global priors for regression coefficients in multivariate models is deprecated. Please specify priors separately for each response variable.”\n",
      "Compiling Stan program...\n",
      "\n",
      "Start sampling\n",
      "\n",
      "Warning message:\n",
      "“There were 13 divergent transitions after warmup. See\n",
      "https://mc-stan.org/misc/warnings.html#divergent-transitions-after-warmup\n",
      "to find out why this is a problem and how to eliminate them.”\n",
      "Warning message:\n",
      "“Examine the pairs() plot to diagnose sampling problems\n",
      "”\n",
      "Warning message:\n",
      "“There were 13 divergent transitions after warmup. Increasing adapt_delta above 0.95 may help. See http://mc-stan.org/misc/warnings.html#divergent-transitions-after-warmup”\n"
     ]
    },
    {
     "data": {
      "text/plain": [
       " Family: MV(beta, beta, beta, beta) \n",
       "  Links: mu = logit; phi = identity\n",
       "         mu = logit; phi = identity\n",
       "         mu = logit; phi = identity\n",
       "         mu = logit; phi = identity \n",
       "Formula: x1 ~ 1 + (1 | p | gr(Language, cov = phylo)) \n",
       "         x2 ~ 1 + (1 | p | gr(Language, cov = phylo)) \n",
       "         x3 ~ 1 + (1 | p | gr(Language, cov = phylo)) \n",
       "         x4 ~ 1 + (1 | p | gr(Language, cov = phylo)) \n",
       "   Data: data_cues_3 (Number of observations: 30) \n",
       "  Draws: 4 chains, each with iter = 4000; warmup = 1000; thin = 1;\n",
       "         total post-warmup draws = 12000\n",
       "\n",
       "Group-Level Effects: \n",
       "~Language (Number of levels: 30) \n",
       "                               Estimate Est.Error l-95% CI u-95% CI Rhat\n",
       "sd(x1_Intercept)                   1.52      0.37     0.87     2.32 1.00\n",
       "sd(x2_Intercept)                   0.25      0.14     0.02     0.55 1.00\n",
       "sd(x3_Intercept)                   1.54      0.26     1.01     2.04 1.00\n",
       "sd(x4_Intercept)                   2.80      0.42     1.94     3.62 1.00\n",
       "cor(x1_Intercept,x2_Intercept)     0.37      0.31    -0.33     0.86 1.00\n",
       "cor(x1_Intercept,x3_Intercept)    -0.74      0.14    -0.96    -0.43 1.00\n",
       "cor(x2_Intercept,x3_Intercept)    -0.17      0.31    -0.76     0.47 1.00\n",
       "cor(x1_Intercept,x4_Intercept)    -0.41      0.16    -0.69    -0.05 1.00\n",
       "cor(x2_Intercept,x4_Intercept)    -0.37      0.28    -0.85     0.28 1.00\n",
       "cor(x3_Intercept,x4_Intercept)     0.33      0.15     0.01     0.59 1.00\n",
       "                               Bulk_ESS Tail_ESS\n",
       "sd(x1_Intercept)                   2952     4866\n",
       "sd(x2_Intercept)                   1158     1846\n",
       "sd(x3_Intercept)                   1957     2790\n",
       "sd(x4_Intercept)                   1683     1571\n",
       "cor(x1_Intercept,x2_Intercept)     6775     5260\n",
       "cor(x1_Intercept,x3_Intercept)     2515     3235\n",
       "cor(x2_Intercept,x3_Intercept)     2877     3211\n",
       "cor(x1_Intercept,x4_Intercept)     4151     6038\n",
       "cor(x2_Intercept,x4_Intercept)     1133     1013\n",
       "cor(x3_Intercept,x4_Intercept)     8094     9107\n",
       "\n",
       "Population-Level Effects: \n",
       "             Estimate Est.Error l-95% CI u-95% CI Rhat Bulk_ESS Tail_ESS\n",
       "x1_Intercept    -1.17      0.46    -2.09    -0.28 1.00     5280     7318\n",
       "x2_Intercept    -1.53      0.12    -1.76    -1.29 1.00     7324     6973\n",
       "x3_Intercept     0.35      0.44    -0.53     1.22 1.00     6905     7558\n",
       "x4_Intercept    -0.35      0.69    -1.71     1.01 1.00     8691     8311\n",
       "\n",
       "Family Specific Parameters: \n",
       "       Estimate Est.Error l-95% CI u-95% CI Rhat Bulk_ESS Tail_ESS\n",
       "phi_x1     9.23      7.79     2.53    27.61 1.00     2580     3911\n",
       "phi_x2    73.92     47.93    28.82   205.84 1.00     1584     2234\n",
       "phi_x3    69.75     66.80     8.79   254.64 1.00     1029     2610\n",
       "phi_x4    76.66     71.48     6.10   264.76 1.00      947     1312\n",
       "\n",
       "Draws were sampled using sampling(NUTS). For each parameter, Bulk_ESS\n",
       "and Tail_ESS are effective sample size measures, and Rhat is the potential\n",
       "scale reduction factor on split chains (at convergence, Rhat = 1)."
      ]
     },
     "metadata": {},
     "output_type": "display_data"
    }
   ],
   "source": [
    "bm_2b <- brm(bf(mvbind(x1,x2,x3,x4) ~ 1\n",
    "              + (1|p|gr(Language, cov = phylo))) # phylo term with correlations\n",
    "         , prior = c(prior(normal(0, 1), class = Intercept) # prior Intercept\n",
    "                   , prior(normal(0, 1), class = sd, resp = x1) # priors phylo\n",
    "                   , prior(normal(0, 1), class = sd, resp = x2) # priors phylo\n",
    "                   , prior(normal(0, 1), class = sd, resp = x3) # priors phylo\n",
    "                   , prior(normal(0, 1), class = sd, resp = x4) # priors phylo\n",
    "                     )\n",
    "         , family = Beta\n",
    "         , data = data_cues_3\n",
    "         , data2 = list(phylo = tree_cor)\n",
    "         , cores = 4, chains = 4\n",
    "         , iter = 4000 # this model needs a lot more iters\n",
    "         , warmup = 1000, seed = 1234\n",
    "         , control = list(max_treedepth = 10\n",
    "                        , adapt_delta = 0.95))\n",
    "\n",
    "bm_2b"
   ]
  },
  {
   "cell_type": "code",
   "execution_count": 10,
   "id": "nutritional-philip",
   "metadata": {},
   "outputs": [
    {
     "name": "stderr",
     "output_type": "stream",
     "text": [
      "Setting 'rescor' to FALSE by default for this model\n",
      "\n",
      "Warning message:\n",
      "“Specifying global priors for regression coefficients in multivariate models is deprecated. Please specify priors separately for each response variable.”\n",
      "Compiling Stan program...\n",
      "\n",
      "Start sampling\n",
      "\n",
      "Warning message:\n",
      "“There were 1 divergent transitions after warmup. See\n",
      "https://mc-stan.org/misc/warnings.html#divergent-transitions-after-warmup\n",
      "to find out why this is a problem and how to eliminate them.”\n",
      "Warning message:\n",
      "“Examine the pairs() plot to diagnose sampling problems\n",
      "”\n",
      "Warning message:\n",
      "“There were 1 divergent transitions after warmup. Increasing adapt_delta above 0.95 may help. See http://mc-stan.org/misc/warnings.html#divergent-transitions-after-warmup”\n"
     ]
    },
    {
     "data": {
      "text/plain": [
       " Family: MV(beta, beta) \n",
       "  Links: mu = logit; phi = identity\n",
       "         mu = logit; phi = identity \n",
       "Formula: x1 ~ 1 + (1 | p | gr(Language, cov = phylo)) \n",
       "         x2 ~ 1 + (1 | p | gr(Language, cov = phylo)) \n",
       "   Data: data_cues_3 (Number of observations: 30) \n",
       "  Draws: 4 chains, each with iter = 4000; warmup = 1000; thin = 1;\n",
       "         total post-warmup draws = 12000\n",
       "\n",
       "Group-Level Effects: \n",
       "~Language (Number of levels: 30) \n",
       "                               Estimate Est.Error l-95% CI u-95% CI Rhat\n",
       "sd(x1_Intercept)                   1.30      0.40     0.54     2.13 1.00\n",
       "sd(x2_Intercept)                   0.31      0.15     0.03     0.59 1.01\n",
       "cor(x1_Intercept,x2_Intercept)     0.46      0.34    -0.37     0.95 1.00\n",
       "                               Bulk_ESS Tail_ESS\n",
       "sd(x1_Intercept)                   2487     4352\n",
       "sd(x2_Intercept)                   1287     3373\n",
       "cor(x1_Intercept,x2_Intercept)     5504     5338\n",
       "\n",
       "Population-Level Effects: \n",
       "             Estimate Est.Error l-95% CI u-95% CI Rhat Bulk_ESS Tail_ESS\n",
       "x1_Intercept    -1.13      0.47    -2.04    -0.19 1.00     5544     5730\n",
       "x2_Intercept    -1.53      0.13    -1.80    -1.25 1.00     6249     5010\n",
       "\n",
       "Family Specific Parameters: \n",
       "       Estimate Est.Error l-95% CI u-95% CI Rhat Bulk_ESS Tail_ESS\n",
       "phi_x1     5.34      4.30     1.46    14.88 1.00     2467     3618\n",
       "phi_x2    91.21     64.00    30.33   265.85 1.01     1357     2994\n",
       "\n",
       "Draws were sampled using sampling(NUTS). For each parameter, Bulk_ESS\n",
       "and Tail_ESS are effective sample size measures, and Rhat is the potential\n",
       "scale reduction factor on split chains (at convergence, Rhat = 1)."
      ]
     },
     "metadata": {},
     "output_type": "display_data"
    }
   ],
   "source": [
    "bm_3_1 <- brm(bf(mvbind(x1,x2) ~ 1\n",
    "              + (1|p|gr(Language, cov = phylo))) # phylo term with correlations\n",
    "         , prior = c(prior(normal(0, 1), class = Intercept) # prior Intercept\n",
    "                   , prior(normal(0, 1), class = sd, resp = x1) # priors phylo\n",
    "                   , prior(normal(0, 1), class = sd, resp = x2) # priors phylo\n",
    "                     )\n",
    "         , family = Beta\n",
    "         , data = data_cues_3\n",
    "         , data2 = list(phylo = tree_cor)\n",
    "         , cores = 4, chains = 4\n",
    "         , iter = 4000 # this model needs a lot more iters\n",
    "         , warmup = 1000, seed = 1234\n",
    "         , control = list(max_treedepth = 10\n",
    "                        , adapt_delta = 0.95))\n",
    "\n",
    "bm_3_1"
   ]
  },
  {
   "cell_type": "code",
   "execution_count": 11,
   "id": "classical-modern",
   "metadata": {},
   "outputs": [
    {
     "name": "stderr",
     "output_type": "stream",
     "text": [
      "Setting 'rescor' to FALSE by default for this model\n",
      "\n",
      "Warning message:\n",
      "“Specifying global priors for regression coefficients in multivariate models is deprecated. Please specify priors separately for each response variable.”\n",
      "Compiling Stan program...\n",
      "\n",
      "Start sampling\n",
      "\n",
      "Warning message:\n",
      "“There were 109 divergent transitions after warmup. See\n",
      "https://mc-stan.org/misc/warnings.html#divergent-transitions-after-warmup\n",
      "to find out why this is a problem and how to eliminate them.”\n",
      "Warning message:\n",
      "“Examine the pairs() plot to diagnose sampling problems\n",
      "”\n",
      "Warning message:\n",
      "“There were 109 divergent transitions after warmup. Increasing adapt_delta above 0.95 may help. See http://mc-stan.org/misc/warnings.html#divergent-transitions-after-warmup”\n"
     ]
    },
    {
     "data": {
      "text/plain": [
       " Family: MV(beta, beta) \n",
       "  Links: mu = logit; phi = identity\n",
       "         mu = logit; phi = identity \n",
       "Formula: x1 ~ 1 + (1 | p | gr(Language, cov = phylo)) \n",
       "         x3 ~ 1 + (1 | p | gr(Language, cov = phylo)) \n",
       "   Data: data_cues_3 (Number of observations: 30) \n",
       "  Draws: 4 chains, each with iter = 4000; warmup = 1000; thin = 1;\n",
       "         total post-warmup draws = 12000\n",
       "\n",
       "Group-Level Effects: \n",
       "~Language (Number of levels: 30) \n",
       "                               Estimate Est.Error l-95% CI u-95% CI Rhat\n",
       "sd(x1_Intercept)                   1.44      0.36     0.83     2.24 1.00\n",
       "sd(x3_Intercept)                   1.53      0.28     0.98     2.09 1.00\n",
       "cor(x1_Intercept,x3_Intercept)    -0.83      0.13    -0.99    -0.52 1.00\n",
       "                               Bulk_ESS Tail_ESS\n",
       "sd(x1_Intercept)                   2414     3029\n",
       "sd(x3_Intercept)                   1494     3179\n",
       "cor(x1_Intercept,x3_Intercept)     2027     3658\n",
       "\n",
       "Population-Level Effects: \n",
       "             Estimate Est.Error l-95% CI u-95% CI Rhat Bulk_ESS Tail_ESS\n",
       "x1_Intercept    -1.13      0.46    -2.03    -0.19 1.00     3846     5513\n",
       "x3_Intercept     0.29      0.45    -0.63     1.17 1.00     4613     6010\n",
       "\n",
       "Family Specific Parameters: \n",
       "       Estimate Est.Error l-95% CI u-95% CI Rhat Bulk_ESS Tail_ESS\n",
       "phi_x1     7.05      6.18     2.28    21.31 1.00     2163     2122\n",
       "phi_x3    62.28     60.02     8.04   235.53 1.00      784     1337\n",
       "\n",
       "Draws were sampled using sampling(NUTS). For each parameter, Bulk_ESS\n",
       "and Tail_ESS are effective sample size measures, and Rhat is the potential\n",
       "scale reduction factor on split chains (at convergence, Rhat = 1)."
      ]
     },
     "metadata": {},
     "output_type": "display_data"
    }
   ],
   "source": [
    "bm_3_2 <- brm(bf(mvbind(x1,x3) ~ 1\n",
    "              + (1|p|gr(Language, cov = phylo))) # phylo term with correlations\n",
    "         , prior = c(prior(normal(0, 1), class = Intercept) # prior Intercept\n",
    "                   , prior(normal(0, 1), class = sd, resp = x1) # priors phylo\n",
    "                   , prior(normal(0, 1), class = sd, resp = x3) # priors phylo\n",
    "                     )\n",
    "         , family = Beta\n",
    "         , data = data_cues_3\n",
    "         , data2 = list(phylo = tree_cor)\n",
    "         , cores = 4, chains = 4\n",
    "         , iter = 4000 # this model needs a lot more iters\n",
    "         , warmup = 1000, seed = 1234\n",
    "         , control = list(max_treedepth = 10\n",
    "                        , adapt_delta = 0.95))\n",
    "\n",
    "bm_3_2"
   ]
  },
  {
   "cell_type": "code",
   "execution_count": 12,
   "id": "twelve-contest",
   "metadata": {},
   "outputs": [
    {
     "name": "stderr",
     "output_type": "stream",
     "text": [
      "Setting 'rescor' to FALSE by default for this model\n",
      "\n",
      "Warning message:\n",
      "“Specifying global priors for regression coefficients in multivariate models is deprecated. Please specify priors separately for each response variable.”\n",
      "Compiling Stan program...\n",
      "\n",
      "Start sampling\n",
      "\n",
      "Warning message:\n",
      "“There were 44 divergent transitions after warmup. See\n",
      "https://mc-stan.org/misc/warnings.html#divergent-transitions-after-warmup\n",
      "to find out why this is a problem and how to eliminate them.”\n",
      "Warning message:\n",
      "“Examine the pairs() plot to diagnose sampling problems\n",
      "”\n",
      "Warning message:\n",
      "“There were 44 divergent transitions after warmup. Increasing adapt_delta above 0.95 may help. See http://mc-stan.org/misc/warnings.html#divergent-transitions-after-warmup”\n"
     ]
    },
    {
     "data": {
      "text/plain": [
       " Family: MV(beta, beta) \n",
       "  Links: mu = logit; phi = identity\n",
       "         mu = logit; phi = identity \n",
       "Formula: x1 ~ 1 + (1 | p | gr(Language, cov = phylo)) \n",
       "         x4 ~ 1 + (1 | p | gr(Language, cov = phylo)) \n",
       "   Data: data_cues_3 (Number of observations: 30) \n",
       "  Draws: 4 chains, each with iter = 4000; warmup = 1000; thin = 1;\n",
       "         total post-warmup draws = 12000\n",
       "\n",
       "Group-Level Effects: \n",
       "~Language (Number of levels: 30) \n",
       "                               Estimate Est.Error l-95% CI u-95% CI Rhat\n",
       "sd(x1_Intercept)                   1.34      0.41     0.54     2.19 1.00\n",
       "sd(x4_Intercept)                   2.74      0.47     1.74     3.60 1.00\n",
       "cor(x1_Intercept,x4_Intercept)    -0.44      0.19    -0.79    -0.03 1.00\n",
       "                               Bulk_ESS Tail_ESS\n",
       "sd(x1_Intercept)                   1898     2625\n",
       "sd(x4_Intercept)                   1094      919\n",
       "cor(x1_Intercept,x4_Intercept)     2096     2056\n",
       "\n",
       "Population-Level Effects: \n",
       "             Estimate Est.Error l-95% CI u-95% CI Rhat Bulk_ESS Tail_ESS\n",
       "x1_Intercept    -1.16      0.44    -2.04    -0.29 1.00     6144     6886\n",
       "x4_Intercept    -0.30      0.68    -1.61     1.04 1.00     5934     6893\n",
       "\n",
       "Family Specific Parameters: \n",
       "       Estimate Est.Error l-95% CI u-95% CI Rhat Bulk_ESS Tail_ESS\n",
       "phi_x1     6.36      5.27     1.56    18.92 1.00     1845     3114\n",
       "phi_x4    68.44     69.63     3.60   244.07 1.00      729      820\n",
       "\n",
       "Draws were sampled using sampling(NUTS). For each parameter, Bulk_ESS\n",
       "and Tail_ESS are effective sample size measures, and Rhat is the potential\n",
       "scale reduction factor on split chains (at convergence, Rhat = 1)."
      ]
     },
     "metadata": {},
     "output_type": "display_data"
    }
   ],
   "source": [
    "bm_3_3 <- brm(bf(mvbind(x1,x4) ~ 1\n",
    "              + (1|p|gr(Language, cov = phylo))) # phylo term with correlations\n",
    "         , prior = c(prior(normal(0, 1), class = Intercept) # prior Intercept\n",
    "                   , prior(normal(0, 1), class = sd, resp = x1) # priors phylo\n",
    "                   , prior(normal(0, 1), class = sd, resp = x4) # priors phylo\n",
    "                     )\n",
    "         , family = Beta\n",
    "         , data = data_cues_3\n",
    "         , data2 = list(phylo = tree_cor)\n",
    "         , cores = 4, chains = 4\n",
    "         , iter = 4000 # this model needs a lot more iters\n",
    "         , warmup = 1000, seed = 1234\n",
    "         , control = list(max_treedepth = 10\n",
    "                        , adapt_delta = 0.95))\n",
    "\n",
    "bm_3_3"
   ]
  },
  {
   "cell_type": "code",
   "execution_count": 13,
   "id": "adopted-female",
   "metadata": {},
   "outputs": [
    {
     "name": "stderr",
     "output_type": "stream",
     "text": [
      "Setting 'rescor' to FALSE by default for this model\n",
      "\n",
      "Warning message:\n",
      "“Specifying global priors for regression coefficients in multivariate models is deprecated. Please specify priors separately for each response variable.”\n",
      "Compiling Stan program...\n",
      "\n",
      "Start sampling\n",
      "\n",
      "Warning message:\n",
      "“There were 99 divergent transitions after warmup. See\n",
      "https://mc-stan.org/misc/warnings.html#divergent-transitions-after-warmup\n",
      "to find out why this is a problem and how to eliminate them.”\n",
      "Warning message:\n",
      "“Examine the pairs() plot to diagnose sampling problems\n",
      "”\n",
      "Warning message:\n",
      "“There were 99 divergent transitions after warmup. Increasing adapt_delta above 0.95 may help. See http://mc-stan.org/misc/warnings.html#divergent-transitions-after-warmup”\n"
     ]
    },
    {
     "data": {
      "text/plain": [
       " Family: MV(beta, beta) \n",
       "  Links: mu = logit; phi = identity\n",
       "         mu = logit; phi = identity \n",
       "Formula: x2 ~ 1 + (1 | p | gr(Language, cov = phylo)) \n",
       "         x3 ~ 1 + (1 | p | gr(Language, cov = phylo)) \n",
       "   Data: data_cues_3 (Number of observations: 30) \n",
       "  Draws: 4 chains, each with iter = 4000; warmup = 1000; thin = 1;\n",
       "         total post-warmup draws = 12000\n",
       "\n",
       "Group-Level Effects: \n",
       "~Language (Number of levels: 30) \n",
       "                               Estimate Est.Error l-95% CI u-95% CI Rhat\n",
       "sd(x2_Intercept)                   0.26      0.16     0.01     0.59 1.01\n",
       "sd(x3_Intercept)                   1.53      0.32     0.88     2.13 1.00\n",
       "cor(x2_Intercept,x3_Intercept)    -0.26      0.38    -0.92     0.64 1.00\n",
       "                               Bulk_ESS Tail_ESS\n",
       "sd(x2_Intercept)                    889     2357\n",
       "sd(x3_Intercept)                   1155     2287\n",
       "cor(x2_Intercept,x3_Intercept)      825     1276\n",
       "\n",
       "Population-Level Effects: \n",
       "             Estimate Est.Error l-95% CI u-95% CI Rhat Bulk_ESS Tail_ESS\n",
       "x2_Intercept    -1.55      0.12    -1.80    -1.31 1.00     4860     4412\n",
       "x3_Intercept     0.46      0.48    -0.50     1.40 1.00     5107     6865\n",
       "\n",
       "Family Specific Parameters: \n",
       "       Estimate Est.Error l-95% CI u-95% CI Rhat Bulk_ESS Tail_ESS\n",
       "phi_x2    76.22     56.69    27.14   237.77 1.01     1022     1661\n",
       "phi_x3    50.11     56.42     5.07   203.93 1.01      659     1007\n",
       "\n",
       "Draws were sampled using sampling(NUTS). For each parameter, Bulk_ESS\n",
       "and Tail_ESS are effective sample size measures, and Rhat is the potential\n",
       "scale reduction factor on split chains (at convergence, Rhat = 1)."
      ]
     },
     "metadata": {},
     "output_type": "display_data"
    }
   ],
   "source": [
    "bm_3_4 <- brm(bf(mvbind(x2,x3) ~ 1\n",
    "              + (1|p|gr(Language, cov = phylo))) # phylo term with correlations\n",
    "         , prior = c(prior(normal(0, 1), class = Intercept) # prior Intercept\n",
    "                   , prior(normal(0, 1), class = sd, resp = x2) # priors phylo\n",
    "                   , prior(normal(0, 1), class = sd, resp = x3) # priors phylo\n",
    "                     )\n",
    "         , family = Beta\n",
    "         , data = data_cues_3\n",
    "         , data2 = list(phylo = tree_cor)\n",
    "         , cores = 4, chains = 4\n",
    "         , iter = 4000 # this model needs a lot more iters\n",
    "         , warmup = 1000, seed = 1234\n",
    "         , control = list(max_treedepth = 10\n",
    "                        , adapt_delta = 0.95))\n",
    "\n",
    "bm_3_4"
   ]
  },
  {
   "cell_type": "code",
   "execution_count": 14,
   "id": "explicit-calcium",
   "metadata": {},
   "outputs": [
    {
     "name": "stderr",
     "output_type": "stream",
     "text": [
      "Setting 'rescor' to FALSE by default for this model\n",
      "\n",
      "Warning message:\n",
      "“Specifying global priors for regression coefficients in multivariate models is deprecated. Please specify priors separately for each response variable.”\n",
      "Compiling Stan program...\n",
      "\n",
      "Start sampling\n",
      "\n",
      "Warning message:\n",
      "“There were 321 divergent transitions after warmup. See\n",
      "https://mc-stan.org/misc/warnings.html#divergent-transitions-after-warmup\n",
      "to find out why this is a problem and how to eliminate them.”\n",
      "Warning message:\n",
      "“There were 1 chains where the estimated Bayesian Fraction of Missing Information was low. See\n",
      "https://mc-stan.org/misc/warnings.html#bfmi-low”\n",
      "Warning message:\n",
      "“Examine the pairs() plot to diagnose sampling problems\n",
      "”\n",
      "Warning message:\n",
      "“There were 321 divergent transitions after warmup. Increasing adapt_delta above 0.95 may help. See http://mc-stan.org/misc/warnings.html#divergent-transitions-after-warmup”\n"
     ]
    },
    {
     "data": {
      "text/plain": [
       " Family: MV(beta, beta) \n",
       "  Links: mu = logit; phi = identity\n",
       "         mu = logit; phi = identity \n",
       "Formula: x2 ~ 1 + (1 | p | gr(Language, cov = phylo)) \n",
       "         x4 ~ 1 + (1 | p | gr(Language, cov = phylo)) \n",
       "   Data: data_cues_3 (Number of observations: 30) \n",
       "  Draws: 4 chains, each with iter = 4000; warmup = 1000; thin = 1;\n",
       "         total post-warmup draws = 12000\n",
       "\n",
       "Group-Level Effects: \n",
       "~Language (Number of levels: 30) \n",
       "                               Estimate Est.Error l-95% CI u-95% CI Rhat\n",
       "sd(x2_Intercept)                   0.28      0.15     0.02     0.58 1.01\n",
       "sd(x4_Intercept)                   2.65      0.53     1.31     3.55 1.01\n",
       "cor(x2_Intercept,x4_Intercept)    -0.43      0.31    -0.96     0.26 1.01\n",
       "                               Bulk_ESS Tail_ESS\n",
       "sd(x2_Intercept)                    655     1001\n",
       "sd(x4_Intercept)                    603      588\n",
       "cor(x2_Intercept,x4_Intercept)      569      423\n",
       "\n",
       "Population-Level Effects: \n",
       "             Estimate Est.Error l-95% CI u-95% CI Rhat Bulk_ESS Tail_ESS\n",
       "x2_Intercept    -1.55      0.13    -1.81    -1.30 1.00     3258     2036\n",
       "x4_Intercept    -0.22      0.69    -1.56     1.08 1.00     2256      566\n",
       "\n",
       "Family Specific Parameters: \n",
       "       Estimate Est.Error l-95% CI u-95% CI Rhat Bulk_ESS Tail_ESS\n",
       "phi_x2    85.56     60.84    29.83   251.47 1.00      821     1711\n",
       "phi_x4    57.03     56.04     1.68   209.15 1.02      564      792\n",
       "\n",
       "Draws were sampled using sampling(NUTS). For each parameter, Bulk_ESS\n",
       "and Tail_ESS are effective sample size measures, and Rhat is the potential\n",
       "scale reduction factor on split chains (at convergence, Rhat = 1)."
      ]
     },
     "metadata": {},
     "output_type": "display_data"
    }
   ],
   "source": [
    "bm_3_5 <- brm(bf(mvbind(x2,x4) ~ 1\n",
    "              + (1|p|gr(Language, cov = phylo))) # phylo term with correlations\n",
    "         , prior = c(prior(normal(0, 1), class = Intercept) # prior Intercept\n",
    "                   , prior(normal(0, 1), class = sd, resp = x2) # priors phylo\n",
    "                   , prior(normal(0, 1), class = sd, resp = x4) # priors phylo\n",
    "                     )\n",
    "         , family = Beta\n",
    "         , data = data_cues_3\n",
    "         , data2 = list(phylo = tree_cor)\n",
    "         , cores = 4, chains = 4\n",
    "         , iter = 4000 # this model needs a lot more iters\n",
    "         , warmup = 1000, seed = 1234\n",
    "         , control = list(max_treedepth = 10\n",
    "                        , adapt_delta = 0.95))\n",
    "\n",
    "bm_3_5"
   ]
  },
  {
   "cell_type": "code",
   "execution_count": 15,
   "id": "august-stream",
   "metadata": {},
   "outputs": [
    {
     "name": "stderr",
     "output_type": "stream",
     "text": [
      "Setting 'rescor' to FALSE by default for this model\n",
      "\n",
      "Warning message:\n",
      "“Specifying global priors for regression coefficients in multivariate models is deprecated. Please specify priors separately for each response variable.”\n",
      "Compiling Stan program...\n",
      "\n",
      "Start sampling\n",
      "\n",
      "Warning message:\n",
      "“There were 1 divergent transitions after warmup. See\n",
      "https://mc-stan.org/misc/warnings.html#divergent-transitions-after-warmup\n",
      "to find out why this is a problem and how to eliminate them.”\n",
      "Warning message:\n",
      "“There were 3 chains where the estimated Bayesian Fraction of Missing Information was low. See\n",
      "https://mc-stan.org/misc/warnings.html#bfmi-low”\n",
      "Warning message:\n",
      "“Examine the pairs() plot to diagnose sampling problems\n",
      "”\n",
      "Warning message:\n",
      "“There were 1 divergent transitions after warmup. Increasing adapt_delta above 0.95 may help. See http://mc-stan.org/misc/warnings.html#divergent-transitions-after-warmup”\n"
     ]
    },
    {
     "data": {
      "text/plain": [
       " Family: MV(beta, beta) \n",
       "  Links: mu = logit; phi = identity\n",
       "         mu = logit; phi = identity \n",
       "Formula: x3 ~ 1 + (1 | p | gr(Language, cov = phylo)) \n",
       "         x4 ~ 1 + (1 | p | gr(Language, cov = phylo)) \n",
       "   Data: data_cues_3 (Number of observations: 30) \n",
       "  Draws: 4 chains, each with iter = 4000; warmup = 1000; thin = 1;\n",
       "         total post-warmup draws = 12000\n",
       "\n",
       "Group-Level Effects: \n",
       "~Language (Number of levels: 30) \n",
       "                               Estimate Est.Error l-95% CI u-95% CI Rhat\n",
       "sd(x3_Intercept)                   1.59      0.28     1.02     2.15 1.00\n",
       "sd(x4_Intercept)                   2.79      0.44     1.90     3.61 1.00\n",
       "cor(x3_Intercept,x4_Intercept)     0.37      0.16     0.04     0.64 1.00\n",
       "                               Bulk_ESS Tail_ESS\n",
       "sd(x3_Intercept)                   1074     2217\n",
       "sd(x4_Intercept)                   1411     1749\n",
       "cor(x3_Intercept,x4_Intercept)     3224     5407\n",
       "\n",
       "Population-Level Effects: \n",
       "             Estimate Est.Error l-95% CI u-95% CI Rhat Bulk_ESS Tail_ESS\n",
       "x3_Intercept     0.50      0.47    -0.43     1.41 1.00     3494     4569\n",
       "x4_Intercept    -0.24      0.67    -1.57     1.08 1.00     4418     6268\n",
       "\n",
       "Family Specific Parameters: \n",
       "       Estimate Est.Error l-95% CI u-95% CI Rhat Bulk_ESS Tail_ESS\n",
       "phi_x3    69.42     67.57     7.61   255.07 1.00      657     1798\n",
       "phi_x4    74.49     66.87     5.33   252.98 1.00      978     1310\n",
       "\n",
       "Draws were sampled using sampling(NUTS). For each parameter, Bulk_ESS\n",
       "and Tail_ESS are effective sample size measures, and Rhat is the potential\n",
       "scale reduction factor on split chains (at convergence, Rhat = 1)."
      ]
     },
     "metadata": {},
     "output_type": "display_data"
    }
   ],
   "source": [
    "bm_3_6 <- brm(bf(mvbind(x3,x4) ~ 1\n",
    "              + (1|p|gr(Language, cov = phylo))) # phylo term with correlations\n",
    "         , prior = c(prior(normal(0, 1), class = Intercept) # prior Intercept\n",
    "                   , prior(normal(0, 1), class = sd, resp = x3) # priors phylo\n",
    "                   , prior(normal(0, 1), class = sd, resp = x4) # priors phylo\n",
    "                     )\n",
    "         , family = Beta\n",
    "         , data = data_cues_3\n",
    "         , data2 = list(phylo = tree_cor)\n",
    "         , cores = 4, chains = 4\n",
    "         , iter = 4000 # this model needs a lot more iters\n",
    "         , warmup = 1000, seed = 1234\n",
    "         , control = list(max_treedepth = 10\n",
    "                        , adapt_delta = 0.95))\n",
    "\n",
    "bm_3_6"
   ]
  },
  {
   "cell_type": "code",
   "execution_count": 16,
   "id": "toxic-thomas",
   "metadata": {},
   "outputs": [
    {
     "name": "stderr",
     "output_type": "stream",
     "text": [
      "Setting 'rescor' to FALSE by default for this model\n",
      "\n",
      "Warning message:\n",
      "“Specifying global priors for regression coefficients in multivariate models is deprecated. Please specify priors separately for each response variable.”\n",
      "Compiling Stan program...\n",
      "\n",
      "Start sampling\n",
      "\n",
      "Warning message:\n",
      "“There were 116 divergent transitions after warmup. See\n",
      "https://mc-stan.org/misc/warnings.html#divergent-transitions-after-warmup\n",
      "to find out why this is a problem and how to eliminate them.”\n",
      "Warning message:\n",
      "“Examine the pairs() plot to diagnose sampling problems\n",
      "”\n",
      "Warning message:\n",
      "“There were 116 divergent transitions after warmup. Increasing adapt_delta above 0.95 may help. See http://mc-stan.org/misc/warnings.html#divergent-transitions-after-warmup”\n"
     ]
    },
    {
     "data": {
      "text/plain": [
       " Family: MV(beta, beta) \n",
       "  Links: mu = logit; phi = identity\n",
       "         mu = logit; phi = identity \n",
       "Formula: x1 ~ x4 + (1 | p | gr(Language, cov = phylo)) \n",
       "         x3 ~ x4 + (1 | p | gr(Language, cov = phylo)) \n",
       "   Data: data_cues_3 (Number of observations: 30) \n",
       "  Draws: 4 chains, each with iter = 4000; warmup = 1000; thin = 1;\n",
       "         total post-warmup draws = 12000\n",
       "\n",
       "Group-Level Effects: \n",
       "~Language (Number of levels: 30) \n",
       "                               Estimate Est.Error l-95% CI u-95% CI Rhat\n",
       "sd(x1_Intercept)                   1.37      0.35     0.77     2.14 1.00\n",
       "sd(x3_Intercept)                   1.48      0.27     0.97     2.06 1.01\n",
       "cor(x1_Intercept,x3_Intercept)    -0.79      0.15    -0.99    -0.44 1.00\n",
       "                               Bulk_ESS Tail_ESS\n",
       "sd(x1_Intercept)                   2132     2639\n",
       "sd(x3_Intercept)                   1161      825\n",
       "cor(x1_Intercept,x3_Intercept)     2206     4104\n",
       "\n",
       "Population-Level Effects: \n",
       "             Estimate Est.Error l-95% CI u-95% CI Rhat Bulk_ESS Tail_ESS\n",
       "x1_Intercept    -0.65      0.57    -1.77     0.48 1.00     6021     6943\n",
       "x3_Intercept    -0.12      0.55    -1.22     0.98 1.00     7218     7494\n",
       "x1_x4           -0.90      0.64    -2.16     0.38 1.00     7130     9005\n",
       "x3_x4            0.81      0.60    -0.39     1.97 1.00     6382     8883\n",
       "\n",
       "Family Specific Parameters: \n",
       "       Estimate Est.Error l-95% CI u-95% CI Rhat Bulk_ESS Tail_ESS\n",
       "phi_x1     7.45      6.11     2.29    22.56 1.00     1816     1828\n",
       "phi_x3    65.37     60.71     8.75   238.08 1.01      864     1956\n",
       "\n",
       "Draws were sampled using sampling(NUTS). For each parameter, Bulk_ESS\n",
       "and Tail_ESS are effective sample size measures, and Rhat is the potential\n",
       "scale reduction factor on split chains (at convergence, Rhat = 1)."
      ]
     },
     "metadata": {},
     "output_type": "display_data"
    }
   ],
   "source": [
    "bm_4_1 <- brm(bf(mvbind(x1,x3) ~ x4\n",
    "              + (1|p|gr(Language, cov = phylo))) # phylo term with correlations\n",
    "         , prior = c(prior(normal(0, 1), class = Intercept) # prior Intercept\n",
    "                   , prior(normal(0, 1), class = b, resp = x1) # priors for beta\n",
    "                   , prior(normal(0, 1), class = b, resp = x3) # priors for beta                     \n",
    "                   , prior(normal(0, 1), class = sd, resp = x1) # priors phylo                     \n",
    "                   , prior(normal(0, 1), class = sd, resp = x3) # priors phylo\n",
    "                     )\n",
    "         , family = Beta\n",
    "         , data = data_cues_3\n",
    "         , data2 = list(phylo = tree_cor)\n",
    "         , cores = 4, chains = 4\n",
    "         , iter = 4000 # this model needs a lot more iters\n",
    "         , warmup = 1000, seed = 1234\n",
    "         , control = list(max_treedepth = 10\n",
    "                        , adapt_delta = 0.95))\n",
    "\n",
    "bm_4_1"
   ]
  },
  {
   "cell_type": "code",
   "execution_count": 17,
   "id": "suited-gentleman",
   "metadata": {},
   "outputs": [
    {
     "name": "stderr",
     "output_type": "stream",
     "text": [
      "Setting 'rescor' to FALSE by default for this model\n",
      "\n",
      "Warning message:\n",
      "“Specifying global priors for regression coefficients in multivariate models is deprecated. Please specify priors separately for each response variable.”\n",
      "Compiling Stan program...\n",
      "\n",
      "Start sampling\n",
      "\n",
      "Warning message:\n",
      "“There were 33 divergent transitions after warmup. See\n",
      "https://mc-stan.org/misc/warnings.html#divergent-transitions-after-warmup\n",
      "to find out why this is a problem and how to eliminate them.”\n",
      "Warning message:\n",
      "“Examine the pairs() plot to diagnose sampling problems\n",
      "”\n",
      "Warning message:\n",
      "“There were 33 divergent transitions after warmup. Increasing adapt_delta above 0.95 may help. See http://mc-stan.org/misc/warnings.html#divergent-transitions-after-warmup”\n"
     ]
    },
    {
     "data": {
      "text/plain": [
       " Family: MV(beta, beta) \n",
       "  Links: mu = logit; phi = identity\n",
       "         mu = logit; phi = identity \n",
       "Formula: x1 ~ x3 + (1 | p | gr(Language, cov = phylo)) \n",
       "         x4 ~ x3 + (1 | p | gr(Language, cov = phylo)) \n",
       "   Data: data_cues_3 (Number of observations: 30) \n",
       "  Draws: 4 chains, each with iter = 4000; warmup = 1000; thin = 1;\n",
       "         total post-warmup draws = 12000\n",
       "\n",
       "Group-Level Effects: \n",
       "~Language (Number of levels: 30) \n",
       "                               Estimate Est.Error l-95% CI u-95% CI Rhat\n",
       "sd(x1_Intercept)                   0.90      0.44     0.10     1.76 1.01\n",
       "sd(x4_Intercept)                   2.69      0.44     1.72     3.52 1.00\n",
       "cor(x1_Intercept,x4_Intercept)    -0.40      0.27    -0.88     0.23 1.00\n",
       "                               Bulk_ESS Tail_ESS\n",
       "sd(x1_Intercept)                   1174     2300\n",
       "sd(x4_Intercept)                   1376     1277\n",
       "cor(x1_Intercept,x4_Intercept)     1268     1052\n",
       "\n",
       "Population-Level Effects: \n",
       "             Estimate Est.Error l-95% CI u-95% CI Rhat Bulk_ESS Tail_ESS\n",
       "x1_Intercept     0.12      0.56    -1.03     1.17 1.00     6488     7698\n",
       "x4_Intercept    -0.77      0.89    -2.50     0.99 1.00     7778     8737\n",
       "x1_x3           -2.23      0.76    -3.67    -0.71 1.00     6371     8377\n",
       "x4_x3            0.81      0.90    -0.98     2.53 1.00    10435     8349\n",
       "\n",
       "Family Specific Parameters: \n",
       "       Estimate Est.Error l-95% CI u-95% CI Rhat Bulk_ESS Tail_ESS\n",
       "phi_x1     6.30      5.12     1.80    18.95 1.01     1328     4122\n",
       "phi_x4    65.93     61.15     4.08   230.24 1.00      920     1065\n",
       "\n",
       "Draws were sampled using sampling(NUTS). For each parameter, Bulk_ESS\n",
       "and Tail_ESS are effective sample size measures, and Rhat is the potential\n",
       "scale reduction factor on split chains (at convergence, Rhat = 1)."
      ]
     },
     "metadata": {},
     "output_type": "display_data"
    }
   ],
   "source": [
    "bm_4_2 <- brm(bf(mvbind(x1,x4) ~ x3\n",
    "              + (1|p|gr(Language, cov = phylo))) # phylo term with correlations\n",
    "         , prior = c(prior(normal(0, 1), class = Intercept) # prior Intercept\n",
    "                   , prior(normal(0, 1), class = b, resp = x1) # priors for beta\n",
    "                   , prior(normal(0, 1), class = b, resp = x4) # priors for beta                                          \n",
    "                   , prior(normal(0, 1), class = sd, resp = x1) # priors phylo                     \n",
    "                   , prior(normal(0, 1), class = sd, resp = x4) # priors phylo\n",
    "                     )\n",
    "         , family = Beta\n",
    "         , data = data_cues_3\n",
    "         , data2 = list(phylo = tree_cor)\n",
    "         , cores = 4, chains = 4\n",
    "         , iter = 4000 # this model needs a lot more iters\n",
    "         , warmup = 1000, seed = 1234\n",
    "         , control = list(max_treedepth = 10\n",
    "                        , adapt_delta = 0.95))\n",
    "\n",
    "bm_4_2"
   ]
  },
  {
   "cell_type": "code",
   "execution_count": 18,
   "id": "seven-trance",
   "metadata": {},
   "outputs": [
    {
     "name": "stderr",
     "output_type": "stream",
     "text": [
      "Setting 'rescor' to FALSE by default for this model\n",
      "\n",
      "Warning message:\n",
      "“Specifying global priors for regression coefficients in multivariate models is deprecated. Please specify priors separately for each response variable.”\n",
      "Compiling Stan program...\n",
      "\n",
      "Start sampling\n",
      "\n",
      "Warning message:\n",
      "“There were 6 divergent transitions after warmup. See\n",
      "https://mc-stan.org/misc/warnings.html#divergent-transitions-after-warmup\n",
      "to find out why this is a problem and how to eliminate them.”\n",
      "Warning message:\n",
      "“There were 1 chains where the estimated Bayesian Fraction of Missing Information was low. See\n",
      "https://mc-stan.org/misc/warnings.html#bfmi-low”\n",
      "Warning message:\n",
      "“Examine the pairs() plot to diagnose sampling problems\n",
      "”\n",
      "Warning message:\n",
      "“There were 6 divergent transitions after warmup. Increasing adapt_delta above 0.95 may help. See http://mc-stan.org/misc/warnings.html#divergent-transitions-after-warmup”\n"
     ]
    },
    {
     "data": {
      "text/plain": [
       " Family: MV(beta, beta) \n",
       "  Links: mu = logit; phi = identity\n",
       "         mu = logit; phi = identity \n",
       "Formula: x3 ~ x1 + (1 | p | gr(Language, cov = phylo)) \n",
       "         x4 ~ x1 + (1 | p | gr(Language, cov = phylo)) \n",
       "   Data: data_cues_3 (Number of observations: 30) \n",
       "  Draws: 4 chains, each with iter = 4000; warmup = 1000; thin = 1;\n",
       "         total post-warmup draws = 12000\n",
       "\n",
       "Group-Level Effects: \n",
       "~Language (Number of levels: 30) \n",
       "                               Estimate Est.Error l-95% CI u-95% CI Rhat\n",
       "sd(x3_Intercept)                   1.27      0.28     0.66     1.81 1.00\n",
       "sd(x4_Intercept)                   2.70      0.45     1.77     3.55 1.00\n",
       "cor(x3_Intercept,x4_Intercept)     0.29      0.18    -0.08     0.61 1.00\n",
       "                               Bulk_ESS Tail_ESS\n",
       "sd(x3_Intercept)                   1191     1124\n",
       "sd(x4_Intercept)                   1101     1016\n",
       "cor(x3_Intercept,x4_Intercept)     2686     3200\n",
       "\n",
       "Population-Level Effects: \n",
       "             Estimate Est.Error l-95% CI u-95% CI Rhat Bulk_ESS Tail_ESS\n",
       "x3_Intercept     1.05      0.45     0.14     1.91 1.00     4203     5958\n",
       "x4_Intercept    -0.00      0.71    -1.41     1.37 1.00     5334     7193\n",
       "x3_x1           -2.02      0.69    -3.32    -0.65 1.00     5681     7509\n",
       "x4_x1           -0.87      0.87    -2.56     0.81 1.00     7968     8460\n",
       "\n",
       "Family Specific Parameters: \n",
       "       Estimate Est.Error l-95% CI u-95% CI Rhat Bulk_ESS Tail_ESS\n",
       "phi_x3    68.31     66.35     6.98   246.41 1.00      818     1171\n",
       "phi_x4    66.62     61.85     4.27   235.48 1.00      734      916\n",
       "\n",
       "Draws were sampled using sampling(NUTS). For each parameter, Bulk_ESS\n",
       "and Tail_ESS are effective sample size measures, and Rhat is the potential\n",
       "scale reduction factor on split chains (at convergence, Rhat = 1)."
      ]
     },
     "metadata": {},
     "output_type": "display_data"
    }
   ],
   "source": [
    "bm_4_3 <- brm(bf(mvbind(x3,x4) ~ x1\n",
    "              + (1|p|gr(Language, cov = phylo))) # phylo term with correlations\n",
    "         , prior = c(prior(normal(0, 1), class = Intercept) # prior Intercept\n",
    "                   , prior(normal(0, 1), class = b, resp = x3) # priors for beta\n",
    "                   , prior(normal(0, 1), class = b, resp = x4) # priors for beta                                          \n",
    "                   , prior(normal(0, 1), class = sd, resp = x3) # priors phylo                     \n",
    "                   , prior(normal(0, 1), class = sd, resp = x4) # priors phylo\n",
    "                     )\n",
    "         , family = Beta\n",
    "         , data = data_cues_3\n",
    "         , data2 = list(phylo = tree_cor)\n",
    "         , cores = 4, chains = 4\n",
    "         , iter = 4000 # this model needs a lot more iters\n",
    "         , warmup = 1000, seed = 1234\n",
    "         , control = list(max_treedepth = 10\n",
    "                        , adapt_delta = 0.95))\n",
    "\n",
    "bm_4_3"
   ]
  },
  {
   "cell_type": "code",
   "execution_count": null,
   "id": "massive-report",
   "metadata": {},
   "outputs": [],
   "source": []
  }
 ],
 "metadata": {
  "kernelspec": {
   "display_name": "R",
   "language": "R",
   "name": "ir"
  },
  "language_info": {
   "codemirror_mode": "r",
   "file_extension": ".r",
   "mimetype": "text/x-r-source",
   "name": "R",
   "pygments_lexer": "r",
   "version": "4.2.0"
  },
  "varInspector": {
   "cols": {
    "lenName": 16,
    "lenType": 16,
    "lenVar": 40
   },
   "kernels_config": {
    "python": {
     "delete_cmd_postfix": "",
     "delete_cmd_prefix": "del ",
     "library": "var_list.py",
     "varRefreshCmd": "print(var_dic_list())"
    },
    "r": {
     "delete_cmd_postfix": ") ",
     "delete_cmd_prefix": "rm(",
     "library": "var_list.r",
     "varRefreshCmd": "cat(var_dic_list()) "
    }
   },
   "types_to_exclude": [
    "module",
    "function",
    "builtin_function_or_method",
    "instance",
    "_Feature"
   ],
   "window_display": false
  }
 },
 "nbformat": 4,
 "nbformat_minor": 5
}
