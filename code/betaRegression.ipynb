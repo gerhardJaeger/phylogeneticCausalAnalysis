{
 "cells": [
  {
   "cell_type": "code",
   "execution_count": 1,
   "id": "wrapped-transformation",
   "metadata": {},
   "outputs": [
    {
     "name": "stderr",
     "output_type": "stream",
     "text": [
      "── \u001b[1mAttaching packages\u001b[22m ────────────────────────────────────────────────────────────────────────────────────────────────────────────────────────────────────────────────────────────────────────── tidyverse 1.3.1 ──\n",
      "\n",
      "\u001b[32m✔\u001b[39m \u001b[34mggplot2\u001b[39m 3.3.3     \u001b[32m✔\u001b[39m \u001b[34mpurrr  \u001b[39m 0.3.4\n",
      "\u001b[32m✔\u001b[39m \u001b[34mtibble \u001b[39m 3.1.7     \u001b[32m✔\u001b[39m \u001b[34mdplyr  \u001b[39m 1.0.9\n",
      "\u001b[32m✔\u001b[39m \u001b[34mtidyr  \u001b[39m 1.2.0     \u001b[32m✔\u001b[39m \u001b[34mstringr\u001b[39m 1.4.0\n",
      "\u001b[32m✔\u001b[39m \u001b[34mreadr  \u001b[39m 1.4.0     \u001b[32m✔\u001b[39m \u001b[34mforcats\u001b[39m 0.5.1\n",
      "\n",
      "── \u001b[1mConflicts\u001b[22m ───────────────────────────────────────────────────────────────────────────────────────────────────────────────────────────────────────────────────────────────────────────── tidyverse_conflicts() ──\n",
      "\u001b[31m✖\u001b[39m \u001b[34mdplyr\u001b[39m::\u001b[32mfilter()\u001b[39m  masks \u001b[34mstats\u001b[39m::filter()\n",
      "\u001b[31m✖\u001b[39m \u001b[34mpurrr\u001b[39m::\u001b[32mflatten()\u001b[39m masks \u001b[34mjsonlite\u001b[39m::flatten()\n",
      "\u001b[31m✖\u001b[39m \u001b[34mdplyr\u001b[39m::\u001b[32mlag()\u001b[39m     masks \u001b[34mstats\u001b[39m::lag()\n",
      "\n",
      "Loading required package: Rcpp\n",
      "\n",
      "Loading 'brms' package (version 2.14.4). Useful instructions\n",
      "can be found by typing help('brms'). A more detailed introduction\n",
      "to the package is available through vignette('brms_overview').\n",
      "\n",
      "\n",
      "Attaching package: ‘brms’\n",
      "\n",
      "\n",
      "The following object is masked from ‘package:stats’:\n",
      "\n",
      "    ar\n",
      "\n",
      "\n"
     ]
    }
   ],
   "source": [
    "library(tidyverse)\n",
    "library(brms)"
   ]
  },
  {
   "cell_type": "code",
   "execution_count": 2,
   "id": "limiting-cooper",
   "metadata": {},
   "outputs": [
    {
     "name": "stderr",
     "output_type": "stream",
     "text": [
      "\n",
      "\u001b[36m──\u001b[39m \u001b[1mColumn specification\u001b[22m \u001b[36m───────────────────────────────────────────────────────────────────────────────────────────────────────────────────────────────────────────────────────────────────────────────────────────\u001b[39m\n",
      "cols(\n",
      "  Glottocode = \u001b[31mcol_character()\u001b[39m,\n",
      "  Language = \u001b[31mcol_character()\u001b[39m,\n",
      "  Genus = \u001b[31mcol_character()\u001b[39m,\n",
      "  Case_Marking = \u001b[32mcol_double()\u001b[39m,\n",
      "  Tight_Semantics = \u001b[32mcol_double()\u001b[39m,\n",
      "  Rigid_Order = \u001b[32mcol_double()\u001b[39m,\n",
      "  Verb_Middle = \u001b[32mcol_double()\u001b[39m\n",
      ")\n",
      "\n"
     ]
    }
   ],
   "source": [
    "data_cues <- read_csv(\"../data/data_cues.txt\")\n"
   ]
  },
  {
   "cell_type": "code",
   "execution_count": 3,
   "id": "serial-creek",
   "metadata": {},
   "outputs": [],
   "source": [
    "trees <- ape::read.tree(\"../data/posterior.tree\")\n",
    "tree <- phangorn::maxCladeCred(trees)"
   ]
  },
  {
   "cell_type": "code",
   "execution_count": 4,
   "id": "friendly-subcommittee",
   "metadata": {},
   "outputs": [],
   "source": [
    "\n",
    "tree_cor <- ape::vcv.phylo(tree, corr = TRUE)\n",
    "tree_cor <- tree_cor[data_cues$Language, data_cues$Language]\n"
   ]
  },
  {
   "cell_type": "code",
   "execution_count": 5,
   "id": "super-bennett",
   "metadata": {},
   "outputs": [],
   "source": [
    "## first we just do scaling\n",
    "\n",
    "data_cues <- data_cues %>%\n",
    "    mutate(\n",
    "        x1 = scale(Case_Marking)\n",
    "      , x2 = scale(Tight_Semantics)\n",
    "      , x3 = scale(Rigid_Order)\n",
    "      , x4 = scale(Verb_Middle))"
   ]
  },
  {
   "cell_type": "code",
   "execution_count": 6,
   "id": "authorized-snowboard",
   "metadata": {},
   "outputs": [
    {
     "data": {
      "text/html": [
       "<table class=\"dataframe\">\n",
       "<caption>A matrix: 4 × 4 of type dbl</caption>\n",
       "<thead>\n",
       "\t<tr><th></th><th scope=col>x1</th><th scope=col>x2</th><th scope=col>x3</th><th scope=col>x4</th></tr>\n",
       "</thead>\n",
       "<tbody>\n",
       "\t<tr><th scope=row>x1</th><td> 1.00</td><td> 0.35</td><td>-0.77</td><td>-0.19</td></tr>\n",
       "\t<tr><th scope=row>x2</th><td> 0.35</td><td> 1.00</td><td>-0.18</td><td>-0.37</td></tr>\n",
       "\t<tr><th scope=row>x3</th><td>-0.77</td><td>-0.18</td><td> 1.00</td><td> 0.18</td></tr>\n",
       "\t<tr><th scope=row>x4</th><td>-0.19</td><td>-0.37</td><td> 0.18</td><td> 1.00</td></tr>\n",
       "</tbody>\n",
       "</table>\n"
      ],
      "text/latex": [
       "A matrix: 4 × 4 of type dbl\n",
       "\\begin{tabular}{r|llll}\n",
       "  & x1 & x2 & x3 & x4\\\\\n",
       "\\hline\n",
       "\tx1 &  1.00 &  0.35 & -0.77 & -0.19\\\\\n",
       "\tx2 &  0.35 &  1.00 & -0.18 & -0.37\\\\\n",
       "\tx3 & -0.77 & -0.18 &  1.00 &  0.18\\\\\n",
       "\tx4 & -0.19 & -0.37 &  0.18 &  1.00\\\\\n",
       "\\end{tabular}\n"
      ],
      "text/markdown": [
       "\n",
       "A matrix: 4 × 4 of type dbl\n",
       "\n",
       "| <!--/--> | x1 | x2 | x3 | x4 |\n",
       "|---|---|---|---|---|\n",
       "| x1 |  1.00 |  0.35 | -0.77 | -0.19 |\n",
       "| x2 |  0.35 |  1.00 | -0.18 | -0.37 |\n",
       "| x3 | -0.77 | -0.18 |  1.00 |  0.18 |\n",
       "| x4 | -0.19 | -0.37 |  0.18 |  1.00 |\n",
       "\n"
      ],
      "text/plain": [
       "   x1    x2    x3    x4   \n",
       "x1  1.00  0.35 -0.77 -0.19\n",
       "x2  0.35  1.00 -0.18 -0.37\n",
       "x3 -0.77 -0.18  1.00  0.18\n",
       "x4 -0.19 -0.37  0.18  1.00"
      ]
     },
     "metadata": {},
     "output_type": "display_data"
    }
   ],
   "source": [
    "## the baseline correlations\n",
    "\n",
    "round(cor(data_cues[,8:11]), 2)"
   ]
  },
  {
   "cell_type": "code",
   "execution_count": 7,
   "id": "parental-banking",
   "metadata": {},
   "outputs": [],
   "source": [
    "\n",
    "rescale <- function(x, e = 0.0001) {\n",
    "    y = ifelse(x == 1, x - e, x)\n",
    "    ifelse(y == 0, y + e, y)\n",
    "}\n"
   ]
  },
  {
   "cell_type": "code",
   "execution_count": 8,
   "id": "valid-float",
   "metadata": {},
   "outputs": [],
   "source": [
    "data_cues_3 <- data_cues %>%\n",
    "    mutate(\n",
    "        x1 = rescale(Case_Marking)\n",
    "      , x2 = rescale(Tight_Semantics)\n",
    "      , x3 = rescale(Rigid_Order)\n",
    "      , x4 = rescale(Verb_Middle))\n"
   ]
  },
  {
   "cell_type": "code",
   "execution_count": 23,
   "id": "under-straight",
   "metadata": {},
   "outputs": [
    {
     "name": "stderr",
     "output_type": "stream",
     "text": [
      "Setting 'rescor' to FALSE by default for this model\n",
      "\n",
      "Warning message:\n",
      "“Specifying global priors for regression coefficients in multivariate models is deprecated. Please specify priors separately for each response variable.”\n",
      "Compiling Stan program...\n",
      "\n",
      "Start sampling\n",
      "\n"
     ]
    },
    {
     "data": {
      "text/plain": [
       " Family: MV(beta, beta, beta, beta) \n",
       "  Links: mu = logit; phi = identity\n",
       "         mu = logit; phi = identity\n",
       "         mu = logit; phi = identity\n",
       "         mu = logit; phi = identity \n",
       "Formula: x1 ~ 1 + (1 | p | gr(Language, cov = phylo)) \n",
       "         x2 ~ 1 + (1 | p | gr(Language, cov = phylo)) \n",
       "         x3 ~ 1 + (1 | p | gr(Language, cov = phylo)) \n",
       "         x4 ~ 1 + (1 | p | gr(Language, cov = phylo)) \n",
       "   Data: data_cues_3 (Number of observations: 30) \n",
       "Samples: 4 chains, each with iter = 4000; warmup = 1000; thin = 1;\n",
       "         total post-warmup samples = 12000\n",
       "\n",
       "Group-Level Effects: \n",
       "~Language (Number of levels: 30) \n",
       "                               Estimate Est.Error l-95% CI u-95% CI Rhat\n",
       "sd(x1_Intercept)                   1.53      0.37     0.88     2.33 1.00\n",
       "sd(x2_Intercept)                   0.25      0.14     0.02     0.56 1.00\n",
       "sd(x3_Intercept)                   1.55      0.26     1.02     2.06 1.00\n",
       "sd(x4_Intercept)                   2.80      0.41     2.00     3.62 1.00\n",
       "cor(x1_Intercept,x2_Intercept)     0.37      0.30    -0.35     0.85 1.00\n",
       "cor(x1_Intercept,x3_Intercept)    -0.74      0.14    -0.95    -0.41 1.00\n",
       "cor(x2_Intercept,x3_Intercept)    -0.16      0.31    -0.75     0.47 1.00\n",
       "cor(x1_Intercept,x4_Intercept)    -0.41      0.16    -0.68    -0.06 1.00\n",
       "cor(x2_Intercept,x4_Intercept)    -0.36      0.29    -0.85     0.32 1.00\n",
       "cor(x3_Intercept,x4_Intercept)     0.33      0.15     0.00     0.59 1.00\n",
       "                               Bulk_ESS Tail_ESS\n",
       "sd(x1_Intercept)                   2980     5035\n",
       "sd(x2_Intercept)                   1304     2955\n",
       "sd(x3_Intercept)                   1789     2719\n",
       "sd(x4_Intercept)                   2482     2977\n",
       "cor(x1_Intercept,x2_Intercept)     6583     6335\n",
       "cor(x1_Intercept,x3_Intercept)     3167     4082\n",
       "cor(x2_Intercept,x3_Intercept)     3616     3520\n",
       "cor(x1_Intercept,x4_Intercept)     4169     6533\n",
       "cor(x2_Intercept,x4_Intercept)     1221     1310\n",
       "cor(x3_Intercept,x4_Intercept)     8106     9716\n",
       "\n",
       "Population-Level Effects: \n",
       "             Estimate Est.Error l-95% CI u-95% CI Rhat Bulk_ESS Tail_ESS\n",
       "x1_Intercept    -1.17      0.46    -2.08    -0.26 1.00     5030     6536\n",
       "x2_Intercept    -1.53      0.12    -1.77    -1.29 1.00     6830     5387\n",
       "x3_Intercept     0.35      0.45    -0.55     1.24 1.00     6638     7301\n",
       "x4_Intercept    -0.36      0.69    -1.71     0.99 1.00     9376     8631\n",
       "\n",
       "Family Specific Parameters: \n",
       "       Estimate Est.Error l-95% CI u-95% CI Rhat Bulk_ESS Tail_ESS\n",
       "phi_x1     9.39      7.92     2.53    29.18 1.00     2623     3947\n",
       "phi_x2    73.83     47.57    28.38   206.68 1.00     1656     2503\n",
       "phi_x3    73.14     69.77     9.04   263.04 1.00      969     2625\n",
       "phi_x4    75.98     67.19     6.94   260.50 1.00     1479     2073\n",
       "\n",
       "Samples were drawn using sampling(NUTS). For each parameter, Bulk_ESS\n",
       "and Tail_ESS are effective sample size measures, and Rhat is the potential\n",
       "scale reduction factor on split chains (at convergence, Rhat = 1)."
      ]
     },
     "metadata": {},
     "output_type": "display_data"
    }
   ],
   "source": [
    "bm_2b <- brm(bf(mvbind(x1,x2,x3,x4) ~ 1\n",
    "              + (1|p|gr(Language, cov = phylo))) # phylo term with correlations\n",
    "         , prior = c(prior(normal(0, 1), class = Intercept) # prior Intercept\n",
    "                   , prior(normal(0, 1), class = sd, resp = x1) # priors phylo\n",
    "                   , prior(normal(0, 1), class = sd, resp = x2) # priors phylo\n",
    "                   , prior(normal(0, 1), class = sd, resp = x3) # priors phylo\n",
    "                   , prior(normal(0, 1), class = sd, resp = x4) # priors phylo\n",
    "                     )\n",
    "         , family = Beta\n",
    "         , data = data_cues_3\n",
    "         , data2 = list(phylo = tree_cor)\n",
    "         , cores = 4, chains = 4\n",
    "         , iter = 4000 # this model needs a lot more iters\n",
    "         , warmup = 1000, seed = 1234\n",
    "         , control = list(max_treedepth = 10\n",
    "                        , adapt_delta = 0.95))\n",
    "\n",
    "bm_2b"
   ]
  },
  {
   "cell_type": "code",
   "execution_count": 11,
   "id": "nutritional-philip",
   "metadata": {},
   "outputs": [
    {
     "name": "stderr",
     "output_type": "stream",
     "text": [
      "Setting 'rescor' to FALSE by default for this model\n",
      "\n",
      "Warning message:\n",
      "“Specifying global priors for regression coefficients in multivariate models is deprecated. Please specify priors separately for each response variable.”\n",
      "Compiling Stan program...\n",
      "\n",
      "Start sampling\n",
      "\n",
      "Warning message:\n",
      "“There were 5 divergent transitions after warmup. See\n",
      "https://mc-stan.org/misc/warnings.html#divergent-transitions-after-warmup\n",
      "to find out why this is a problem and how to eliminate them.”\n",
      "Warning message:\n",
      "“Examine the pairs() plot to diagnose sampling problems\n",
      "”\n",
      "Warning message:\n",
      "“There were 5 divergent transitions after warmup. Increasing adapt_delta above 0.95 may help. See http://mc-stan.org/misc/warnings.html#divergent-transitions-after-warmup”\n"
     ]
    },
    {
     "data": {
      "text/plain": [
       " Family: MV(beta, beta) \n",
       "  Links: mu = logit; phi = identity\n",
       "         mu = logit; phi = identity \n",
       "Formula: x1 ~ 1 + (1 | p | gr(Language, cov = phylo)) \n",
       "         x2 ~ 1 + (1 | p | gr(Language, cov = phylo)) \n",
       "   Data: data_cues_3 (Number of observations: 30) \n",
       "Samples: 4 chains, each with iter = 4000; warmup = 1000; thin = 1;\n",
       "         total post-warmup samples = 12000\n",
       "\n",
       "Group-Level Effects: \n",
       "~Language (Number of levels: 30) \n",
       "                               Estimate Est.Error l-95% CI u-95% CI Rhat\n",
       "sd(x1_Intercept)                   1.30      0.39     0.55     2.14 1.00\n",
       "sd(x2_Intercept)                   0.29      0.15     0.03     0.59 1.00\n",
       "cor(x1_Intercept,x2_Intercept)     0.45      0.35    -0.37     0.96 1.00\n",
       "                               Bulk_ESS Tail_ESS\n",
       "sd(x1_Intercept)                   2183     3263\n",
       "sd(x2_Intercept)                   1402     2924\n",
       "cor(x1_Intercept,x2_Intercept)     4516     3593\n",
       "\n",
       "Population-Level Effects: \n",
       "             Estimate Est.Error l-95% CI u-95% CI Rhat Bulk_ESS Tail_ESS\n",
       "x1_Intercept    -1.14      0.46    -2.06    -0.22 1.00     5350     6080\n",
       "x2_Intercept    -1.54      0.13    -1.79    -1.27 1.00     5531     6425\n",
       "\n",
       "Family Specific Parameters: \n",
       "       Estimate Est.Error l-95% CI u-95% CI Rhat Bulk_ESS Tail_ESS\n",
       "phi_x1     5.23      3.64     1.52    14.46 1.00     2334     3810\n",
       "phi_x2    85.19     58.28    29.56   250.16 1.00     1380     1699\n",
       "\n",
       "Samples were drawn using sampling(NUTS). For each parameter, Bulk_ESS\n",
       "and Tail_ESS are effective sample size measures, and Rhat is the potential\n",
       "scale reduction factor on split chains (at convergence, Rhat = 1)."
      ]
     },
     "metadata": {},
     "output_type": "display_data"
    }
   ],
   "source": [
    "bm_3_1 <- brm(bf(mvbind(x1,x2) ~ 1\n",
    "              + (1|p|gr(Language, cov = phylo))) # phylo term with correlations\n",
    "         , prior = c(prior(normal(0, 1), class = Intercept) # prior Intercept\n",
    "                   , prior(normal(0, 1), class = sd, resp = x1) # priors phylo\n",
    "                   , prior(normal(0, 1), class = sd, resp = x2) # priors phylo\n",
    "                     )\n",
    "         , family = Beta\n",
    "         , data = data_cues_3\n",
    "         , data2 = list(phylo = tree_cor)\n",
    "         , cores = 4, chains = 4\n",
    "         , iter = 4000 # this model needs a lot more iters\n",
    "         , warmup = 1000, seed = 1234\n",
    "         , control = list(max_treedepth = 10\n",
    "                        , adapt_delta = 0.95))\n",
    "\n",
    "bm_3_1"
   ]
  },
  {
   "cell_type": "code",
   "execution_count": 12,
   "id": "classical-modern",
   "metadata": {},
   "outputs": [
    {
     "name": "stderr",
     "output_type": "stream",
     "text": [
      "Setting 'rescor' to FALSE by default for this model\n",
      "\n",
      "Warning message:\n",
      "“Specifying global priors for regression coefficients in multivariate models is deprecated. Please specify priors separately for each response variable.”\n",
      "Compiling Stan program...\n",
      "\n",
      "Start sampling\n",
      "\n",
      "Warning message:\n",
      "“There were 8 divergent transitions after warmup. See\n",
      "https://mc-stan.org/misc/warnings.html#divergent-transitions-after-warmup\n",
      "to find out why this is a problem and how to eliminate them.”\n",
      "Warning message:\n",
      "“Examine the pairs() plot to diagnose sampling problems\n",
      "”\n",
      "Warning message:\n",
      "“There were 8 divergent transitions after warmup. Increasing adapt_delta above 0.95 may help. See http://mc-stan.org/misc/warnings.html#divergent-transitions-after-warmup”\n"
     ]
    },
    {
     "data": {
      "text/plain": [
       " Family: MV(beta, beta) \n",
       "  Links: mu = logit; phi = identity\n",
       "         mu = logit; phi = identity \n",
       "Formula: x1 ~ 1 + (1 | p | gr(Language, cov = phylo)) \n",
       "         x3 ~ 1 + (1 | p | gr(Language, cov = phylo)) \n",
       "   Data: data_cues_3 (Number of observations: 30) \n",
       "Samples: 4 chains, each with iter = 4000; warmup = 1000; thin = 1;\n",
       "         total post-warmup samples = 12000\n",
       "\n",
       "Group-Level Effects: \n",
       "~Language (Number of levels: 30) \n",
       "                               Estimate Est.Error l-95% CI u-95% CI Rhat\n",
       "sd(x1_Intercept)                   1.43      0.35     0.83     2.19 1.00\n",
       "sd(x3_Intercept)                   1.54      0.27     0.99     2.08 1.00\n",
       "cor(x1_Intercept,x3_Intercept)    -0.83      0.13    -0.99    -0.51 1.00\n",
       "                               Bulk_ESS Tail_ESS\n",
       "sd(x1_Intercept)                   3437     5168\n",
       "sd(x3_Intercept)                   1533     2836\n",
       "cor(x1_Intercept,x3_Intercept)     2478     4987\n",
       "\n",
       "Population-Level Effects: \n",
       "             Estimate Est.Error l-95% CI u-95% CI Rhat Bulk_ESS Tail_ESS\n",
       "x1_Intercept    -1.14      0.46    -2.03    -0.21 1.00     6073     7334\n",
       "x3_Intercept     0.30      0.45    -0.60     1.19 1.00     6772     8419\n",
       "\n",
       "Family Specific Parameters: \n",
       "       Estimate Est.Error l-95% CI u-95% CI Rhat Bulk_ESS Tail_ESS\n",
       "phi_x1     6.84      4.90     2.33    18.37 1.00     2920     3889\n",
       "phi_x3    64.17     63.17     8.12   235.77 1.01      777     1919\n",
       "\n",
       "Samples were drawn using sampling(NUTS). For each parameter, Bulk_ESS\n",
       "and Tail_ESS are effective sample size measures, and Rhat is the potential\n",
       "scale reduction factor on split chains (at convergence, Rhat = 1)."
      ]
     },
     "metadata": {},
     "output_type": "display_data"
    }
   ],
   "source": [
    "bm_3_2 <- brm(bf(mvbind(x1,x3) ~ 1\n",
    "              + (1|p|gr(Language, cov = phylo))) # phylo term with correlations\n",
    "         , prior = c(prior(normal(0, 1), class = Intercept) # prior Intercept\n",
    "                   , prior(normal(0, 1), class = sd, resp = x1) # priors phylo\n",
    "                   , prior(normal(0, 1), class = sd, resp = x3) # priors phylo\n",
    "                     )\n",
    "         , family = Beta\n",
    "         , data = data_cues_3\n",
    "         , data2 = list(phylo = tree_cor)\n",
    "         , cores = 4, chains = 4\n",
    "         , iter = 4000 # this model needs a lot more iters\n",
    "         , warmup = 1000, seed = 1234\n",
    "         , control = list(max_treedepth = 10\n",
    "                        , adapt_delta = 0.95))\n",
    "\n",
    "bm_3_2"
   ]
  },
  {
   "cell_type": "code",
   "execution_count": 13,
   "id": "twelve-contest",
   "metadata": {},
   "outputs": [
    {
     "name": "stderr",
     "output_type": "stream",
     "text": [
      "Setting 'rescor' to FALSE by default for this model\n",
      "\n",
      "Warning message:\n",
      "“Specifying global priors for regression coefficients in multivariate models is deprecated. Please specify priors separately for each response variable.”\n",
      "Compiling Stan program...\n",
      "\n",
      "Start sampling\n",
      "\n",
      "Warning message:\n",
      "“There were 6 divergent transitions after warmup. See\n",
      "https://mc-stan.org/misc/warnings.html#divergent-transitions-after-warmup\n",
      "to find out why this is a problem and how to eliminate them.”\n",
      "Warning message:\n",
      "“Examine the pairs() plot to diagnose sampling problems\n",
      "”\n",
      "Warning message:\n",
      "“There were 6 divergent transitions after warmup. Increasing adapt_delta above 0.95 may help. See http://mc-stan.org/misc/warnings.html#divergent-transitions-after-warmup”\n"
     ]
    },
    {
     "data": {
      "text/plain": [
       " Family: MV(beta, beta) \n",
       "  Links: mu = logit; phi = identity\n",
       "         mu = logit; phi = identity \n",
       "Formula: x1 ~ 1 + (1 | p | gr(Language, cov = phylo)) \n",
       "         x4 ~ 1 + (1 | p | gr(Language, cov = phylo)) \n",
       "   Data: data_cues_3 (Number of observations: 30) \n",
       "Samples: 4 chains, each with iter = 4000; warmup = 1000; thin = 1;\n",
       "         total post-warmup samples = 12000\n",
       "\n",
       "Group-Level Effects: \n",
       "~Language (Number of levels: 30) \n",
       "                               Estimate Est.Error l-95% CI u-95% CI Rhat\n",
       "sd(x1_Intercept)                   1.34      0.41     0.57     2.19 1.00\n",
       "sd(x4_Intercept)                   2.74      0.45     1.77     3.56 1.01\n",
       "cor(x1_Intercept,x4_Intercept)    -0.44      0.20    -0.78    -0.02 1.00\n",
       "                               Bulk_ESS Tail_ESS\n",
       "sd(x1_Intercept)                   1914     2371\n",
       "sd(x4_Intercept)                   1084      856\n",
       "cor(x1_Intercept,x4_Intercept)     1715     2297\n",
       "\n",
       "Population-Level Effects: \n",
       "             Estimate Est.Error l-95% CI u-95% CI Rhat Bulk_ESS Tail_ESS\n",
       "x1_Intercept    -1.17      0.45    -2.05    -0.27 1.00     6074     7551\n",
       "x4_Intercept    -0.30      0.68    -1.63     1.03 1.00     6800     7491\n",
       "\n",
       "Family Specific Parameters: \n",
       "       Estimate Est.Error l-95% CI u-95% CI Rhat Bulk_ESS Tail_ESS\n",
       "phi_x1     6.47      5.45     1.58    19.58 1.00     1815     3091\n",
       "phi_x4    68.56     64.40     3.63   243.27 1.01      705      761\n",
       "\n",
       "Samples were drawn using sampling(NUTS). For each parameter, Bulk_ESS\n",
       "and Tail_ESS are effective sample size measures, and Rhat is the potential\n",
       "scale reduction factor on split chains (at convergence, Rhat = 1)."
      ]
     },
     "metadata": {},
     "output_type": "display_data"
    }
   ],
   "source": [
    "bm_3_3 <- brm(bf(mvbind(x1,x4) ~ 1\n",
    "              + (1|p|gr(Language, cov = phylo))) # phylo term with correlations\n",
    "         , prior = c(prior(normal(0, 1), class = Intercept) # prior Intercept\n",
    "                   , prior(normal(0, 1), class = sd, resp = x1) # priors phylo\n",
    "                   , prior(normal(0, 1), class = sd, resp = x4) # priors phylo\n",
    "                     )\n",
    "         , family = Beta\n",
    "         , data = data_cues_3\n",
    "         , data2 = list(phylo = tree_cor)\n",
    "         , cores = 4, chains = 4\n",
    "         , iter = 4000 # this model needs a lot more iters\n",
    "         , warmup = 1000, seed = 1234\n",
    "         , control = list(max_treedepth = 10\n",
    "                        , adapt_delta = 0.95))\n",
    "\n",
    "bm_3_3"
   ]
  },
  {
   "cell_type": "code",
   "execution_count": 14,
   "id": "adopted-female",
   "metadata": {},
   "outputs": [
    {
     "name": "stderr",
     "output_type": "stream",
     "text": [
      "Setting 'rescor' to FALSE by default for this model\n",
      "\n",
      "Warning message:\n",
      "“Specifying global priors for regression coefficients in multivariate models is deprecated. Please specify priors separately for each response variable.”\n",
      "Compiling Stan program...\n",
      "\n",
      "Start sampling\n",
      "\n",
      "Warning message:\n",
      "“There were 229 divergent transitions after warmup. See\n",
      "https://mc-stan.org/misc/warnings.html#divergent-transitions-after-warmup\n",
      "to find out why this is a problem and how to eliminate them.”\n",
      "Warning message:\n",
      "“There were 1 chains where the estimated Bayesian Fraction of Missing Information was low. See\n",
      "https://mc-stan.org/misc/warnings.html#bfmi-low”\n",
      "Warning message:\n",
      "“Examine the pairs() plot to diagnose sampling problems\n",
      "”\n",
      "Warning message:\n",
      "“Bulk Effective Samples Size (ESS) is too low, indicating posterior means and medians may be unreliable.\n",
      "Running the chains for more iterations may help. See\n",
      "https://mc-stan.org/misc/warnings.html#bulk-ess”\n",
      "Warning message:\n",
      "“Tail Effective Samples Size (ESS) is too low, indicating posterior variances and tail quantiles may be unreliable.\n",
      "Running the chains for more iterations may help. See\n",
      "https://mc-stan.org/misc/warnings.html#tail-ess”\n",
      "Warning message:\n",
      "“There were 229 divergent transitions after warmup. Increasing adapt_delta above 0.95 may help. See http://mc-stan.org/misc/warnings.html#divergent-transitions-after-warmup”\n"
     ]
    },
    {
     "data": {
      "text/plain": [
       " Family: MV(beta, beta) \n",
       "  Links: mu = logit; phi = identity\n",
       "         mu = logit; phi = identity \n",
       "Formula: x2 ~ 1 + (1 | p | gr(Language, cov = phylo)) \n",
       "         x3 ~ 1 + (1 | p | gr(Language, cov = phylo)) \n",
       "   Data: data_cues_3 (Number of observations: 30) \n",
       "Samples: 4 chains, each with iter = 4000; warmup = 1000; thin = 1;\n",
       "         total post-warmup samples = 12000\n",
       "\n",
       "Group-Level Effects: \n",
       "~Language (Number of levels: 30) \n",
       "                               Estimate Est.Error l-95% CI u-95% CI Rhat\n",
       "sd(x2_Intercept)                   0.25      0.16     0.01     0.58 1.00\n",
       "sd(x3_Intercept)                   1.54      0.32     0.86     2.12 1.01\n",
       "cor(x2_Intercept,x3_Intercept)    -0.25      0.39    -0.93     0.60 1.01\n",
       "                               Bulk_ESS Tail_ESS\n",
       "sd(x2_Intercept)                    956     3320\n",
       "sd(x3_Intercept)                    779     1401\n",
       "cor(x2_Intercept,x3_Intercept)      792     1093\n",
       "\n",
       "Population-Level Effects: \n",
       "             Estimate Est.Error l-95% CI u-95% CI Rhat Bulk_ESS Tail_ESS\n",
       "x2_Intercept    -1.56      0.12    -1.81    -1.31 1.01     1011      644\n",
       "x3_Intercept     0.46      0.49    -0.51     1.41 1.00     4827     5007\n",
       "\n",
       "Family Specific Parameters: \n",
       "       Estimate Est.Error l-95% CI u-95% CI Rhat Bulk_ESS Tail_ESS\n",
       "phi_x2    75.39     54.24    26.85   233.15 1.00     1040     1831\n",
       "phi_x3    55.79     68.16     4.88   273.48 1.02      272      144\n",
       "\n",
       "Samples were drawn using sampling(NUTS). For each parameter, Bulk_ESS\n",
       "and Tail_ESS are effective sample size measures, and Rhat is the potential\n",
       "scale reduction factor on split chains (at convergence, Rhat = 1)."
      ]
     },
     "metadata": {},
     "output_type": "display_data"
    }
   ],
   "source": [
    "bm_3_4 <- brm(bf(mvbind(x2,x3) ~ 1\n",
    "              + (1|p|gr(Language, cov = phylo))) # phylo term with correlations\n",
    "         , prior = c(prior(normal(0, 1), class = Intercept) # prior Intercept\n",
    "                   , prior(normal(0, 1), class = sd, resp = x2) # priors phylo\n",
    "                   , prior(normal(0, 1), class = sd, resp = x3) # priors phylo\n",
    "                     )\n",
    "         , family = Beta\n",
    "         , data = data_cues_3\n",
    "         , data2 = list(phylo = tree_cor)\n",
    "         , cores = 4, chains = 4\n",
    "         , iter = 4000 # this model needs a lot more iters\n",
    "         , warmup = 1000, seed = 1234\n",
    "         , control = list(max_treedepth = 10\n",
    "                        , adapt_delta = 0.95))\n",
    "\n",
    "bm_3_4"
   ]
  },
  {
   "cell_type": "code",
   "execution_count": 15,
   "id": "explicit-calcium",
   "metadata": {},
   "outputs": [
    {
     "name": "stderr",
     "output_type": "stream",
     "text": [
      "Setting 'rescor' to FALSE by default for this model\n",
      "\n",
      "Warning message:\n",
      "“Specifying global priors for regression coefficients in multivariate models is deprecated. Please specify priors separately for each response variable.”\n",
      "Compiling Stan program...\n",
      "\n",
      "Start sampling\n",
      "\n",
      "Warning message:\n",
      "“There were 42 divergent transitions after warmup. See\n",
      "https://mc-stan.org/misc/warnings.html#divergent-transitions-after-warmup\n",
      "to find out why this is a problem and how to eliminate them.”\n",
      "Warning message:\n",
      "“Examine the pairs() plot to diagnose sampling problems\n",
      "”\n",
      "Warning message:\n",
      "“There were 42 divergent transitions after warmup. Increasing adapt_delta above 0.95 may help. See http://mc-stan.org/misc/warnings.html#divergent-transitions-after-warmup”\n"
     ]
    },
    {
     "data": {
      "text/plain": [
       " Family: MV(beta, beta) \n",
       "  Links: mu = logit; phi = identity\n",
       "         mu = logit; phi = identity \n",
       "Formula: x2 ~ 1 + (1 | p | gr(Language, cov = phylo)) \n",
       "         x4 ~ 1 + (1 | p | gr(Language, cov = phylo)) \n",
       "   Data: data_cues_3 (Number of observations: 30) \n",
       "Samples: 4 chains, each with iter = 4000; warmup = 1000; thin = 1;\n",
       "         total post-warmup samples = 12000\n",
       "\n",
       "Group-Level Effects: \n",
       "~Language (Number of levels: 30) \n",
       "                               Estimate Est.Error l-95% CI u-95% CI Rhat\n",
       "sd(x2_Intercept)                   0.29      0.15     0.03     0.57 1.00\n",
       "sd(x4_Intercept)                   2.65      0.55     1.20     3.58 1.00\n",
       "cor(x2_Intercept,x4_Intercept)    -0.43      0.29    -0.94     0.19 1.00\n",
       "                               Bulk_ESS Tail_ESS\n",
       "sd(x2_Intercept)                   1250     2175\n",
       "sd(x4_Intercept)                    760      530\n",
       "cor(x2_Intercept,x4_Intercept)     1023     1359\n",
       "\n",
       "Population-Level Effects: \n",
       "             Estimate Est.Error l-95% CI u-95% CI Rhat Bulk_ESS Tail_ESS\n",
       "x2_Intercept    -1.55      0.12    -1.79    -1.30 1.00     6153     6360\n",
       "x4_Intercept    -0.21      0.68    -1.55     1.12 1.00     7018     7824\n",
       "\n",
       "Family Specific Parameters: \n",
       "       Estimate Est.Error l-95% CI u-95% CI Rhat Bulk_ESS Tail_ESS\n",
       "phi_x2    85.81     58.48    30.24   244.75 1.00     1428     2970\n",
       "phi_x4    58.51     59.63     1.42   227.18 1.00      625      512\n",
       "\n",
       "Samples were drawn using sampling(NUTS). For each parameter, Bulk_ESS\n",
       "and Tail_ESS are effective sample size measures, and Rhat is the potential\n",
       "scale reduction factor on split chains (at convergence, Rhat = 1)."
      ]
     },
     "metadata": {},
     "output_type": "display_data"
    }
   ],
   "source": [
    "bm_3_5 <- brm(bf(mvbind(x2,x4) ~ 1\n",
    "              + (1|p|gr(Language, cov = phylo))) # phylo term with correlations\n",
    "         , prior = c(prior(normal(0, 1), class = Intercept) # prior Intercept\n",
    "                   , prior(normal(0, 1), class = sd, resp = x2) # priors phylo\n",
    "                   , prior(normal(0, 1), class = sd, resp = x4) # priors phylo\n",
    "                     )\n",
    "         , family = Beta\n",
    "         , data = data_cues_3\n",
    "         , data2 = list(phylo = tree_cor)\n",
    "         , cores = 4, chains = 4\n",
    "         , iter = 4000 # this model needs a lot more iters\n",
    "         , warmup = 1000, seed = 1234\n",
    "         , control = list(max_treedepth = 10\n",
    "                        , adapt_delta = 0.95))\n",
    "\n",
    "bm_3_5"
   ]
  },
  {
   "cell_type": "code",
   "execution_count": 16,
   "id": "august-stream",
   "metadata": {},
   "outputs": [
    {
     "name": "stderr",
     "output_type": "stream",
     "text": [
      "Setting 'rescor' to FALSE by default for this model\n",
      "\n",
      "Warning message:\n",
      "“Specifying global priors for regression coefficients in multivariate models is deprecated. Please specify priors separately for each response variable.”\n",
      "Compiling Stan program...\n",
      "\n",
      "Start sampling\n",
      "\n",
      "Warning message:\n",
      "“There were 10 divergent transitions after warmup. See\n",
      "https://mc-stan.org/misc/warnings.html#divergent-transitions-after-warmup\n",
      "to find out why this is a problem and how to eliminate them.”\n",
      "Warning message:\n",
      "“There were 2 chains where the estimated Bayesian Fraction of Missing Information was low. See\n",
      "https://mc-stan.org/misc/warnings.html#bfmi-low”\n",
      "Warning message:\n",
      "“Examine the pairs() plot to diagnose sampling problems\n",
      "”\n",
      "Warning message:\n",
      "“There were 10 divergent transitions after warmup. Increasing adapt_delta above 0.95 may help. See http://mc-stan.org/misc/warnings.html#divergent-transitions-after-warmup”\n"
     ]
    },
    {
     "data": {
      "text/plain": [
       " Family: MV(beta, beta) \n",
       "  Links: mu = logit; phi = identity\n",
       "         mu = logit; phi = identity \n",
       "Formula: x3 ~ 1 + (1 | p | gr(Language, cov = phylo)) \n",
       "         x4 ~ 1 + (1 | p | gr(Language, cov = phylo)) \n",
       "   Data: data_cues_3 (Number of observations: 30) \n",
       "Samples: 4 chains, each with iter = 4000; warmup = 1000; thin = 1;\n",
       "         total post-warmup samples = 12000\n",
       "\n",
       "Group-Level Effects: \n",
       "~Language (Number of levels: 30) \n",
       "                               Estimate Est.Error l-95% CI u-95% CI Rhat\n",
       "sd(x3_Intercept)                   1.59      0.28     1.03     2.15 1.00\n",
       "sd(x4_Intercept)                   2.77      0.45     1.81     3.61 1.01\n",
       "cor(x3_Intercept,x4_Intercept)     0.38      0.16     0.05     0.65 1.00\n",
       "                               Bulk_ESS Tail_ESS\n",
       "sd(x3_Intercept)                   1210     1872\n",
       "sd(x4_Intercept)                   1260     1168\n",
       "cor(x3_Intercept,x4_Intercept)     3268     4944\n",
       "\n",
       "Population-Level Effects: \n",
       "             Estimate Est.Error l-95% CI u-95% CI Rhat Bulk_ESS Tail_ESS\n",
       "x3_Intercept     0.52      0.47    -0.42     1.44 1.00     3339     4942\n",
       "x4_Intercept    -0.24      0.67    -1.56     1.10 1.00     4672     6591\n",
       "\n",
       "Family Specific Parameters: \n",
       "       Estimate Est.Error l-95% CI u-95% CI Rhat Bulk_ESS Tail_ESS\n",
       "phi_x3    71.45     73.10     8.17   269.79 1.00      686     1644\n",
       "phi_x4    72.54     68.70     4.45   252.99 1.01      839      944\n",
       "\n",
       "Samples were drawn using sampling(NUTS). For each parameter, Bulk_ESS\n",
       "and Tail_ESS are effective sample size measures, and Rhat is the potential\n",
       "scale reduction factor on split chains (at convergence, Rhat = 1)."
      ]
     },
     "metadata": {},
     "output_type": "display_data"
    }
   ],
   "source": [
    "bm_3_6 <- brm(bf(mvbind(x3,x4) ~ 1\n",
    "              + (1|p|gr(Language, cov = phylo))) # phylo term with correlations\n",
    "         , prior = c(prior(normal(0, 1), class = Intercept) # prior Intercept\n",
    "                   , prior(normal(0, 1), class = sd, resp = x3) # priors phylo\n",
    "                   , prior(normal(0, 1), class = sd, resp = x4) # priors phylo\n",
    "                     )\n",
    "         , family = Beta\n",
    "         , data = data_cues_3\n",
    "         , data2 = list(phylo = tree_cor)\n",
    "         , cores = 4, chains = 4\n",
    "         , iter = 4000 # this model needs a lot more iters\n",
    "         , warmup = 1000, seed = 1234\n",
    "         , control = list(max_treedepth = 10\n",
    "                        , adapt_delta = 0.95))\n",
    "\n",
    "bm_3_6"
   ]
  },
  {
   "cell_type": "code",
   "execution_count": 18,
   "id": "toxic-thomas",
   "metadata": {},
   "outputs": [
    {
     "name": "stderr",
     "output_type": "stream",
     "text": [
      "Setting 'rescor' to FALSE by default for this model\n",
      "\n",
      "Warning message:\n",
      "“Specifying global priors for regression coefficients in multivariate models is deprecated. Please specify priors separately for each response variable.”\n",
      "Compiling Stan program...\n",
      "\n",
      "Start sampling\n",
      "\n",
      "Warning message:\n",
      "“There were 25 divergent transitions after warmup. See\n",
      "https://mc-stan.org/misc/warnings.html#divergent-transitions-after-warmup\n",
      "to find out why this is a problem and how to eliminate them.”\n",
      "Warning message:\n",
      "“Examine the pairs() plot to diagnose sampling problems\n",
      "”\n",
      "Warning message:\n",
      "“There were 25 divergent transitions after warmup. Increasing adapt_delta above 0.95 may help. See http://mc-stan.org/misc/warnings.html#divergent-transitions-after-warmup”\n"
     ]
    },
    {
     "data": {
      "text/plain": [
       " Family: MV(beta, beta) \n",
       "  Links: mu = logit; phi = identity\n",
       "         mu = logit; phi = identity \n",
       "Formula: x1 ~ x4 + (1 | p | gr(Language, cov = phylo)) \n",
       "         x3 ~ x4 + (1 | p | gr(Language, cov = phylo)) \n",
       "   Data: data_cues_3 (Number of observations: 30) \n",
       "Samples: 4 chains, each with iter = 4000; warmup = 1000; thin = 1;\n",
       "         total post-warmup samples = 12000\n",
       "\n",
       "Group-Level Effects: \n",
       "~Language (Number of levels: 30) \n",
       "                               Estimate Est.Error l-95% CI u-95% CI Rhat\n",
       "sd(x1_Intercept)                   1.43      0.36     0.80     2.22 1.00\n",
       "sd(x3_Intercept)                   1.49      0.25     1.00     2.00 1.00\n",
       "cor(x1_Intercept,x3_Intercept)    -0.77      0.15    -0.98    -0.42 1.00\n",
       "                               Bulk_ESS Tail_ESS\n",
       "sd(x1_Intercept)                   2635     4447\n",
       "sd(x3_Intercept)                   1799     3107\n",
       "cor(x1_Intercept,x3_Intercept)     2139     3910\n",
       "\n",
       "Population-Level Effects: \n",
       "             Estimate Est.Error l-95% CI u-95% CI Rhat Bulk_ESS Tail_ESS\n",
       "x1_Intercept    -0.04      0.73    -1.41     1.48 1.00     4916     5520\n",
       "x3_Intercept    -0.62      0.64    -1.90     0.62 1.00     6081     7173\n",
       "x1_x4           -2.00      1.01    -4.11    -0.15 1.00     4339     5002\n",
       "x3_x4            1.69      0.81     0.11     3.29 1.00     5724     7046\n",
       "\n",
       "Family Specific Parameters: \n",
       "       Estimate Est.Error l-95% CI u-95% CI Rhat Bulk_ESS Tail_ESS\n",
       "phi_x1     9.62      8.80     2.50    31.27 1.00     2104     3310\n",
       "phi_x3    71.85     66.82     9.36   258.33 1.01      875     1543\n",
       "\n",
       "Samples were drawn using sampling(NUTS). For each parameter, Bulk_ESS\n",
       "and Tail_ESS are effective sample size measures, and Rhat is the potential\n",
       "scale reduction factor on split chains (at convergence, Rhat = 1)."
      ]
     },
     "metadata": {},
     "output_type": "display_data"
    }
   ],
   "source": [
    "bm_4_1 <- brm(bf(mvbind(x1,x3) ~ x4\n",
    "              + (1|p|gr(Language, cov = phylo))) # phylo term with correlations\n",
    "         , prior = c(prior(normal(0, 1), class = Intercept) # prior Intercept\n",
    "                   , prior(normal(0, 1), class = sd, resp = x1) # priors phylo                     \n",
    "                   , prior(normal(0, 1), class = sd, resp = x3) # priors phylo\n",
    "                     )\n",
    "         , family = Beta\n",
    "         , data = data_cues_3\n",
    "         , data2 = list(phylo = tree_cor)\n",
    "         , cores = 4, chains = 4\n",
    "         , iter = 4000 # this model needs a lot more iters\n",
    "         , warmup = 1000, seed = 1234\n",
    "         , control = list(max_treedepth = 10\n",
    "                        , adapt_delta = 0.95))\n",
    "\n",
    "bm_4_1"
   ]
  },
  {
   "cell_type": "code",
   "execution_count": 19,
   "id": "suited-gentleman",
   "metadata": {},
   "outputs": [
    {
     "name": "stderr",
     "output_type": "stream",
     "text": [
      "Setting 'rescor' to FALSE by default for this model\n",
      "\n",
      "Warning message:\n",
      "“Specifying global priors for regression coefficients in multivariate models is deprecated. Please specify priors separately for each response variable.”\n",
      "Compiling Stan program...\n",
      "\n",
      "Start sampling\n",
      "\n",
      "Warning message:\n",
      "“There were 30 divergent transitions after warmup. See\n",
      "https://mc-stan.org/misc/warnings.html#divergent-transitions-after-warmup\n",
      "to find out why this is a problem and how to eliminate them.”\n",
      "Warning message:\n",
      "“Examine the pairs() plot to diagnose sampling problems\n",
      "”\n",
      "Warning message:\n",
      "“There were 30 divergent transitions after warmup. Increasing adapt_delta above 0.95 may help. See http://mc-stan.org/misc/warnings.html#divergent-transitions-after-warmup”\n"
     ]
    },
    {
     "data": {
      "text/plain": [
       " Family: MV(beta, beta) \n",
       "  Links: mu = logit; phi = identity\n",
       "         mu = logit; phi = identity \n",
       "Formula: x1 ~ x3 + (1 | p | gr(Language, cov = phylo)) \n",
       "         x4 ~ x3 + (1 | p | gr(Language, cov = phylo)) \n",
       "   Data: data_cues_3 (Number of observations: 30) \n",
       "Samples: 4 chains, each with iter = 4000; warmup = 1000; thin = 1;\n",
       "         total post-warmup samples = 12000\n",
       "\n",
       "Group-Level Effects: \n",
       "~Language (Number of levels: 30) \n",
       "                               Estimate Est.Error l-95% CI u-95% CI Rhat\n",
       "sd(x1_Intercept)                   0.79      0.50     0.04     1.79 1.01\n",
       "sd(x4_Intercept)                   2.69      0.38     1.96     3.48 1.00\n",
       "cor(x1_Intercept,x4_Intercept)    -0.31      0.34    -0.91     0.56 1.01\n",
       "                               Bulk_ESS Tail_ESS\n",
       "sd(x1_Intercept)                    666     2178\n",
       "sd(x4_Intercept)                   1958     2478\n",
       "cor(x1_Intercept,x4_Intercept)      548      574\n",
       "\n",
       "Population-Level Effects: \n",
       "             Estimate Est.Error l-95% CI u-95% CI Rhat Bulk_ESS Tail_ESS\n",
       "x1_Intercept     1.50      0.71     0.24     3.07 1.00     3177     3589\n",
       "x4_Intercept    -2.80      1.32    -5.42    -0.26 1.00     4493     5886\n",
       "x1_x3           -4.65      1.07    -7.02    -2.75 1.00     2567     3236\n",
       "x4_x3            4.08      1.81     0.57     7.63 1.00     4103     4720\n",
       "\n",
       "Family Specific Parameters: \n",
       "       Estimate Est.Error l-95% CI u-95% CI Rhat Bulk_ESS Tail_ESS\n",
       "phi_x1     9.33     10.10     2.27    35.96 1.01      763     1837\n",
       "phi_x4    80.71     68.54     8.71   269.92 1.00     1105     2419\n",
       "\n",
       "Samples were drawn using sampling(NUTS). For each parameter, Bulk_ESS\n",
       "and Tail_ESS are effective sample size measures, and Rhat is the potential\n",
       "scale reduction factor on split chains (at convergence, Rhat = 1)."
      ]
     },
     "metadata": {},
     "output_type": "display_data"
    }
   ],
   "source": [
    "bm_4_2 <- brm(bf(mvbind(x1,x4) ~ x3\n",
    "              + (1|p|gr(Language, cov = phylo))) # phylo term with correlations\n",
    "         , prior = c(prior(normal(0, 1), class = Intercept) # prior Intercept\n",
    "                   , prior(normal(0, 1), class = sd, resp = x1) # priors phylo                     \n",
    "                   , prior(normal(0, 1), class = sd, resp = x4) # priors phylo\n",
    "                     )\n",
    "         , family = Beta\n",
    "         , data = data_cues_3\n",
    "         , data2 = list(phylo = tree_cor)\n",
    "         , cores = 4, chains = 4\n",
    "         , iter = 4000 # this model needs a lot more iters\n",
    "         , warmup = 1000, seed = 1234\n",
    "         , control = list(max_treedepth = 10\n",
    "                        , adapt_delta = 0.95))\n",
    "\n",
    "bm_4_2"
   ]
  },
  {
   "cell_type": "code",
   "execution_count": 20,
   "id": "seven-trance",
   "metadata": {},
   "outputs": [
    {
     "name": "stderr",
     "output_type": "stream",
     "text": [
      "Setting 'rescor' to FALSE by default for this model\n",
      "\n",
      "Warning message:\n",
      "“Specifying global priors for regression coefficients in multivariate models is deprecated. Please specify priors separately for each response variable.”\n",
      "Compiling Stan program...\n",
      "\n",
      "Start sampling\n",
      "\n",
      "Warning message:\n",
      "“There were 3 divergent transitions after warmup. See\n",
      "https://mc-stan.org/misc/warnings.html#divergent-transitions-after-warmup\n",
      "to find out why this is a problem and how to eliminate them.”\n",
      "Warning message:\n",
      "“Examine the pairs() plot to diagnose sampling problems\n",
      "”\n",
      "Warning message:\n",
      "“There were 3 divergent transitions after warmup. Increasing adapt_delta above 0.95 may help. See http://mc-stan.org/misc/warnings.html#divergent-transitions-after-warmup”\n"
     ]
    },
    {
     "data": {
      "text/plain": [
       " Family: MV(beta, beta) \n",
       "  Links: mu = logit; phi = identity\n",
       "         mu = logit; phi = identity \n",
       "Formula: x3 ~ x1 + (1 | p | gr(Language, cov = phylo)) \n",
       "         x4 ~ x1 + (1 | p | gr(Language, cov = phylo)) \n",
       "   Data: data_cues_3 (Number of observations: 30) \n",
       "Samples: 4 chains, each with iter = 4000; warmup = 1000; thin = 1;\n",
       "         total post-warmup samples = 12000\n",
       "\n",
       "Group-Level Effects: \n",
       "~Language (Number of levels: 30) \n",
       "                               Estimate Est.Error l-95% CI u-95% CI Rhat\n",
       "sd(x3_Intercept)                   1.18      0.27     0.58     1.68 1.01\n",
       "sd(x4_Intercept)                   2.69      0.39     1.95     3.46 1.00\n",
       "cor(x3_Intercept,x4_Intercept)     0.20      0.19    -0.18     0.53 1.00\n",
       "                               Bulk_ESS Tail_ESS\n",
       "sd(x3_Intercept)                   1118     1272\n",
       "sd(x4_Intercept)                   1800     2404\n",
       "cor(x3_Intercept,x4_Intercept)     3416     4505\n",
       "\n",
       "Population-Level Effects: \n",
       "             Estimate Est.Error l-95% CI u-95% CI Rhat Bulk_ESS Tail_ESS\n",
       "x3_Intercept     1.52      0.44     0.63     2.38 1.00     4560     6415\n",
       "x4_Intercept     0.83      0.80    -0.73     2.41 1.00     4799     6462\n",
       "x3_x1           -3.78      0.82    -5.43    -2.17 1.00     5358     6983\n",
       "x4_x1           -4.14      1.71    -7.52    -0.77 1.00     4147     5878\n",
       "\n",
       "Family Specific Parameters: \n",
       "       Estimate Est.Error l-95% CI u-95% CI Rhat Bulk_ESS Tail_ESS\n",
       "phi_x3    65.62     63.59     7.46   237.69 1.01      759     1258\n",
       "phi_x4    80.46     67.78     7.77   270.18 1.00     1105     1739\n",
       "\n",
       "Samples were drawn using sampling(NUTS). For each parameter, Bulk_ESS\n",
       "and Tail_ESS are effective sample size measures, and Rhat is the potential\n",
       "scale reduction factor on split chains (at convergence, Rhat = 1)."
      ]
     },
     "metadata": {},
     "output_type": "display_data"
    }
   ],
   "source": [
    "bm_4_3 <- brm(bf(mvbind(x3,x4) ~ x1\n",
    "              + (1|p|gr(Language, cov = phylo))) # phylo term with correlations\n",
    "         , prior = c(prior(normal(0, 1), class = Intercept) # prior Intercept\n",
    "                   , prior(normal(0, 1), class = sd, resp = x3) # priors phylo                     \n",
    "                   , prior(normal(0, 1), class = sd, resp = x4) # priors phylo\n",
    "                     )\n",
    "         , family = Beta\n",
    "         , data = data_cues_3\n",
    "         , data2 = list(phylo = tree_cor)\n",
    "         , cores = 4, chains = 4\n",
    "         , iter = 4000 # this model needs a lot more iters\n",
    "         , warmup = 1000, seed = 1234\n",
    "         , control = list(max_treedepth = 10\n",
    "                        , adapt_delta = 0.95))\n",
    "\n",
    "bm_4_3"
   ]
  },
  {
   "cell_type": "code",
   "execution_count": null,
   "id": "massive-report",
   "metadata": {},
   "outputs": [],
   "source": []
  }
 ],
 "metadata": {
  "kernelspec": {
   "display_name": "R",
   "language": "R",
   "name": "ir"
  },
  "language_info": {
   "codemirror_mode": "r",
   "file_extension": ".r",
   "mimetype": "text/x-r-source",
   "name": "R",
   "pygments_lexer": "r",
   "version": "4.0.4"
  },
  "varInspector": {
   "cols": {
    "lenName": 16,
    "lenType": 16,
    "lenVar": 40
   },
   "kernels_config": {
    "python": {
     "delete_cmd_postfix": "",
     "delete_cmd_prefix": "del ",
     "library": "var_list.py",
     "varRefreshCmd": "print(var_dic_list())"
    },
    "r": {
     "delete_cmd_postfix": ") ",
     "delete_cmd_prefix": "rm(",
     "library": "var_list.r",
     "varRefreshCmd": "cat(var_dic_list()) "
    }
   },
   "types_to_exclude": [
    "module",
    "function",
    "builtin_function_or_method",
    "instance",
    "_Feature"
   ],
   "window_display": false
  }
 },
 "nbformat": 4,
 "nbformat_minor": 5
}
